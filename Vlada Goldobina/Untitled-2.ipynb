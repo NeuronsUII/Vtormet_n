{
 "cells": [
  {
   "cell_type": "code",
   "execution_count": 1,
   "metadata": {},
   "outputs": [
    {
     "name": "stdout",
     "output_type": "stream",
     "text": [
      "True\n",
      "1\n",
      "NVIDIA GeForce GTX 1080 Ti\n"
     ]
    }
   ],
   "source": [
    "#Проверка наличия GPU\n",
    "\n",
    "import torch\n",
    "#torch.cuda.empty_cache()  # Очистка кэша GPU\n",
    "print(torch.cuda.is_available())  # Если True, GPU доступен\n",
    "print(torch.cuda.device_count())  # Количество доступных GPU\n",
    "print(torch.cuda.get_device_name(0))  # Имя первого GPU"
   ]
  },
  {
   "cell_type": "code",
   "execution_count": 2,
   "metadata": {},
   "outputs": [],
   "source": [
    "import os\n",
    "import cv2\n",
    "import numpy as np \n",
    "import gdown\n",
    "import yaml\n",
    "import shutil\n",
    "from sklearn.model_selection import train_test_split\n",
    "from PIL import Image\n",
    "import matplotlib.pyplot as plt"
   ]
  },
  {
   "cell_type": "code",
   "execution_count": 3,
   "metadata": {},
   "outputs": [
    {
     "data": {
      "text/plain": [
       "['data.yaml', 'train', 'val']"
      ]
     },
     "execution_count": 3,
     "metadata": {},
     "output_type": "execute_result"
    }
   ],
   "source": [
    "#%gdown.download('https://drive.google.com/drive/folders/1PagxEnmJnRG39XY71HlCG_r6UYKrH8zY', None, quiet=True)\n",
    "\n",
    "os.listdir(dataset_directory)"
   ]
  },
  {
   "cell_type": "code",
   "execution_count": 4,
   "metadata": {},
   "outputs": [
    {
     "name": "stdout",
     "output_type": "stream",
     "text": [
      "Количество изображений: 4864\n",
      "Количество меток: 4864\n",
      "Все изображения train имеют соответствующие метки, и все метки train имеют соответствующие изображения.\n"
     ]
    }
   ],
   "source": [
    "# проверка соответствия файлов картинок и аннотаций train\n",
    "\n",
    "# Путь к папкам\n",
    "images_folder_train = os.path.join(dataset_directory, 'train/images')\n",
    "labels_folder_train = os.path.join(dataset_directory, 'train/labels')\n",
    "\n",
    "# Получаем список файлов в каждой папке\n",
    "images_files_train = set(os.path.splitext(f)[0] for f in os.listdir(images_folder_train))\n",
    "labels_files_train = set(os.path.splitext(f)[0] for f in os.listdir(labels_folder_train))\n",
    "\n",
    "# Подсчитываем количество файлов в каждой папке\n",
    "num_images_train = len(images_files_train)\n",
    "num_labels_train = len(labels_files_train)\n",
    "\n",
    "# Выводим количество файлов\n",
    "print(f\"Количество изображений: {num_images_train}\")\n",
    "print(f\"Количество меток: {num_labels_train}\")\n",
    "\n",
    "# Проверяем, что все файлы изображений имеют соответствующие метки\n",
    "missing_labels_train = images_files_train - labels_files_train\n",
    "missing_images_train = labels_files_train - images_files_train\n",
    "\n",
    "if not missing_labels_train and not missing_images_train:\n",
    "    print(\"Все изображения train имеют соответствующие метки, и все метки train имеют соответствующие изображения.\")\n",
    "else:\n",
    "    if missing_labels_train:\n",
    "        print(f\"Отсутствуют метки для следующих изображений: {', '.join(missing_labels_train)}\")\n",
    "    if missing_images_train:\n",
    "        print(f\"Отсутствуют изображения для следующих меток: {', '.join(missing_images_train)}\")"
   ]
  },
  {
   "cell_type": "code",
   "execution_count": 5,
   "metadata": {},
   "outputs": [
    {
     "name": "stdout",
     "output_type": "stream",
     "text": [
      "Количество изображений: 1217\n",
      "Количество меток: 1217\n",
      "Все изображения val имеют соответствующие метки, и все метки val имеют соответствующие изображения.\n"
     ]
    }
   ],
   "source": [
    "# проверка соответствия файлов картинок и аннотаций val\n",
    "\n",
    "# Путь к папкам\n",
    "images_folder_val = os.path.join(dataset_directory, 'val/images')\n",
    "labels_folder_val = os.path.join(dataset_directory, 'val/labels')\n",
    "\n",
    "# Получаем список файлов в каждой папке\n",
    "images_files_val = set(os.path.splitext(f)[0] for f in os.listdir(images_folder_val))\n",
    "labels_files_val = set(os.path.splitext(f)[0] for f in os.listdir(labels_folder_val))\n",
    "\n",
    "# Подсчитываем количество файлов в каждой папке\n",
    "num_images_val = len(images_files_val)\n",
    "num_labels_val = len(labels_files_val)\n",
    "\n",
    "# Выводим количество файлов\n",
    "print(f\"Количество изображений: {num_images_val}\")\n",
    "print(f\"Количество меток: {num_labels_val}\")\n",
    "\n",
    "# Проверяем, что все файлы изображений имеют соответствующие метки\n",
    "missing_labels_val = images_files_val - labels_files_val\n",
    "missing_images_val = labels_files_val - images_files_val\n",
    "\n",
    "if not missing_labels_val and not missing_images_val:\n",
    "    print(\"Все изображения val имеют соответствующие метки, и все метки val имеют соответствующие изображения.\")\n",
    "else:\n",
    "    if missing_labels_val:\n",
    "        print(f\"Отсутствуют метки для следующих изображений: {', '.join(missing_labels_val)}\")\n",
    "    if missing_images_val:\n",
    "        print(f\"Отсутствуют изображения для следующих меток: {', '.join(missing_images_val)}\")"
   ]
  },
  {
   "cell_type": "code",
   "execution_count": 6,
   "metadata": {},
   "outputs": [
    {
     "name": "stdout",
     "output_type": "stream",
     "text": [
      "Файл YAML сохранен по пути: C:\\Users\\Vlada\\Documents\\Business\\AI\\AI University\\Стажировка 1-Создание системы распознавания взрывоопасных предметов для перегружателей металлического лома\\DataSet\\dataset_vtormet\\data.yaml\n"
     ]
    }
   ],
   "source": [
    "from ultralytics import YOLO\n",
    "import yaml\n",
    "import os\n",
    "import shutil\n",
    "\n",
    "os.environ['CUDA_LAUNCH_BLOCKING'] = \"1\"\n",
    "\n",
    "# Create a new YOLO model from scratch\n",
    "model = YOLO(\"yolov8m.yaml\")\n",
    "\n",
    "data = {\n",
    "    'train': images_folder_train,\n",
    "    'val': images_folder_val,\n",
    "    'nc': 5,\n",
    "    'names': ['1Class', '2Class','3Class','0Class','NONClass']\n",
    "}\n",
    "\n",
    "# Сохранение в файл data.yaml\n",
    "with open('data.yaml', 'w') as f:\n",
    "    yaml.dump(data, f)\n",
    "\n",
    "yaml_file_path = os.path.join(dataset_directory, 'data.yaml')\n",
    "shutil.move('data.yaml', yaml_file_path)\n",
    "print(f\"Файл YAML сохранен по пути: {yaml_file_path}\")"
   ]
  },
  {
   "cell_type": "code",
   "execution_count": 7,
   "metadata": {},
   "outputs": [
    {
     "name": "stdout",
     "output_type": "stream",
     "text": [
      "New https://pypi.org/project/ultralytics/8.2.98 available  Update with 'pip install -U ultralytics'\n",
      "\u001b[34m\u001b[1mengine\\trainer: \u001b[0mtask=detect, mode=train, model=yolov8m.pt, data=C:\\Users\\Vlada\\Documents\\Business\\AI\\AI University\\ 1-        \\DataSet\\dataset_vtormet\\data.yaml, epochs=60, time=None, patience=100, batch=20, imgsz=640, save=True, save_period=-1, cache=False, device=cuda:0, workers=8, project=None, name=train6, exist_ok=False, pretrained=True, optimizer=auto, verbose=True, seed=0, deterministic=True, single_cls=False, rect=False, cos_lr=False, close_mosaic=10, resume=False, amp=True, fraction=1.0, profile=False, freeze=None, multi_scale=False, overlap_mask=True, mask_ratio=4, dropout=0.0, val=True, split=val, save_json=False, save_hybrid=False, conf=None, iou=0.7, max_det=300, half=False, dnn=False, plots=True, source=None, vid_stride=1, stream_buffer=False, visualize=False, augment=False, agnostic_nms=False, classes=None, retina_masks=False, embed=None, show=False, save_frames=False, save_txt=False, save_conf=False, save_crop=False, show_labels=True, show_conf=True, show_boxes=True, line_width=None, format=torchscript, keras=False, optimize=False, int8=False, dynamic=False, simplify=False, opset=None, workspace=4, nms=False, lr0=0.01, lrf=0.01, momentum=0.937, weight_decay=0.0005, warmup_epochs=3.0, warmup_momentum=0.8, warmup_bias_lr=0.1, box=7.5, cls=0.5, dfl=1.5, pose=12.0, kobj=1.0, label_smoothing=0.0, nbs=64, hsv_h=0.015, hsv_s=0.7, hsv_v=0.4, degrees=0.0, translate=0.1, scale=0.5, shear=0.0, perspective=0.0, flipud=0.0, fliplr=0.5, bgr=0.0, mosaic=1.0, mixup=0.0, copy_paste=0.0, auto_augment=randaugment, erasing=0.4, crop_fraction=1.0, cfg=None, tracker=botsort.yaml, save_dir=runs\\detect\\train6\n",
      "Overriding model.yaml nc=80 with nc=5\n",
      "\n",
      "                   from  n    params  module                                       arguments                     \n",
      "  0                  -1  1      1392  ultralytics.nn.modules.conv.Conv             [3, 48, 3, 2]                 \n",
      "  1                  -1  1     41664  ultralytics.nn.modules.conv.Conv             [48, 96, 3, 2]                \n",
      "  2                  -1  2    111360  ultralytics.nn.modules.block.C2f             [96, 96, 2, True]             \n",
      "  3                  -1  1    166272  ultralytics.nn.modules.conv.Conv             [96, 192, 3, 2]               \n",
      "  4                  -1  4    813312  ultralytics.nn.modules.block.C2f             [192, 192, 4, True]           \n",
      "  5                  -1  1    664320  ultralytics.nn.modules.conv.Conv             [192, 384, 3, 2]              \n",
      "  6                  -1  4   3248640  ultralytics.nn.modules.block.C2f             [384, 384, 4, True]           \n",
      "  7                  -1  1   1991808  ultralytics.nn.modules.conv.Conv             [384, 576, 3, 2]              \n",
      "  8                  -1  2   3985920  ultralytics.nn.modules.block.C2f             [576, 576, 2, True]           \n",
      "  9                  -1  1    831168  ultralytics.nn.modules.block.SPPF            [576, 576, 5]                 \n",
      " 10                  -1  1         0  torch.nn.modules.upsampling.Upsample         [None, 2, 'nearest']          \n",
      " 11             [-1, 6]  1         0  ultralytics.nn.modules.conv.Concat           [1]                           \n",
      " 12                  -1  2   1993728  ultralytics.nn.modules.block.C2f             [960, 384, 2]                 \n",
      " 13                  -1  1         0  torch.nn.modules.upsampling.Upsample         [None, 2, 'nearest']          \n",
      " 14             [-1, 4]  1         0  ultralytics.nn.modules.conv.Concat           [1]                           \n",
      " 15                  -1  2    517632  ultralytics.nn.modules.block.C2f             [576, 192, 2]                 \n",
      " 16                  -1  1    332160  ultralytics.nn.modules.conv.Conv             [192, 192, 3, 2]              \n",
      " 17            [-1, 12]  1         0  ultralytics.nn.modules.conv.Concat           [1]                           \n",
      " 18                  -1  2   1846272  ultralytics.nn.modules.block.C2f             [576, 384, 2]                 \n",
      " 19                  -1  1   1327872  ultralytics.nn.modules.conv.Conv             [384, 384, 3, 2]              \n",
      " 20             [-1, 9]  1         0  ultralytics.nn.modules.conv.Concat           [1]                           \n",
      " 21                  -1  2   4207104  ultralytics.nn.modules.block.C2f             [960, 576, 2]                 \n",
      " 22        [15, 18, 21]  1   3778591  ultralytics.nn.modules.head.Detect           [5, [192, 384, 576]]          \n",
      "Model summary: 295 layers, 25,859,215 parameters, 25,859,199 gradients, 79.1 GFLOPs\n",
      "\n",
      "Transferred 469/475 items from pretrained weights\n",
      "Freezing layer 'model.22.dfl.conv.weight'\n",
      "\u001b[34m\u001b[1mAMP: \u001b[0mrunning Automatic Mixed Precision (AMP) checks with YOLOv8n...\n",
      "\u001b[34m\u001b[1mAMP: \u001b[0mchecks passed \n"
     ]
    },
    {
     "name": "stderr",
     "output_type": "stream",
     "text": [
      "\u001b[34m\u001b[1mtrain: \u001b[0mScanning C:\\Users\\Vlada\\Documents\\Business\\AI\\AI University\\Стажировка 1-Создание системы распознавания взрывоопасных предметов для перегружателей металлического лома\\DataSet\\dataset_vtormet\\train\\labels.cache... 4864 images, 0 backgrounds, 1 corrupt: 100%|██████████| 4864/4864 [00:00<?, ?it/s]"
     ]
    },
    {
     "name": "stdout",
     "output_type": "stream",
     "text": [
      "\u001b[34m\u001b[1mtrain: \u001b[0mWARNING  C:\\Users\\Vlada\\Documents\\Business\\AI\\AI University\\ 1-        \\DataSet\\dataset_vtormet\\train\\images\\DSCF9845.jpg: ignoring corrupt image/label: non-normalized or out of bounds coordinates [      1.241]\n"
     ]
    },
    {
     "name": "stderr",
     "output_type": "stream",
     "text": [
      "\n",
      "\u001b[34m\u001b[1mval: \u001b[0mScanning C:\\Users\\Vlada\\Documents\\Business\\AI\\AI University\\Стажировка 1-Создание системы распознавания взрывоопасных предметов для перегружателей металлического лома\\DataSet\\dataset_vtormet\\val\\labels.cache... 1217 images, 0 backgrounds, 0 corrupt: 100%|██████████| 1217/1217 [00:00<?, ?it/s]\n"
     ]
    },
    {
     "name": "stdout",
     "output_type": "stream",
     "text": [
      "Plotting labels to runs\\detect\\train6\\labels.jpg... \n",
      "\u001b[34m\u001b[1moptimizer:\u001b[0m 'optimizer=auto' found, ignoring 'lr0=0.01' and 'momentum=0.937' and determining best 'optimizer', 'lr0' and 'momentum' automatically... \n",
      "\u001b[34m\u001b[1moptimizer:\u001b[0m AdamW(lr=0.001111, momentum=0.9) with parameter groups 77 weight(decay=0.0), 84 weight(decay=0.00046875), 83 bias(decay=0.0)\n",
      "Image sizes 640 train, 640 val\n",
      "Using 8 dataloader workers\n",
      "Logging results to \u001b[1mruns\\detect\\train6\u001b[0m\n",
      "Starting training for 60 epochs...\n",
      "\n",
      "      Epoch    GPU_mem   box_loss   cls_loss   dfl_loss  Instances       Size\n"
     ]
    },
    {
     "name": "stderr",
     "output_type": "stream",
     "text": [
      "       1/60      9.94G      1.455      2.051      1.669          8        640: 100%|██████████| 244/244 [21:56<00:00,  5.39s/it]\n",
      "                 Class     Images  Instances      Box(P          R      mAP50  mAP50-95): 100%|██████████| 31/31 [01:30<00:00,  2.91s/it]"
     ]
    },
    {
     "name": "stdout",
     "output_type": "stream",
     "text": [
      "                   all       1217       2581      0.324      0.367      0.277      0.134\n"
     ]
    },
    {
     "name": "stderr",
     "output_type": "stream",
     "text": [
      "\n"
     ]
    },
    {
     "name": "stdout",
     "output_type": "stream",
     "text": [
      "\n",
      "      Epoch    GPU_mem   box_loss   cls_loss   dfl_loss  Instances       Size\n"
     ]
    },
    {
     "name": "stderr",
     "output_type": "stream",
     "text": [
      "       2/60      10.3G      1.609      1.959      1.798         10        640: 100%|██████████| 244/244 [21:45<00:00,  5.35s/it]\n",
      "                 Class     Images  Instances      Box(P          R      mAP50  mAP50-95): 100%|██████████| 31/31 [01:29<00:00,  2.90s/it]"
     ]
    },
    {
     "name": "stdout",
     "output_type": "stream",
     "text": [
      "                   all       1217       2581      0.168      0.218     0.0958     0.0446\n"
     ]
    },
    {
     "name": "stderr",
     "output_type": "stream",
     "text": [
      "\n"
     ]
    },
    {
     "name": "stdout",
     "output_type": "stream",
     "text": [
      "\n",
      "      Epoch    GPU_mem   box_loss   cls_loss   dfl_loss  Instances       Size\n"
     ]
    },
    {
     "name": "stderr",
     "output_type": "stream",
     "text": [
      "       3/60      10.3G      1.605      1.946      1.796         10        640: 100%|██████████| 244/244 [21:40<00:00,  5.33s/it]\n",
      "                 Class     Images  Instances      Box(P          R      mAP50  mAP50-95): 100%|██████████| 31/31 [01:31<00:00,  2.94s/it]"
     ]
    },
    {
     "name": "stdout",
     "output_type": "stream",
     "text": [
      "                   all       1217       2581      0.471      0.293      0.285      0.127\n"
     ]
    },
    {
     "name": "stderr",
     "output_type": "stream",
     "text": [
      "\n"
     ]
    },
    {
     "name": "stdout",
     "output_type": "stream",
     "text": [
      "\n",
      "      Epoch    GPU_mem   box_loss   cls_loss   dfl_loss  Instances       Size\n"
     ]
    },
    {
     "name": "stderr",
     "output_type": "stream",
     "text": [
      "       4/60      10.3G      1.583      1.895      1.793          8        640: 100%|██████████| 244/244 [21:37<00:00,  5.32s/it]\n",
      "                 Class     Images  Instances      Box(P          R      mAP50  mAP50-95): 100%|██████████| 31/31 [01:30<00:00,  2.91s/it]"
     ]
    },
    {
     "name": "stdout",
     "output_type": "stream",
     "text": [
      "                   all       1217       2581       0.64      0.411      0.475      0.268\n"
     ]
    },
    {
     "name": "stderr",
     "output_type": "stream",
     "text": [
      "\n"
     ]
    },
    {
     "name": "stdout",
     "output_type": "stream",
     "text": [
      "\n",
      "      Epoch    GPU_mem   box_loss   cls_loss   dfl_loss  Instances       Size\n"
     ]
    },
    {
     "name": "stderr",
     "output_type": "stream",
     "text": [
      "       5/60      10.1G      1.511      1.742      1.725          5        640: 100%|██████████| 244/244 [21:37<00:00,  5.32s/it]\n",
      "                 Class     Images  Instances      Box(P          R      mAP50  mAP50-95): 100%|██████████| 31/31 [01:30<00:00,  2.91s/it]"
     ]
    },
    {
     "name": "stdout",
     "output_type": "stream",
     "text": [
      "                   all       1217       2581      0.601      0.441      0.482      0.276\n"
     ]
    },
    {
     "name": "stderr",
     "output_type": "stream",
     "text": [
      "\n"
     ]
    },
    {
     "name": "stdout",
     "output_type": "stream",
     "text": [
      "\n",
      "      Epoch    GPU_mem   box_loss   cls_loss   dfl_loss  Instances       Size\n"
     ]
    },
    {
     "name": "stderr",
     "output_type": "stream",
     "text": [
      "       6/60      10.3G      1.472       1.67      1.693         18        640: 100%|██████████| 244/244 [21:38<00:00,  5.32s/it]\n",
      "                 Class     Images  Instances      Box(P          R      mAP50  mAP50-95): 100%|██████████| 31/31 [01:29<00:00,  2.89s/it]"
     ]
    },
    {
     "name": "stdout",
     "output_type": "stream",
     "text": [
      "                   all       1217       2581       0.62      0.463      0.498        0.3\n"
     ]
    },
    {
     "name": "stderr",
     "output_type": "stream",
     "text": [
      "\n"
     ]
    },
    {
     "name": "stdout",
     "output_type": "stream",
     "text": [
      "\n",
      "      Epoch    GPU_mem   box_loss   cls_loss   dfl_loss  Instances       Size\n"
     ]
    },
    {
     "name": "stderr",
     "output_type": "stream",
     "text": [
      "       7/60      10.3G      1.434      1.567      1.653          9        640: 100%|██████████| 244/244 [21:38<00:00,  5.32s/it]\n",
      "                 Class     Images  Instances      Box(P          R      mAP50  mAP50-95): 100%|██████████| 31/31 [01:31<00:00,  2.94s/it]"
     ]
    },
    {
     "name": "stdout",
     "output_type": "stream",
     "text": [
      "                   all       1217       2581      0.685      0.489      0.572      0.344\n"
     ]
    },
    {
     "name": "stderr",
     "output_type": "stream",
     "text": [
      "\n"
     ]
    },
    {
     "name": "stdout",
     "output_type": "stream",
     "text": [
      "\n",
      "      Epoch    GPU_mem   box_loss   cls_loss   dfl_loss  Instances       Size\n"
     ]
    },
    {
     "name": "stderr",
     "output_type": "stream",
     "text": [
      "       8/60      10.1G      1.398      1.495      1.622          5        640: 100%|██████████| 244/244 [21:39<00:00,  5.33s/it]\n",
      "                 Class     Images  Instances      Box(P          R      mAP50  mAP50-95): 100%|██████████| 31/31 [01:31<00:00,  2.94s/it]"
     ]
    },
    {
     "name": "stdout",
     "output_type": "stream",
     "text": [
      "                   all       1217       2581      0.667      0.501      0.573      0.341\n"
     ]
    },
    {
     "name": "stderr",
     "output_type": "stream",
     "text": [
      "\n"
     ]
    },
    {
     "name": "stdout",
     "output_type": "stream",
     "text": [
      "\n",
      "      Epoch    GPU_mem   box_loss   cls_loss   dfl_loss  Instances       Size\n"
     ]
    },
    {
     "name": "stderr",
     "output_type": "stream",
     "text": [
      "       9/60      10.3G      1.359      1.422      1.589         16        640: 100%|██████████| 244/244 [21:37<00:00,  5.32s/it]\n",
      "                 Class     Images  Instances      Box(P          R      mAP50  mAP50-95): 100%|██████████| 31/31 [01:29<00:00,  2.88s/it]"
     ]
    },
    {
     "name": "stdout",
     "output_type": "stream",
     "text": [
      "                   all       1217       2581      0.705      0.537      0.614      0.379\n"
     ]
    },
    {
     "name": "stderr",
     "output_type": "stream",
     "text": [
      "\n"
     ]
    },
    {
     "name": "stdout",
     "output_type": "stream",
     "text": [
      "\n",
      "      Epoch    GPU_mem   box_loss   cls_loss   dfl_loss  Instances       Size\n"
     ]
    },
    {
     "name": "stderr",
     "output_type": "stream",
     "text": [
      "      10/60      10.3G      1.339      1.383      1.574          7        640: 100%|██████████| 244/244 [21:38<00:00,  5.32s/it]\n",
      "                 Class     Images  Instances      Box(P          R      mAP50  mAP50-95): 100%|██████████| 31/31 [01:30<00:00,  2.93s/it]"
     ]
    },
    {
     "name": "stdout",
     "output_type": "stream",
     "text": [
      "                   all       1217       2581      0.761      0.539      0.632      0.399\n"
     ]
    },
    {
     "name": "stderr",
     "output_type": "stream",
     "text": [
      "\n"
     ]
    },
    {
     "name": "stdout",
     "output_type": "stream",
     "text": [
      "\n",
      "      Epoch    GPU_mem   box_loss   cls_loss   dfl_loss  Instances       Size\n"
     ]
    },
    {
     "name": "stderr",
     "output_type": "stream",
     "text": [
      "      11/60      10.2G      1.329      1.333      1.562         24        640: 100%|██████████| 244/244 [21:38<00:00,  5.32s/it]\n",
      "                 Class     Images  Instances      Box(P          R      mAP50  mAP50-95): 100%|██████████| 31/31 [01:31<00:00,  2.95s/it]"
     ]
    },
    {
     "name": "stdout",
     "output_type": "stream",
     "text": [
      "                   all       1217       2581      0.719      0.573      0.643      0.395\n"
     ]
    },
    {
     "name": "stderr",
     "output_type": "stream",
     "text": [
      "\n"
     ]
    },
    {
     "name": "stdout",
     "output_type": "stream",
     "text": [
      "\n",
      "      Epoch    GPU_mem   box_loss   cls_loss   dfl_loss  Instances       Size\n"
     ]
    },
    {
     "name": "stderr",
     "output_type": "stream",
     "text": [
      "      12/60      10.3G      1.322      1.314      1.573         14        640: 100%|██████████| 244/244 [21:38<00:00,  5.32s/it]\n",
      "                 Class     Images  Instances      Box(P          R      mAP50  mAP50-95): 100%|██████████| 31/31 [01:29<00:00,  2.88s/it]"
     ]
    },
    {
     "name": "stdout",
     "output_type": "stream",
     "text": [
      "                   all       1217       2581      0.731      0.579      0.654      0.417\n"
     ]
    },
    {
     "name": "stderr",
     "output_type": "stream",
     "text": [
      "\n"
     ]
    },
    {
     "name": "stdout",
     "output_type": "stream",
     "text": [
      "\n",
      "      Epoch    GPU_mem   box_loss   cls_loss   dfl_loss  Instances       Size\n"
     ]
    },
    {
     "name": "stderr",
     "output_type": "stream",
     "text": [
      "      13/60      10.3G      1.297      1.294      1.538         11        640: 100%|██████████| 244/244 [21:40<00:00,  5.33s/it]\n",
      "                 Class     Images  Instances      Box(P          R      mAP50  mAP50-95): 100%|██████████| 31/31 [01:29<00:00,  2.90s/it]"
     ]
    },
    {
     "name": "stdout",
     "output_type": "stream",
     "text": [
      "                   all       1217       2581      0.722      0.556      0.632      0.398\n"
     ]
    },
    {
     "name": "stderr",
     "output_type": "stream",
     "text": [
      "\n"
     ]
    },
    {
     "name": "stdout",
     "output_type": "stream",
     "text": [
      "\n",
      "      Epoch    GPU_mem   box_loss   cls_loss   dfl_loss  Instances       Size\n"
     ]
    },
    {
     "name": "stderr",
     "output_type": "stream",
     "text": [
      "      14/60      10.2G      1.307      1.282       1.54         18        640: 100%|██████████| 244/244 [21:39<00:00,  5.33s/it]\n",
      "                 Class     Images  Instances      Box(P          R      mAP50  mAP50-95): 100%|██████████| 31/31 [01:29<00:00,  2.90s/it]"
     ]
    },
    {
     "name": "stdout",
     "output_type": "stream",
     "text": [
      "                   all       1217       2581      0.725      0.603      0.668      0.423\n"
     ]
    },
    {
     "name": "stderr",
     "output_type": "stream",
     "text": [
      "\n"
     ]
    },
    {
     "name": "stdout",
     "output_type": "stream",
     "text": [
      "\n",
      "      Epoch    GPU_mem   box_loss   cls_loss   dfl_loss  Instances       Size\n"
     ]
    },
    {
     "name": "stderr",
     "output_type": "stream",
     "text": [
      "      15/60      10.3G       1.27      1.224      1.521          8        640: 100%|██████████| 244/244 [21:26<00:00,  5.27s/it]\n",
      "                 Class     Images  Instances      Box(P          R      mAP50  mAP50-95): 100%|██████████| 31/31 [01:29<00:00,  2.89s/it]"
     ]
    },
    {
     "name": "stdout",
     "output_type": "stream",
     "text": [
      "                   all       1217       2581      0.748      0.612      0.687      0.441\n"
     ]
    },
    {
     "name": "stderr",
     "output_type": "stream",
     "text": [
      "\n"
     ]
    },
    {
     "name": "stdout",
     "output_type": "stream",
     "text": [
      "\n",
      "      Epoch    GPU_mem   box_loss   cls_loss   dfl_loss  Instances       Size\n"
     ]
    },
    {
     "name": "stderr",
     "output_type": "stream",
     "text": [
      "      16/60      10.3G      1.231      1.179      1.501          7        640: 100%|██████████| 244/244 [21:30<00:00,  5.29s/it]\n",
      "                 Class     Images  Instances      Box(P          R      mAP50  mAP50-95): 100%|██████████| 31/31 [01:29<00:00,  2.88s/it]"
     ]
    },
    {
     "name": "stdout",
     "output_type": "stream",
     "text": [
      "                   all       1217       2581      0.757       0.59      0.682      0.449\n"
     ]
    },
    {
     "name": "stderr",
     "output_type": "stream",
     "text": [
      "\n"
     ]
    },
    {
     "name": "stdout",
     "output_type": "stream",
     "text": [
      "\n",
      "      Epoch    GPU_mem   box_loss   cls_loss   dfl_loss  Instances       Size\n"
     ]
    },
    {
     "name": "stderr",
     "output_type": "stream",
     "text": [
      "      17/60      10.1G      1.234       1.17      1.495         24        640: 100%|██████████| 244/244 [21:39<00:00,  5.33s/it]\n",
      "                 Class     Images  Instances      Box(P          R      mAP50  mAP50-95): 100%|██████████| 31/31 [01:30<00:00,  2.91s/it]"
     ]
    },
    {
     "name": "stdout",
     "output_type": "stream",
     "text": [
      "                   all       1217       2581      0.739      0.596      0.677      0.447\n"
     ]
    },
    {
     "name": "stderr",
     "output_type": "stream",
     "text": [
      "\n"
     ]
    },
    {
     "name": "stdout",
     "output_type": "stream",
     "text": [
      "\n",
      "      Epoch    GPU_mem   box_loss   cls_loss   dfl_loss  Instances       Size\n"
     ]
    },
    {
     "name": "stderr",
     "output_type": "stream",
     "text": [
      "      18/60      10.3G      1.222      1.158       1.49          9        640: 100%|██████████| 244/244 [21:37<00:00,  5.32s/it]\n",
      "                 Class     Images  Instances      Box(P          R      mAP50  mAP50-95): 100%|██████████| 31/31 [01:30<00:00,  2.90s/it]"
     ]
    },
    {
     "name": "stdout",
     "output_type": "stream",
     "text": [
      "                   all       1217       2581      0.749       0.62      0.697      0.455\n"
     ]
    },
    {
     "name": "stderr",
     "output_type": "stream",
     "text": [
      "\n"
     ]
    },
    {
     "name": "stdout",
     "output_type": "stream",
     "text": [
      "\n",
      "      Epoch    GPU_mem   box_loss   cls_loss   dfl_loss  Instances       Size\n"
     ]
    },
    {
     "name": "stderr",
     "output_type": "stream",
     "text": [
      "      19/60      10.3G      1.216      1.137      1.481          6        640: 100%|██████████| 244/244 [21:38<00:00,  5.32s/it]\n",
      "                 Class     Images  Instances      Box(P          R      mAP50  mAP50-95): 100%|██████████| 31/31 [01:29<00:00,  2.89s/it]"
     ]
    },
    {
     "name": "stdout",
     "output_type": "stream",
     "text": [
      "                   all       1217       2581      0.754      0.617      0.703      0.461\n"
     ]
    },
    {
     "name": "stderr",
     "output_type": "stream",
     "text": [
      "\n"
     ]
    },
    {
     "name": "stdout",
     "output_type": "stream",
     "text": [
      "\n",
      "      Epoch    GPU_mem   box_loss   cls_loss   dfl_loss  Instances       Size\n"
     ]
    },
    {
     "name": "stderr",
     "output_type": "stream",
     "text": [
      "      20/60      10.2G      1.209      1.115      1.473         12        640: 100%|██████████| 244/244 [21:32<00:00,  5.30s/it]\n",
      "                 Class     Images  Instances      Box(P          R      mAP50  mAP50-95): 100%|██████████| 31/31 [01:29<00:00,  2.89s/it]"
     ]
    },
    {
     "name": "stdout",
     "output_type": "stream",
     "text": [
      "                   all       1217       2581      0.775      0.626      0.714       0.47\n"
     ]
    },
    {
     "name": "stderr",
     "output_type": "stream",
     "text": [
      "\n"
     ]
    },
    {
     "name": "stdout",
     "output_type": "stream",
     "text": [
      "\n",
      "      Epoch    GPU_mem   box_loss   cls_loss   dfl_loss  Instances       Size\n"
     ]
    },
    {
     "name": "stderr",
     "output_type": "stream",
     "text": [
      "      21/60      10.3G      1.213      1.107      1.472         11        640: 100%|██████████| 244/244 [21:37<00:00,  5.32s/it]\n",
      "                 Class     Images  Instances      Box(P          R      mAP50  mAP50-95): 100%|██████████| 31/31 [01:30<00:00,  2.93s/it]"
     ]
    },
    {
     "name": "stdout",
     "output_type": "stream",
     "text": [
      "                   all       1217       2581      0.759       0.62        0.7      0.452\n"
     ]
    },
    {
     "name": "stderr",
     "output_type": "stream",
     "text": [
      "\n"
     ]
    },
    {
     "name": "stdout",
     "output_type": "stream",
     "text": [
      "\n",
      "      Epoch    GPU_mem   box_loss   cls_loss   dfl_loss  Instances       Size\n"
     ]
    },
    {
     "name": "stderr",
     "output_type": "stream",
     "text": [
      "      22/60      10.2G      1.193      1.082      1.462         12        640: 100%|██████████| 244/244 [21:38<00:00,  5.32s/it]\n",
      "                 Class     Images  Instances      Box(P          R      mAP50  mAP50-95): 100%|██████████| 31/31 [01:30<00:00,  2.91s/it]"
     ]
    },
    {
     "name": "stdout",
     "output_type": "stream",
     "text": [
      "                   all       1217       2581       0.78      0.638      0.721       0.47\n"
     ]
    },
    {
     "name": "stderr",
     "output_type": "stream",
     "text": [
      "\n"
     ]
    },
    {
     "name": "stdout",
     "output_type": "stream",
     "text": [
      "\n",
      "      Epoch    GPU_mem   box_loss   cls_loss   dfl_loss  Instances       Size\n"
     ]
    },
    {
     "name": "stderr",
     "output_type": "stream",
     "text": [
      "      23/60      10.2G      1.179       1.05      1.451          7        640: 100%|██████████| 244/244 [21:38<00:00,  5.32s/it]\n",
      "                 Class     Images  Instances      Box(P          R      mAP50  mAP50-95): 100%|██████████| 31/31 [01:29<00:00,  2.88s/it]"
     ]
    },
    {
     "name": "stdout",
     "output_type": "stream",
     "text": [
      "                   all       1217       2581      0.774      0.643      0.722      0.482\n"
     ]
    },
    {
     "name": "stderr",
     "output_type": "stream",
     "text": [
      "\n"
     ]
    },
    {
     "name": "stdout",
     "output_type": "stream",
     "text": [
      "\n",
      "      Epoch    GPU_mem   box_loss   cls_loss   dfl_loss  Instances       Size\n"
     ]
    },
    {
     "name": "stderr",
     "output_type": "stream",
     "text": [
      "      24/60      10.3G      1.181      1.047      1.448         15        640: 100%|██████████| 244/244 [21:14<00:00,  5.22s/it]\n",
      "                 Class     Images  Instances      Box(P          R      mAP50  mAP50-95): 100%|██████████| 31/31 [01:30<00:00,  2.90s/it]"
     ]
    },
    {
     "name": "stdout",
     "output_type": "stream",
     "text": [
      "                   all       1217       2581      0.806      0.628      0.721      0.481\n"
     ]
    },
    {
     "name": "stderr",
     "output_type": "stream",
     "text": [
      "\n"
     ]
    },
    {
     "name": "stdout",
     "output_type": "stream",
     "text": [
      "\n",
      "      Epoch    GPU_mem   box_loss   cls_loss   dfl_loss  Instances       Size\n"
     ]
    },
    {
     "name": "stderr",
     "output_type": "stream",
     "text": [
      "      25/60      10.3G      1.156      1.013      1.437          8        640: 100%|██████████| 244/244 [19:28<00:00,  4.79s/it]\n",
      "                 Class     Images  Instances      Box(P          R      mAP50  mAP50-95): 100%|██████████| 31/31 [01:31<00:00,  2.95s/it]"
     ]
    },
    {
     "name": "stdout",
     "output_type": "stream",
     "text": [
      "                   all       1217       2581      0.812      0.628      0.733      0.497\n"
     ]
    },
    {
     "name": "stderr",
     "output_type": "stream",
     "text": [
      "\n"
     ]
    },
    {
     "name": "stdout",
     "output_type": "stream",
     "text": [
      "\n",
      "      Epoch    GPU_mem   box_loss   cls_loss   dfl_loss  Instances       Size\n"
     ]
    },
    {
     "name": "stderr",
     "output_type": "stream",
     "text": [
      "      26/60      10.2G      1.161      1.009      1.438         10        640: 100%|██████████| 244/244 [21:44<00:00,  5.35s/it]\n",
      "                 Class     Images  Instances      Box(P          R      mAP50  mAP50-95): 100%|██████████| 31/31 [01:31<00:00,  2.95s/it]"
     ]
    },
    {
     "name": "stdout",
     "output_type": "stream",
     "text": [
      "                   all       1217       2581        0.8      0.661      0.748      0.495\n"
     ]
    },
    {
     "name": "stderr",
     "output_type": "stream",
     "text": [
      "\n"
     ]
    },
    {
     "name": "stdout",
     "output_type": "stream",
     "text": [
      "\n",
      "      Epoch    GPU_mem   box_loss   cls_loss   dfl_loss  Instances       Size\n"
     ]
    },
    {
     "name": "stderr",
     "output_type": "stream",
     "text": [
      "      27/60      10.3G      1.144     0.9901      1.425          7        640: 100%|██████████| 244/244 [21:46<00:00,  5.36s/it]\n",
      "                 Class     Images  Instances      Box(P          R      mAP50  mAP50-95): 100%|██████████| 31/31 [01:29<00:00,  2.88s/it]"
     ]
    },
    {
     "name": "stdout",
     "output_type": "stream",
     "text": [
      "                   all       1217       2581      0.777      0.654       0.74      0.497\n"
     ]
    },
    {
     "name": "stderr",
     "output_type": "stream",
     "text": [
      "\n"
     ]
    },
    {
     "name": "stdout",
     "output_type": "stream",
     "text": [
      "\n",
      "      Epoch    GPU_mem   box_loss   cls_loss   dfl_loss  Instances       Size\n"
     ]
    },
    {
     "name": "stderr",
     "output_type": "stream",
     "text": [
      "      28/60      10.3G       1.12     0.9746      1.411         12        640: 100%|██████████| 244/244 [21:45<00:00,  5.35s/it]\n",
      "                 Class     Images  Instances      Box(P          R      mAP50  mAP50-95): 100%|██████████| 31/31 [01:30<00:00,  2.92s/it]"
     ]
    },
    {
     "name": "stdout",
     "output_type": "stream",
     "text": [
      "                   all       1217       2581      0.785      0.665      0.742      0.494\n"
     ]
    },
    {
     "name": "stderr",
     "output_type": "stream",
     "text": [
      "\n"
     ]
    },
    {
     "name": "stdout",
     "output_type": "stream",
     "text": [
      "\n",
      "      Epoch    GPU_mem   box_loss   cls_loss   dfl_loss  Instances       Size\n"
     ]
    },
    {
     "name": "stderr",
     "output_type": "stream",
     "text": [
      "      29/60      10.1G      1.139     0.9819      1.416          8        640: 100%|██████████| 244/244 [21:45<00:00,  5.35s/it]\n",
      "                 Class     Images  Instances      Box(P          R      mAP50  mAP50-95): 100%|██████████| 31/31 [01:30<00:00,  2.93s/it]"
     ]
    },
    {
     "name": "stdout",
     "output_type": "stream",
     "text": [
      "                   all       1217       2581      0.802      0.667      0.748      0.497\n"
     ]
    },
    {
     "name": "stderr",
     "output_type": "stream",
     "text": [
      "\n"
     ]
    },
    {
     "name": "stdout",
     "output_type": "stream",
     "text": [
      "\n",
      "      Epoch    GPU_mem   box_loss   cls_loss   dfl_loss  Instances       Size\n"
     ]
    },
    {
     "name": "stderr",
     "output_type": "stream",
     "text": [
      "      30/60      10.3G      1.123     0.9444      1.401          5        640: 100%|██████████| 244/244 [21:44<00:00,  5.35s/it]\n",
      "                 Class     Images  Instances      Box(P          R      mAP50  mAP50-95): 100%|██████████| 31/31 [01:29<00:00,  2.90s/it]"
     ]
    },
    {
     "name": "stdout",
     "output_type": "stream",
     "text": [
      "                   all       1217       2581      0.798      0.654      0.755      0.498\n"
     ]
    },
    {
     "name": "stderr",
     "output_type": "stream",
     "text": [
      "\n"
     ]
    },
    {
     "name": "stdout",
     "output_type": "stream",
     "text": [
      "\n",
      "      Epoch    GPU_mem   box_loss   cls_loss   dfl_loss  Instances       Size\n"
     ]
    },
    {
     "name": "stderr",
     "output_type": "stream",
     "text": [
      "      31/60      10.3G      1.113      0.934      1.396          4        640: 100%|██████████| 244/244 [21:46<00:00,  5.35s/it]\n",
      "                 Class     Images  Instances      Box(P          R      mAP50  mAP50-95): 100%|██████████| 31/31 [01:29<00:00,  2.90s/it]"
     ]
    },
    {
     "name": "stdout",
     "output_type": "stream",
     "text": [
      "                   all       1217       2581      0.797        0.7      0.776       0.53\n"
     ]
    },
    {
     "name": "stderr",
     "output_type": "stream",
     "text": [
      "\n"
     ]
    },
    {
     "name": "stdout",
     "output_type": "stream",
     "text": [
      "\n",
      "      Epoch    GPU_mem   box_loss   cls_loss   dfl_loss  Instances       Size\n"
     ]
    },
    {
     "name": "stderr",
     "output_type": "stream",
     "text": [
      "      32/60      10.2G      1.105     0.9206      1.392         11        640: 100%|██████████| 244/244 [21:46<00:00,  5.36s/it]\n",
      "                 Class     Images  Instances      Box(P          R      mAP50  mAP50-95): 100%|██████████| 31/31 [01:29<00:00,  2.88s/it]"
     ]
    },
    {
     "name": "stdout",
     "output_type": "stream",
     "text": [
      "                   all       1217       2581      0.827      0.664       0.76      0.517\n"
     ]
    },
    {
     "name": "stderr",
     "output_type": "stream",
     "text": [
      "\n"
     ]
    },
    {
     "name": "stdout",
     "output_type": "stream",
     "text": [
      "\n",
      "      Epoch    GPU_mem   box_loss   cls_loss   dfl_loss  Instances       Size\n"
     ]
    },
    {
     "name": "stderr",
     "output_type": "stream",
     "text": [
      "      33/60      10.3G      1.105     0.9183      1.395         10        640: 100%|██████████| 244/244 [21:32<00:00,  5.30s/it]\n",
      "                 Class     Images  Instances      Box(P          R      mAP50  mAP50-95): 100%|██████████| 31/31 [01:30<00:00,  2.92s/it]"
     ]
    },
    {
     "name": "stdout",
     "output_type": "stream",
     "text": [
      "                   all       1217       2581      0.804      0.674       0.76      0.515\n"
     ]
    },
    {
     "name": "stderr",
     "output_type": "stream",
     "text": [
      "\n"
     ]
    },
    {
     "name": "stdout",
     "output_type": "stream",
     "text": [
      "\n",
      "      Epoch    GPU_mem   box_loss   cls_loss   dfl_loss  Instances       Size\n"
     ]
    },
    {
     "name": "stderr",
     "output_type": "stream",
     "text": [
      "      34/60      10.3G       1.08     0.8963      1.368         10        640: 100%|██████████| 244/244 [21:45<00:00,  5.35s/it]\n",
      "                 Class     Images  Instances      Box(P          R      mAP50  mAP50-95): 100%|██████████| 31/31 [01:29<00:00,  2.90s/it]"
     ]
    },
    {
     "name": "stdout",
     "output_type": "stream",
     "text": [
      "                   all       1217       2581      0.761      0.704      0.768      0.515\n"
     ]
    },
    {
     "name": "stderr",
     "output_type": "stream",
     "text": [
      "\n"
     ]
    },
    {
     "name": "stdout",
     "output_type": "stream",
     "text": [
      "\n",
      "      Epoch    GPU_mem   box_loss   cls_loss   dfl_loss  Instances       Size\n"
     ]
    },
    {
     "name": "stderr",
     "output_type": "stream",
     "text": [
      "      35/60      10.2G      1.069      0.887      1.362          6        640: 100%|██████████| 244/244 [21:45<00:00,  5.35s/it]\n",
      "                 Class     Images  Instances      Box(P          R      mAP50  mAP50-95): 100%|██████████| 31/31 [01:29<00:00,  2.90s/it]"
     ]
    },
    {
     "name": "stdout",
     "output_type": "stream",
     "text": [
      "                   all       1217       2581      0.821      0.677      0.761      0.514\n"
     ]
    },
    {
     "name": "stderr",
     "output_type": "stream",
     "text": [
      "\n"
     ]
    },
    {
     "name": "stdout",
     "output_type": "stream",
     "text": [
      "\n",
      "      Epoch    GPU_mem   box_loss   cls_loss   dfl_loss  Instances       Size\n"
     ]
    },
    {
     "name": "stderr",
     "output_type": "stream",
     "text": [
      "      36/60      10.3G      1.073     0.8887      1.366          9        640: 100%|██████████| 244/244 [21:43<00:00,  5.34s/it]\n",
      "                 Class     Images  Instances      Box(P          R      mAP50  mAP50-95): 100%|██████████| 31/31 [01:30<00:00,  2.91s/it]"
     ]
    },
    {
     "name": "stdout",
     "output_type": "stream",
     "text": [
      "                   all       1217       2581      0.821      0.681      0.771      0.528\n"
     ]
    },
    {
     "name": "stderr",
     "output_type": "stream",
     "text": [
      "\n"
     ]
    },
    {
     "name": "stdout",
     "output_type": "stream",
     "text": [
      "\n",
      "      Epoch    GPU_mem   box_loss   cls_loss   dfl_loss  Instances       Size\n"
     ]
    },
    {
     "name": "stderr",
     "output_type": "stream",
     "text": [
      "      37/60      10.3G      1.065     0.8534      1.362          5        640: 100%|██████████| 244/244 [21:44<00:00,  5.35s/it]\n",
      "                 Class     Images  Instances      Box(P          R      mAP50  mAP50-95): 100%|██████████| 31/31 [01:29<00:00,  2.88s/it]"
     ]
    },
    {
     "name": "stdout",
     "output_type": "stream",
     "text": [
      "                   all       1217       2581      0.808       0.67      0.761      0.515\n"
     ]
    },
    {
     "name": "stderr",
     "output_type": "stream",
     "text": [
      "\n"
     ]
    },
    {
     "name": "stdout",
     "output_type": "stream",
     "text": [
      "\n",
      "      Epoch    GPU_mem   box_loss   cls_loss   dfl_loss  Instances       Size\n"
     ]
    },
    {
     "name": "stderr",
     "output_type": "stream",
     "text": [
      "      38/60      10.1G      1.059     0.8588      1.362         11        640: 100%|██████████| 244/244 [21:45<00:00,  5.35s/it]\n",
      "                 Class     Images  Instances      Box(P          R      mAP50  mAP50-95): 100%|██████████| 31/31 [01:29<00:00,  2.89s/it]"
     ]
    },
    {
     "name": "stdout",
     "output_type": "stream",
     "text": [
      "                   all       1217       2581      0.819      0.687      0.781      0.533\n"
     ]
    },
    {
     "name": "stderr",
     "output_type": "stream",
     "text": [
      "\n"
     ]
    },
    {
     "name": "stdout",
     "output_type": "stream",
     "text": [
      "\n",
      "      Epoch    GPU_mem   box_loss   cls_loss   dfl_loss  Instances       Size\n"
     ]
    },
    {
     "name": "stderr",
     "output_type": "stream",
     "text": [
      "      39/60      10.3G      1.041     0.8452      1.349          6        640: 100%|██████████| 244/244 [21:47<00:00,  5.36s/it]\n",
      "                 Class     Images  Instances      Box(P          R      mAP50  mAP50-95): 100%|██████████| 31/31 [01:29<00:00,  2.90s/it]"
     ]
    },
    {
     "name": "stdout",
     "output_type": "stream",
     "text": [
      "                   all       1217       2581      0.785      0.709      0.779      0.534\n"
     ]
    },
    {
     "name": "stderr",
     "output_type": "stream",
     "text": [
      "\n"
     ]
    },
    {
     "name": "stdout",
     "output_type": "stream",
     "text": [
      "\n",
      "      Epoch    GPU_mem   box_loss   cls_loss   dfl_loss  Instances       Size\n"
     ]
    },
    {
     "name": "stderr",
     "output_type": "stream",
     "text": [
      "      40/60      10.3G      1.031     0.8202      1.333          8        640: 100%|██████████| 244/244 [21:48<00:00,  5.36s/it]\n",
      "                 Class     Images  Instances      Box(P          R      mAP50  mAP50-95): 100%|██████████| 31/31 [01:29<00:00,  2.90s/it]"
     ]
    },
    {
     "name": "stdout",
     "output_type": "stream",
     "text": [
      "                   all       1217       2581      0.823      0.698      0.781      0.535\n"
     ]
    },
    {
     "name": "stderr",
     "output_type": "stream",
     "text": [
      "\n"
     ]
    },
    {
     "name": "stdout",
     "output_type": "stream",
     "text": [
      "\n",
      "      Epoch    GPU_mem   box_loss   cls_loss   dfl_loss  Instances       Size\n"
     ]
    },
    {
     "name": "stderr",
     "output_type": "stream",
     "text": [
      "      41/60      10.2G      1.035      0.823      1.344         13        640: 100%|██████████| 244/244 [21:47<00:00,  5.36s/it]\n",
      "                 Class     Images  Instances      Box(P          R      mAP50  mAP50-95): 100%|██████████| 31/31 [01:30<00:00,  2.93s/it]"
     ]
    },
    {
     "name": "stdout",
     "output_type": "stream",
     "text": [
      "                   all       1217       2581      0.813      0.703      0.784      0.538\n"
     ]
    },
    {
     "name": "stderr",
     "output_type": "stream",
     "text": [
      "\n"
     ]
    },
    {
     "name": "stdout",
     "output_type": "stream",
     "text": [
      "\n",
      "      Epoch    GPU_mem   box_loss   cls_loss   dfl_loss  Instances       Size\n"
     ]
    },
    {
     "name": "stderr",
     "output_type": "stream",
     "text": [
      "      42/60      10.3G      1.029      0.812      1.332          6        640: 100%|██████████| 244/244 [21:46<00:00,  5.36s/it]\n",
      "                 Class     Images  Instances      Box(P          R      mAP50  mAP50-95): 100%|██████████| 31/31 [01:29<00:00,  2.89s/it]"
     ]
    },
    {
     "name": "stdout",
     "output_type": "stream",
     "text": [
      "                   all       1217       2581       0.84      0.695      0.787      0.539\n"
     ]
    },
    {
     "name": "stderr",
     "output_type": "stream",
     "text": [
      "\n"
     ]
    },
    {
     "name": "stdout",
     "output_type": "stream",
     "text": [
      "\n",
      "      Epoch    GPU_mem   box_loss   cls_loss   dfl_loss  Instances       Size\n"
     ]
    },
    {
     "name": "stderr",
     "output_type": "stream",
     "text": [
      "      43/60      10.3G      1.014     0.7832      1.318         11        640: 100%|██████████| 244/244 [21:46<00:00,  5.35s/it]\n",
      "                 Class     Images  Instances      Box(P          R      mAP50  mAP50-95): 100%|██████████| 31/31 [01:30<00:00,  2.91s/it]"
     ]
    },
    {
     "name": "stdout",
     "output_type": "stream",
     "text": [
      "                   all       1217       2581      0.824      0.711       0.79      0.539\n"
     ]
    },
    {
     "name": "stderr",
     "output_type": "stream",
     "text": [
      "\n"
     ]
    },
    {
     "name": "stdout",
     "output_type": "stream",
     "text": [
      "\n",
      "      Epoch    GPU_mem   box_loss   cls_loss   dfl_loss  Instances       Size\n"
     ]
    },
    {
     "name": "stderr",
     "output_type": "stream",
     "text": [
      "      44/60      10.1G       1.01     0.7762      1.317         10        640: 100%|██████████| 244/244 [21:46<00:00,  5.35s/it]\n",
      "                 Class     Images  Instances      Box(P          R      mAP50  mAP50-95): 100%|██████████| 31/31 [01:31<00:00,  2.94s/it]"
     ]
    },
    {
     "name": "stdout",
     "output_type": "stream",
     "text": [
      "                   all       1217       2581      0.838      0.694      0.784      0.536\n"
     ]
    },
    {
     "name": "stderr",
     "output_type": "stream",
     "text": [
      "\n"
     ]
    },
    {
     "name": "stdout",
     "output_type": "stream",
     "text": [
      "\n",
      "      Epoch    GPU_mem   box_loss   cls_loss   dfl_loss  Instances       Size\n"
     ]
    },
    {
     "name": "stderr",
     "output_type": "stream",
     "text": [
      "      45/60      10.3G      1.012     0.7863      1.321          7        640: 100%|██████████| 244/244 [21:45<00:00,  5.35s/it]\n",
      "                 Class     Images  Instances      Box(P          R      mAP50  mAP50-95): 100%|██████████| 31/31 [01:28<00:00,  2.86s/it]"
     ]
    },
    {
     "name": "stdout",
     "output_type": "stream",
     "text": [
      "                   all       1217       2581      0.821      0.698      0.792       0.54\n"
     ]
    },
    {
     "name": "stderr",
     "output_type": "stream",
     "text": [
      "\n"
     ]
    },
    {
     "name": "stdout",
     "output_type": "stream",
     "text": [
      "\n",
      "      Epoch    GPU_mem   box_loss   cls_loss   dfl_loss  Instances       Size\n"
     ]
    },
    {
     "name": "stderr",
     "output_type": "stream",
     "text": [
      "      46/60      10.3G     0.9913     0.7581      1.302         10        640: 100%|██████████| 244/244 [21:48<00:00,  5.36s/it]\n",
      "                 Class     Images  Instances      Box(P          R      mAP50  mAP50-95): 100%|██████████| 31/31 [01:30<00:00,  2.93s/it]"
     ]
    },
    {
     "name": "stdout",
     "output_type": "stream",
     "text": [
      "                   all       1217       2581      0.803      0.717       0.79      0.545\n"
     ]
    },
    {
     "name": "stderr",
     "output_type": "stream",
     "text": [
      "\n"
     ]
    },
    {
     "name": "stdout",
     "output_type": "stream",
     "text": [
      "\n",
      "      Epoch    GPU_mem   box_loss   cls_loss   dfl_loss  Instances       Size\n"
     ]
    },
    {
     "name": "stderr",
     "output_type": "stream",
     "text": [
      "      47/60      10.2G     0.9852     0.7449        1.3          6        640: 100%|██████████| 244/244 [21:44<00:00,  5.35s/it]\n",
      "                 Class     Images  Instances      Box(P          R      mAP50  mAP50-95): 100%|██████████| 31/31 [01:31<00:00,  2.96s/it]"
     ]
    },
    {
     "name": "stdout",
     "output_type": "stream",
     "text": [
      "                   all       1217       2581      0.815      0.713      0.795      0.547\n"
     ]
    },
    {
     "name": "stderr",
     "output_type": "stream",
     "text": [
      "\n"
     ]
    },
    {
     "name": "stdout",
     "output_type": "stream",
     "text": [
      "\n",
      "      Epoch    GPU_mem   box_loss   cls_loss   dfl_loss  Instances       Size\n"
     ]
    },
    {
     "name": "stderr",
     "output_type": "stream",
     "text": [
      "      48/60      10.3G     0.9716     0.7291      1.296         14        640: 100%|██████████| 244/244 [21:44<00:00,  5.35s/it]\n",
      "                 Class     Images  Instances      Box(P          R      mAP50  mAP50-95): 100%|██████████| 31/31 [01:29<00:00,  2.88s/it]"
     ]
    },
    {
     "name": "stdout",
     "output_type": "stream",
     "text": [
      "                   all       1217       2581      0.832      0.713      0.793      0.549\n"
     ]
    },
    {
     "name": "stderr",
     "output_type": "stream",
     "text": [
      "\n"
     ]
    },
    {
     "name": "stdout",
     "output_type": "stream",
     "text": [
      "\n",
      "      Epoch    GPU_mem   box_loss   cls_loss   dfl_loss  Instances       Size\n"
     ]
    },
    {
     "name": "stderr",
     "output_type": "stream",
     "text": [
      "      49/60      10.3G     0.9652     0.7217      1.289         10        640: 100%|██████████| 244/244 [21:45<00:00,  5.35s/it]\n",
      "                 Class     Images  Instances      Box(P          R      mAP50  mAP50-95): 100%|██████████| 31/31 [01:31<00:00,  2.96s/it]"
     ]
    },
    {
     "name": "stdout",
     "output_type": "stream",
     "text": [
      "                   all       1217       2581      0.813      0.725      0.793      0.545\n"
     ]
    },
    {
     "name": "stderr",
     "output_type": "stream",
     "text": [
      "\n"
     ]
    },
    {
     "name": "stdout",
     "output_type": "stream",
     "text": [
      "\n",
      "      Epoch    GPU_mem   box_loss   cls_loss   dfl_loss  Instances       Size\n"
     ]
    },
    {
     "name": "stderr",
     "output_type": "stream",
     "text": [
      "      50/60      10.1G     0.9612     0.7206      1.282          8        640: 100%|██████████| 244/244 [21:41<00:00,  5.34s/it]\n",
      "                 Class     Images  Instances      Box(P          R      mAP50  mAP50-95): 100%|██████████| 31/31 [01:35<00:00,  3.07s/it]"
     ]
    },
    {
     "name": "stdout",
     "output_type": "stream",
     "text": [
      "                   all       1217       2581      0.818      0.707      0.785      0.543\n"
     ]
    },
    {
     "name": "stderr",
     "output_type": "stream",
     "text": [
      "\n"
     ]
    },
    {
     "name": "stdout",
     "output_type": "stream",
     "text": [
      "Closing dataloader mosaic\n",
      "\n",
      "      Epoch    GPU_mem   box_loss   cls_loss   dfl_loss  Instances       Size\n"
     ]
    },
    {
     "name": "stderr",
     "output_type": "stream",
     "text": [
      "      51/60      10.3G     0.9361     0.5871      1.277          6        640: 100%|██████████| 244/244 [10:29<00:00,  2.58s/it]\n",
      "                 Class     Images  Instances      Box(P          R      mAP50  mAP50-95): 100%|██████████| 31/31 [01:32<00:00,  2.98s/it]"
     ]
    },
    {
     "name": "stdout",
     "output_type": "stream",
     "text": [
      "                   all       1217       2581      0.854      0.674      0.776      0.543\n"
     ]
    },
    {
     "name": "stderr",
     "output_type": "stream",
     "text": [
      "\n"
     ]
    },
    {
     "name": "stdout",
     "output_type": "stream",
     "text": [
      "\n",
      "      Epoch    GPU_mem   box_loss   cls_loss   dfl_loss  Instances       Size\n"
     ]
    },
    {
     "name": "stderr",
     "output_type": "stream",
     "text": [
      "      52/60      10.3G     0.9131     0.5599      1.264          8        640: 100%|██████████| 244/244 [21:53<00:00,  5.38s/it]\n",
      "                 Class     Images  Instances      Box(P          R      mAP50  mAP50-95): 100%|██████████| 31/31 [01:32<00:00,  2.97s/it]"
     ]
    },
    {
     "name": "stdout",
     "output_type": "stream",
     "text": [
      "                   all       1217       2581      0.826      0.699      0.778      0.548\n"
     ]
    },
    {
     "name": "stderr",
     "output_type": "stream",
     "text": [
      "\n"
     ]
    },
    {
     "name": "stdout",
     "output_type": "stream",
     "text": [
      "\n",
      "      Epoch    GPU_mem   box_loss   cls_loss   dfl_loss  Instances       Size\n"
     ]
    },
    {
     "name": "stderr",
     "output_type": "stream",
     "text": [
      "      53/60      10.1G     0.9071     0.5436       1.26          3        640: 100%|██████████| 244/244 [21:52<00:00,  5.38s/it]\n",
      "                 Class     Images  Instances      Box(P          R      mAP50  mAP50-95): 100%|██████████| 31/31 [01:30<00:00,  2.91s/it]"
     ]
    },
    {
     "name": "stdout",
     "output_type": "stream",
     "text": [
      "                   all       1217       2581       0.81      0.713      0.782      0.549\n"
     ]
    },
    {
     "name": "stderr",
     "output_type": "stream",
     "text": [
      "\n"
     ]
    },
    {
     "name": "stdout",
     "output_type": "stream",
     "text": [
      "\n",
      "      Epoch    GPU_mem   box_loss   cls_loss   dfl_loss  Instances       Size\n"
     ]
    },
    {
     "name": "stderr",
     "output_type": "stream",
     "text": [
      "      54/60      10.3G     0.8827     0.5267      1.235          3        640: 100%|██████████| 244/244 [21:55<00:00,  5.39s/it]\n",
      "                 Class     Images  Instances      Box(P          R      mAP50  mAP50-95): 100%|██████████| 31/31 [01:30<00:00,  2.91s/it]"
     ]
    },
    {
     "name": "stdout",
     "output_type": "stream",
     "text": [
      "                   all       1217       2581       0.79      0.733      0.787       0.55\n"
     ]
    },
    {
     "name": "stderr",
     "output_type": "stream",
     "text": [
      "\n"
     ]
    },
    {
     "name": "stdout",
     "output_type": "stream",
     "text": [
      "\n",
      "      Epoch    GPU_mem   box_loss   cls_loss   dfl_loss  Instances       Size\n"
     ]
    },
    {
     "name": "stderr",
     "output_type": "stream",
     "text": [
      "      55/60      10.3G     0.8732     0.5153      1.231          3        640: 100%|██████████| 244/244 [21:59<00:00,  5.41s/it]\n",
      "                 Class     Images  Instances      Box(P          R      mAP50  mAP50-95): 100%|██████████| 31/31 [01:32<00:00,  2.98s/it]"
     ]
    },
    {
     "name": "stdout",
     "output_type": "stream",
     "text": [
      "                   all       1217       2581      0.803       0.73      0.795      0.557\n"
     ]
    },
    {
     "name": "stderr",
     "output_type": "stream",
     "text": [
      "\n"
     ]
    },
    {
     "name": "stdout",
     "output_type": "stream",
     "text": [
      "\n",
      "      Epoch    GPU_mem   box_loss   cls_loss   dfl_loss  Instances       Size\n"
     ]
    },
    {
     "name": "stderr",
     "output_type": "stream",
     "text": [
      "      56/60      10.2G     0.8607     0.5108      1.225          4        640: 100%|██████████| 244/244 [21:56<00:00,  5.39s/it]\n",
      "                 Class     Images  Instances      Box(P          R      mAP50  mAP50-95): 100%|██████████| 31/31 [01:31<00:00,  2.95s/it]"
     ]
    },
    {
     "name": "stdout",
     "output_type": "stream",
     "text": [
      "                   all       1217       2581      0.802      0.732      0.791      0.554\n"
     ]
    },
    {
     "name": "stderr",
     "output_type": "stream",
     "text": [
      "\n"
     ]
    },
    {
     "name": "stdout",
     "output_type": "stream",
     "text": [
      "\n",
      "      Epoch    GPU_mem   box_loss   cls_loss   dfl_loss  Instances       Size\n"
     ]
    },
    {
     "name": "stderr",
     "output_type": "stream",
     "text": [
      "      57/60      10.3G     0.8448     0.4975      1.215          3        640: 100%|██████████| 244/244 [21:52<00:00,  5.38s/it]\n",
      "                 Class     Images  Instances      Box(P          R      mAP50  mAP50-95): 100%|██████████| 31/31 [01:32<00:00,  2.97s/it]"
     ]
    },
    {
     "name": "stdout",
     "output_type": "stream",
     "text": [
      "                   all       1217       2581      0.789      0.739      0.792      0.556\n"
     ]
    },
    {
     "name": "stderr",
     "output_type": "stream",
     "text": [
      "\n"
     ]
    },
    {
     "name": "stdout",
     "output_type": "stream",
     "text": [
      "\n",
      "      Epoch    GPU_mem   box_loss   cls_loss   dfl_loss  Instances       Size\n"
     ]
    },
    {
     "name": "stderr",
     "output_type": "stream",
     "text": [
      "      58/60      10.3G      0.835     0.4762      1.205          3        640: 100%|██████████| 244/244 [21:52<00:00,  5.38s/it]\n",
      "                 Class     Images  Instances      Box(P          R      mAP50  mAP50-95): 100%|██████████| 31/31 [01:32<00:00,  2.97s/it]"
     ]
    },
    {
     "name": "stdout",
     "output_type": "stream",
     "text": [
      "                   all       1217       2581      0.827      0.708      0.788      0.551\n"
     ]
    },
    {
     "name": "stderr",
     "output_type": "stream",
     "text": [
      "\n"
     ]
    },
    {
     "name": "stdout",
     "output_type": "stream",
     "text": [
      "\n",
      "      Epoch    GPU_mem   box_loss   cls_loss   dfl_loss  Instances       Size\n"
     ]
    },
    {
     "name": "stderr",
     "output_type": "stream",
     "text": [
      "      59/60      10.2G     0.8292     0.4824      1.203          7        640: 100%|██████████| 244/244 [21:51<00:00,  5.38s/it]\n",
      "                 Class     Images  Instances      Box(P          R      mAP50  mAP50-95): 100%|██████████| 31/31 [01:29<00:00,  2.88s/it]"
     ]
    },
    {
     "name": "stdout",
     "output_type": "stream",
     "text": [
      "                   all       1217       2581      0.823      0.715       0.79      0.553\n"
     ]
    },
    {
     "name": "stderr",
     "output_type": "stream",
     "text": [
      "\n"
     ]
    },
    {
     "name": "stdout",
     "output_type": "stream",
     "text": [
      "\n",
      "      Epoch    GPU_mem   box_loss   cls_loss   dfl_loss  Instances       Size\n"
     ]
    },
    {
     "name": "stderr",
     "output_type": "stream",
     "text": [
      "      60/60      10.3G     0.8246     0.4697      1.199          6        640: 100%|██████████| 244/244 [21:43<00:00,  5.34s/it]\n",
      "                 Class     Images  Instances      Box(P          R      mAP50  mAP50-95): 100%|██████████| 31/31 [01:30<00:00,  2.91s/it]"
     ]
    },
    {
     "name": "stdout",
     "output_type": "stream",
     "text": [
      "                   all       1217       2581      0.819      0.715      0.792      0.554\n"
     ]
    },
    {
     "name": "stderr",
     "output_type": "stream",
     "text": [
      "\n"
     ]
    },
    {
     "name": "stdout",
     "output_type": "stream",
     "text": [
      "\n",
      "60 epochs completed in 23.043 hours.\n",
      "Optimizer stripped from runs\\detect\\train6\\weights\\last.pt, 52.0MB\n",
      "Optimizer stripped from runs\\detect\\train6\\weights\\best.pt, 52.0MB\n",
      "\n",
      "Validating runs\\detect\\train6\\weights\\best.pt...\n",
      "Ultralytics YOLOv8.2.96  Python-3.11.9 torch-2.0.1+cu117 CUDA:0 (NVIDIA GeForce GTX 1080 Ti, 11264MiB)\n",
      "Model summary (fused): 218 layers, 25,842,655 parameters, 0 gradients, 78.7 GFLOPs\n"
     ]
    },
    {
     "name": "stderr",
     "output_type": "stream",
     "text": [
      "                 Class     Images  Instances      Box(P          R      mAP50  mAP50-95): 100%|██████████| 31/31 [01:31<00:00,  2.94s/it]\n"
     ]
    },
    {
     "name": "stdout",
     "output_type": "stream",
     "text": [
      "                   all       1217       2581      0.804       0.73      0.795      0.557\n",
      "                1Class        106        147       0.82      0.687      0.777        0.6\n",
      "                2Class        166        422      0.772      0.724      0.777       0.58\n",
      "                3Class        784       1602      0.818      0.745      0.803      0.469\n",
      "                0Class        200        410      0.805      0.764      0.823      0.579\n",
      "Speed: 1.1ms preprocess, 65.8ms inference, 0.0ms loss, 1.7ms postprocess per image\n",
      "Results saved to \u001b[1mruns\\detect\\train6\u001b[0m\n",
      "Model generated detections.\n",
      "{'metrics/precision(B)': 0.803666481409893, 'metrics/recall(B)': 0.7300323608309245, 'metrics/mAP50(B)': 0.7949920553575364, 'metrics/mAP50-95(B)': 0.5570279841840544, 'fitness': 0.5808243913014026}\n",
      "Ultralytics YOLOv8.2.96  Python-3.11.9 torch-2.0.1+cu117 CUDA:0 (NVIDIA GeForce GTX 1080 Ti, 11264MiB)\n",
      "Model summary (fused): 218 layers, 25,842,655 parameters, 0 gradients, 78.7 GFLOPs\n"
     ]
    },
    {
     "name": "stderr",
     "output_type": "stream",
     "text": [
      "\u001b[34m\u001b[1mval: \u001b[0mScanning C:\\Users\\Vlada\\Documents\\Business\\AI\\AI University\\Стажировка 1-Создание системы распознавания взрывоопасных предметов для перегружателей металлического лома\\DataSet\\dataset_vtormet\\val\\labels.cache... 1217 images, 0 backgrounds, 0 corrupt: 100%|██████████| 1217/1217 [00:00<?, ?it/s]\n",
      "                 Class     Images  Instances      Box(P          R      mAP50  mAP50-95): 100%|██████████| 61/61 [02:01<00:00,  1.99s/it]\n"
     ]
    },
    {
     "name": "stdout",
     "output_type": "stream",
     "text": [
      "                   all       1217       2581      0.804       0.73      0.795      0.558\n",
      "                1Class        106        147       0.82      0.687      0.778      0.603\n",
      "                2Class        166        422      0.771      0.723      0.777      0.582\n",
      "                3Class        784       1602      0.818      0.745      0.803      0.468\n",
      "                0Class        200        410      0.805      0.764      0.823      0.579\n",
      "Speed: 1.4ms preprocess, 89.8ms inference, 0.0ms loss, 1.7ms postprocess per image\n",
      "Results saved to \u001b[1mruns\\detect\\train62\u001b[0m\n",
      "Результаты валидации:\n",
      "ultralytics.utils.metrics.DetMetrics object with attributes:\n",
      "\n",
      "ap_class_index: array([0, 1, 2, 3])\n",
      "box: ultralytics.utils.metrics.Metric object\n",
      "confusion_matrix: <ultralytics.utils.metrics.ConfusionMatrix object at 0x000001381D64E790>\n",
      "curves: ['Precision-Recall(B)', 'F1-Confidence(B)', 'Precision-Confidence(B)', 'Recall-Confidence(B)']\n",
      "curves_results: [[array([          0,    0.001001,    0.002002,    0.003003,    0.004004,    0.005005,    0.006006,    0.007007,    0.008008,    0.009009,     0.01001,    0.011011,    0.012012,    0.013013,    0.014014,    0.015015,    0.016016,    0.017017,    0.018018,    0.019019,     0.02002,    0.021021,    0.022022,    0.023023,\n",
      "          0.024024,    0.025025,    0.026026,    0.027027,    0.028028,    0.029029,     0.03003,    0.031031,    0.032032,    0.033033,    0.034034,    0.035035,    0.036036,    0.037037,    0.038038,    0.039039,     0.04004,    0.041041,    0.042042,    0.043043,    0.044044,    0.045045,    0.046046,    0.047047,\n",
      "          0.048048,    0.049049,     0.05005,    0.051051,    0.052052,    0.053053,    0.054054,    0.055055,    0.056056,    0.057057,    0.058058,    0.059059,     0.06006,    0.061061,    0.062062,    0.063063,    0.064064,    0.065065,    0.066066,    0.067067,    0.068068,    0.069069,     0.07007,    0.071071,\n",
      "          0.072072,    0.073073,    0.074074,    0.075075,    0.076076,    0.077077,    0.078078,    0.079079,     0.08008,    0.081081,    0.082082,    0.083083,    0.084084,    0.085085,    0.086086,    0.087087,    0.088088,    0.089089,     0.09009,    0.091091,    0.092092,    0.093093,    0.094094,    0.095095,\n",
      "          0.096096,    0.097097,    0.098098,    0.099099,      0.1001,      0.1011,      0.1021,      0.1031,      0.1041,     0.10511,     0.10611,     0.10711,     0.10811,     0.10911,     0.11011,     0.11111,     0.11211,     0.11311,     0.11411,     0.11512,     0.11612,     0.11712,     0.11812,     0.11912,\n",
      "           0.12012,     0.12112,     0.12212,     0.12312,     0.12412,     0.12513,     0.12613,     0.12713,     0.12813,     0.12913,     0.13013,     0.13113,     0.13213,     0.13313,     0.13413,     0.13514,     0.13614,     0.13714,     0.13814,     0.13914,     0.14014,     0.14114,     0.14214,     0.14314,\n",
      "           0.14414,     0.14515,     0.14615,     0.14715,     0.14815,     0.14915,     0.15015,     0.15115,     0.15215,     0.15315,     0.15415,     0.15516,     0.15616,     0.15716,     0.15816,     0.15916,     0.16016,     0.16116,     0.16216,     0.16316,     0.16416,     0.16517,     0.16617,     0.16717,\n",
      "           0.16817,     0.16917,     0.17017,     0.17117,     0.17217,     0.17317,     0.17417,     0.17518,     0.17618,     0.17718,     0.17818,     0.17918,     0.18018,     0.18118,     0.18218,     0.18318,     0.18418,     0.18519,     0.18619,     0.18719,     0.18819,     0.18919,     0.19019,     0.19119,\n",
      "           0.19219,     0.19319,     0.19419,      0.1952,      0.1962,      0.1972,      0.1982,      0.1992,      0.2002,      0.2012,      0.2022,      0.2032,      0.2042,     0.20521,     0.20621,     0.20721,     0.20821,     0.20921,     0.21021,     0.21121,     0.21221,     0.21321,     0.21421,     0.21522,\n",
      "           0.21622,     0.21722,     0.21822,     0.21922,     0.22022,     0.22122,     0.22222,     0.22322,     0.22422,     0.22523,     0.22623,     0.22723,     0.22823,     0.22923,     0.23023,     0.23123,     0.23223,     0.23323,     0.23423,     0.23524,     0.23624,     0.23724,     0.23824,     0.23924,\n",
      "           0.24024,     0.24124,     0.24224,     0.24324,     0.24424,     0.24525,     0.24625,     0.24725,     0.24825,     0.24925,     0.25025,     0.25125,     0.25225,     0.25325,     0.25425,     0.25526,     0.25626,     0.25726,     0.25826,     0.25926,     0.26026,     0.26126,     0.26226,     0.26326,\n",
      "           0.26426,     0.26527,     0.26627,     0.26727,     0.26827,     0.26927,     0.27027,     0.27127,     0.27227,     0.27327,     0.27427,     0.27528,     0.27628,     0.27728,     0.27828,     0.27928,     0.28028,     0.28128,     0.28228,     0.28328,     0.28428,     0.28529,     0.28629,     0.28729,\n",
      "           0.28829,     0.28929,     0.29029,     0.29129,     0.29229,     0.29329,     0.29429,      0.2953,      0.2963,      0.2973,      0.2983,      0.2993,      0.3003,      0.3013,      0.3023,      0.3033,      0.3043,     0.30531,     0.30631,     0.30731,     0.30831,     0.30931,     0.31031,     0.31131,\n",
      "           0.31231,     0.31331,     0.31431,     0.31532,     0.31632,     0.31732,     0.31832,     0.31932,     0.32032,     0.32132,     0.32232,     0.32332,     0.32432,     0.32533,     0.32633,     0.32733,     0.32833,     0.32933,     0.33033,     0.33133,     0.33233,     0.33333,     0.33433,     0.33534,\n",
      "           0.33634,     0.33734,     0.33834,     0.33934,     0.34034,     0.34134,     0.34234,     0.34334,     0.34434,     0.34535,     0.34635,     0.34735,     0.34835,     0.34935,     0.35035,     0.35135,     0.35235,     0.35335,     0.35435,     0.35536,     0.35636,     0.35736,     0.35836,     0.35936,\n",
      "           0.36036,     0.36136,     0.36236,     0.36336,     0.36436,     0.36537,     0.36637,     0.36737,     0.36837,     0.36937,     0.37037,     0.37137,     0.37237,     0.37337,     0.37437,     0.37538,     0.37638,     0.37738,     0.37838,     0.37938,     0.38038,     0.38138,     0.38238,     0.38338,\n",
      "           0.38438,     0.38539,     0.38639,     0.38739,     0.38839,     0.38939,     0.39039,     0.39139,     0.39239,     0.39339,     0.39439,      0.3954,      0.3964,      0.3974,      0.3984,      0.3994,      0.4004,      0.4014,      0.4024,      0.4034,      0.4044,     0.40541,     0.40641,     0.40741,\n",
      "           0.40841,     0.40941,     0.41041,     0.41141,     0.41241,     0.41341,     0.41441,     0.41542,     0.41642,     0.41742,     0.41842,     0.41942,     0.42042,     0.42142,     0.42242,     0.42342,     0.42442,     0.42543,     0.42643,     0.42743,     0.42843,     0.42943,     0.43043,     0.43143,\n",
      "           0.43243,     0.43343,     0.43443,     0.43544,     0.43644,     0.43744,     0.43844,     0.43944,     0.44044,     0.44144,     0.44244,     0.44344,     0.44444,     0.44545,     0.44645,     0.44745,     0.44845,     0.44945,     0.45045,     0.45145,     0.45245,     0.45345,     0.45445,     0.45546,\n",
      "           0.45646,     0.45746,     0.45846,     0.45946,     0.46046,     0.46146,     0.46246,     0.46346,     0.46446,     0.46547,     0.46647,     0.46747,     0.46847,     0.46947,     0.47047,     0.47147,     0.47247,     0.47347,     0.47447,     0.47548,     0.47648,     0.47748,     0.47848,     0.47948,\n",
      "           0.48048,     0.48148,     0.48248,     0.48348,     0.48448,     0.48549,     0.48649,     0.48749,     0.48849,     0.48949,     0.49049,     0.49149,     0.49249,     0.49349,     0.49449,      0.4955,      0.4965,      0.4975,      0.4985,      0.4995,      0.5005,      0.5015,      0.5025,      0.5035,\n",
      "            0.5045,     0.50551,     0.50651,     0.50751,     0.50851,     0.50951,     0.51051,     0.51151,     0.51251,     0.51351,     0.51451,     0.51552,     0.51652,     0.51752,     0.51852,     0.51952,     0.52052,     0.52152,     0.52252,     0.52352,     0.52452,     0.52553,     0.52653,     0.52753,\n",
      "           0.52853,     0.52953,     0.53053,     0.53153,     0.53253,     0.53353,     0.53453,     0.53554,     0.53654,     0.53754,     0.53854,     0.53954,     0.54054,     0.54154,     0.54254,     0.54354,     0.54454,     0.54555,     0.54655,     0.54755,     0.54855,     0.54955,     0.55055,     0.55155,\n",
      "           0.55255,     0.55355,     0.55455,     0.55556,     0.55656,     0.55756,     0.55856,     0.55956,     0.56056,     0.56156,     0.56256,     0.56356,     0.56456,     0.56557,     0.56657,     0.56757,     0.56857,     0.56957,     0.57057,     0.57157,     0.57257,     0.57357,     0.57457,     0.57558,\n",
      "           0.57658,     0.57758,     0.57858,     0.57958,     0.58058,     0.58158,     0.58258,     0.58358,     0.58458,     0.58559,     0.58659,     0.58759,     0.58859,     0.58959,     0.59059,     0.59159,     0.59259,     0.59359,     0.59459,      0.5956,      0.5966,      0.5976,      0.5986,      0.5996,\n",
      "            0.6006,      0.6016,      0.6026,      0.6036,      0.6046,     0.60561,     0.60661,     0.60761,     0.60861,     0.60961,     0.61061,     0.61161,     0.61261,     0.61361,     0.61461,     0.61562,     0.61662,     0.61762,     0.61862,     0.61962,     0.62062,     0.62162,     0.62262,     0.62362,\n",
      "           0.62462,     0.62563,     0.62663,     0.62763,     0.62863,     0.62963,     0.63063,     0.63163,     0.63263,     0.63363,     0.63463,     0.63564,     0.63664,     0.63764,     0.63864,     0.63964,     0.64064,     0.64164,     0.64264,     0.64364,     0.64464,     0.64565,     0.64665,     0.64765,\n",
      "           0.64865,     0.64965,     0.65065,     0.65165,     0.65265,     0.65365,     0.65465,     0.65566,     0.65666,     0.65766,     0.65866,     0.65966,     0.66066,     0.66166,     0.66266,     0.66366,     0.66466,     0.66567,     0.66667,     0.66767,     0.66867,     0.66967,     0.67067,     0.67167,\n",
      "           0.67267,     0.67367,     0.67467,     0.67568,     0.67668,     0.67768,     0.67868,     0.67968,     0.68068,     0.68168,     0.68268,     0.68368,     0.68468,     0.68569,     0.68669,     0.68769,     0.68869,     0.68969,     0.69069,     0.69169,     0.69269,     0.69369,     0.69469,      0.6957,\n",
      "            0.6967,      0.6977,      0.6987,      0.6997,      0.7007,      0.7017,      0.7027,      0.7037,      0.7047,     0.70571,     0.70671,     0.70771,     0.70871,     0.70971,     0.71071,     0.71171,     0.71271,     0.71371,     0.71471,     0.71572,     0.71672,     0.71772,     0.71872,     0.71972,\n",
      "           0.72072,     0.72172,     0.72272,     0.72372,     0.72472,     0.72573,     0.72673,     0.72773,     0.72873,     0.72973,     0.73073,     0.73173,     0.73273,     0.73373,     0.73473,     0.73574,     0.73674,     0.73774,     0.73874,     0.73974,     0.74074,     0.74174,     0.74274,     0.74374,\n",
      "           0.74474,     0.74575,     0.74675,     0.74775,     0.74875,     0.74975,     0.75075,     0.75175,     0.75275,     0.75375,     0.75475,     0.75576,     0.75676,     0.75776,     0.75876,     0.75976,     0.76076,     0.76176,     0.76276,     0.76376,     0.76476,     0.76577,     0.76677,     0.76777,\n",
      "           0.76877,     0.76977,     0.77077,     0.77177,     0.77277,     0.77377,     0.77477,     0.77578,     0.77678,     0.77778,     0.77878,     0.77978,     0.78078,     0.78178,     0.78278,     0.78378,     0.78478,     0.78579,     0.78679,     0.78779,     0.78879,     0.78979,     0.79079,     0.79179,\n",
      "           0.79279,     0.79379,     0.79479,      0.7958,      0.7968,      0.7978,      0.7988,      0.7998,      0.8008,      0.8018,      0.8028,      0.8038,      0.8048,     0.80581,     0.80681,     0.80781,     0.80881,     0.80981,     0.81081,     0.81181,     0.81281,     0.81381,     0.81481,     0.81582,\n",
      "           0.81682,     0.81782,     0.81882,     0.81982,     0.82082,     0.82182,     0.82282,     0.82382,     0.82482,     0.82583,     0.82683,     0.82783,     0.82883,     0.82983,     0.83083,     0.83183,     0.83283,     0.83383,     0.83483,     0.83584,     0.83684,     0.83784,     0.83884,     0.83984,\n",
      "           0.84084,     0.84184,     0.84284,     0.84384,     0.84484,     0.84585,     0.84685,     0.84785,     0.84885,     0.84985,     0.85085,     0.85185,     0.85285,     0.85385,     0.85485,     0.85586,     0.85686,     0.85786,     0.85886,     0.85986,     0.86086,     0.86186,     0.86286,     0.86386,\n",
      "           0.86486,     0.86587,     0.86687,     0.86787,     0.86887,     0.86987,     0.87087,     0.87187,     0.87287,     0.87387,     0.87487,     0.87588,     0.87688,     0.87788,     0.87888,     0.87988,     0.88088,     0.88188,     0.88288,     0.88388,     0.88488,     0.88589,     0.88689,     0.88789,\n",
      "           0.88889,     0.88989,     0.89089,     0.89189,     0.89289,     0.89389,     0.89489,      0.8959,      0.8969,      0.8979,      0.8989,      0.8999,      0.9009,      0.9019,      0.9029,      0.9039,      0.9049,     0.90591,     0.90691,     0.90791,     0.90891,     0.90991,     0.91091,     0.91191,\n",
      "           0.91291,     0.91391,     0.91491,     0.91592,     0.91692,     0.91792,     0.91892,     0.91992,     0.92092,     0.92192,     0.92292,     0.92392,     0.92492,     0.92593,     0.92693,     0.92793,     0.92893,     0.92993,     0.93093,     0.93193,     0.93293,     0.93393,     0.93493,     0.93594,\n",
      "           0.93694,     0.93794,     0.93894,     0.93994,     0.94094,     0.94194,     0.94294,     0.94394,     0.94494,     0.94595,     0.94695,     0.94795,     0.94895,     0.94995,     0.95095,     0.95195,     0.95295,     0.95395,     0.95495,     0.95596,     0.95696,     0.95796,     0.95896,     0.95996,\n",
      "           0.96096,     0.96196,     0.96296,     0.96396,     0.96496,     0.96597,     0.96697,     0.96797,     0.96897,     0.96997,     0.97097,     0.97197,     0.97297,     0.97397,     0.97497,     0.97598,     0.97698,     0.97798,     0.97898,     0.97998,     0.98098,     0.98198,     0.98298,     0.98398,\n",
      "           0.98498,     0.98599,     0.98699,     0.98799,     0.98899,     0.98999,     0.99099,     0.99199,     0.99299,     0.99399,     0.99499,       0.996,       0.997,       0.998,       0.999,           1]), array([[          1,           1,           1, ...,   0.0016752,  0.00083761,           0],\n",
      "       [          1,           1,           1, ...,   0.0029871,   0.0014935,           0],\n",
      "       [          1,           1,           1, ...,   0.0044044,   0.0022022,           0],\n",
      "       [          1,           1,           1, ...,   0.0038978,   0.0019489,           0]]), 'Recall', 'Precision'], [array([          0,    0.001001,    0.002002,    0.003003,    0.004004,    0.005005,    0.006006,    0.007007,    0.008008,    0.009009,     0.01001,    0.011011,    0.012012,    0.013013,    0.014014,    0.015015,    0.016016,    0.017017,    0.018018,    0.019019,     0.02002,    0.021021,    0.022022,    0.023023,\n",
      "          0.024024,    0.025025,    0.026026,    0.027027,    0.028028,    0.029029,     0.03003,    0.031031,    0.032032,    0.033033,    0.034034,    0.035035,    0.036036,    0.037037,    0.038038,    0.039039,     0.04004,    0.041041,    0.042042,    0.043043,    0.044044,    0.045045,    0.046046,    0.047047,\n",
      "          0.048048,    0.049049,     0.05005,    0.051051,    0.052052,    0.053053,    0.054054,    0.055055,    0.056056,    0.057057,    0.058058,    0.059059,     0.06006,    0.061061,    0.062062,    0.063063,    0.064064,    0.065065,    0.066066,    0.067067,    0.068068,    0.069069,     0.07007,    0.071071,\n",
      "          0.072072,    0.073073,    0.074074,    0.075075,    0.076076,    0.077077,    0.078078,    0.079079,     0.08008,    0.081081,    0.082082,    0.083083,    0.084084,    0.085085,    0.086086,    0.087087,    0.088088,    0.089089,     0.09009,    0.091091,    0.092092,    0.093093,    0.094094,    0.095095,\n",
      "          0.096096,    0.097097,    0.098098,    0.099099,      0.1001,      0.1011,      0.1021,      0.1031,      0.1041,     0.10511,     0.10611,     0.10711,     0.10811,     0.10911,     0.11011,     0.11111,     0.11211,     0.11311,     0.11411,     0.11512,     0.11612,     0.11712,     0.11812,     0.11912,\n",
      "           0.12012,     0.12112,     0.12212,     0.12312,     0.12412,     0.12513,     0.12613,     0.12713,     0.12813,     0.12913,     0.13013,     0.13113,     0.13213,     0.13313,     0.13413,     0.13514,     0.13614,     0.13714,     0.13814,     0.13914,     0.14014,     0.14114,     0.14214,     0.14314,\n",
      "           0.14414,     0.14515,     0.14615,     0.14715,     0.14815,     0.14915,     0.15015,     0.15115,     0.15215,     0.15315,     0.15415,     0.15516,     0.15616,     0.15716,     0.15816,     0.15916,     0.16016,     0.16116,     0.16216,     0.16316,     0.16416,     0.16517,     0.16617,     0.16717,\n",
      "           0.16817,     0.16917,     0.17017,     0.17117,     0.17217,     0.17317,     0.17417,     0.17518,     0.17618,     0.17718,     0.17818,     0.17918,     0.18018,     0.18118,     0.18218,     0.18318,     0.18418,     0.18519,     0.18619,     0.18719,     0.18819,     0.18919,     0.19019,     0.19119,\n",
      "           0.19219,     0.19319,     0.19419,      0.1952,      0.1962,      0.1972,      0.1982,      0.1992,      0.2002,      0.2012,      0.2022,      0.2032,      0.2042,     0.20521,     0.20621,     0.20721,     0.20821,     0.20921,     0.21021,     0.21121,     0.21221,     0.21321,     0.21421,     0.21522,\n",
      "           0.21622,     0.21722,     0.21822,     0.21922,     0.22022,     0.22122,     0.22222,     0.22322,     0.22422,     0.22523,     0.22623,     0.22723,     0.22823,     0.22923,     0.23023,     0.23123,     0.23223,     0.23323,     0.23423,     0.23524,     0.23624,     0.23724,     0.23824,     0.23924,\n",
      "           0.24024,     0.24124,     0.24224,     0.24324,     0.24424,     0.24525,     0.24625,     0.24725,     0.24825,     0.24925,     0.25025,     0.25125,     0.25225,     0.25325,     0.25425,     0.25526,     0.25626,     0.25726,     0.25826,     0.25926,     0.26026,     0.26126,     0.26226,     0.26326,\n",
      "           0.26426,     0.26527,     0.26627,     0.26727,     0.26827,     0.26927,     0.27027,     0.27127,     0.27227,     0.27327,     0.27427,     0.27528,     0.27628,     0.27728,     0.27828,     0.27928,     0.28028,     0.28128,     0.28228,     0.28328,     0.28428,     0.28529,     0.28629,     0.28729,\n",
      "           0.28829,     0.28929,     0.29029,     0.29129,     0.29229,     0.29329,     0.29429,      0.2953,      0.2963,      0.2973,      0.2983,      0.2993,      0.3003,      0.3013,      0.3023,      0.3033,      0.3043,     0.30531,     0.30631,     0.30731,     0.30831,     0.30931,     0.31031,     0.31131,\n",
      "           0.31231,     0.31331,     0.31431,     0.31532,     0.31632,     0.31732,     0.31832,     0.31932,     0.32032,     0.32132,     0.32232,     0.32332,     0.32432,     0.32533,     0.32633,     0.32733,     0.32833,     0.32933,     0.33033,     0.33133,     0.33233,     0.33333,     0.33433,     0.33534,\n",
      "           0.33634,     0.33734,     0.33834,     0.33934,     0.34034,     0.34134,     0.34234,     0.34334,     0.34434,     0.34535,     0.34635,     0.34735,     0.34835,     0.34935,     0.35035,     0.35135,     0.35235,     0.35335,     0.35435,     0.35536,     0.35636,     0.35736,     0.35836,     0.35936,\n",
      "           0.36036,     0.36136,     0.36236,     0.36336,     0.36436,     0.36537,     0.36637,     0.36737,     0.36837,     0.36937,     0.37037,     0.37137,     0.37237,     0.37337,     0.37437,     0.37538,     0.37638,     0.37738,     0.37838,     0.37938,     0.38038,     0.38138,     0.38238,     0.38338,\n",
      "           0.38438,     0.38539,     0.38639,     0.38739,     0.38839,     0.38939,     0.39039,     0.39139,     0.39239,     0.39339,     0.39439,      0.3954,      0.3964,      0.3974,      0.3984,      0.3994,      0.4004,      0.4014,      0.4024,      0.4034,      0.4044,     0.40541,     0.40641,     0.40741,\n",
      "           0.40841,     0.40941,     0.41041,     0.41141,     0.41241,     0.41341,     0.41441,     0.41542,     0.41642,     0.41742,     0.41842,     0.41942,     0.42042,     0.42142,     0.42242,     0.42342,     0.42442,     0.42543,     0.42643,     0.42743,     0.42843,     0.42943,     0.43043,     0.43143,\n",
      "           0.43243,     0.43343,     0.43443,     0.43544,     0.43644,     0.43744,     0.43844,     0.43944,     0.44044,     0.44144,     0.44244,     0.44344,     0.44444,     0.44545,     0.44645,     0.44745,     0.44845,     0.44945,     0.45045,     0.45145,     0.45245,     0.45345,     0.45445,     0.45546,\n",
      "           0.45646,     0.45746,     0.45846,     0.45946,     0.46046,     0.46146,     0.46246,     0.46346,     0.46446,     0.46547,     0.46647,     0.46747,     0.46847,     0.46947,     0.47047,     0.47147,     0.47247,     0.47347,     0.47447,     0.47548,     0.47648,     0.47748,     0.47848,     0.47948,\n",
      "           0.48048,     0.48148,     0.48248,     0.48348,     0.48448,     0.48549,     0.48649,     0.48749,     0.48849,     0.48949,     0.49049,     0.49149,     0.49249,     0.49349,     0.49449,      0.4955,      0.4965,      0.4975,      0.4985,      0.4995,      0.5005,      0.5015,      0.5025,      0.5035,\n",
      "            0.5045,     0.50551,     0.50651,     0.50751,     0.50851,     0.50951,     0.51051,     0.51151,     0.51251,     0.51351,     0.51451,     0.51552,     0.51652,     0.51752,     0.51852,     0.51952,     0.52052,     0.52152,     0.52252,     0.52352,     0.52452,     0.52553,     0.52653,     0.52753,\n",
      "           0.52853,     0.52953,     0.53053,     0.53153,     0.53253,     0.53353,     0.53453,     0.53554,     0.53654,     0.53754,     0.53854,     0.53954,     0.54054,     0.54154,     0.54254,     0.54354,     0.54454,     0.54555,     0.54655,     0.54755,     0.54855,     0.54955,     0.55055,     0.55155,\n",
      "           0.55255,     0.55355,     0.55455,     0.55556,     0.55656,     0.55756,     0.55856,     0.55956,     0.56056,     0.56156,     0.56256,     0.56356,     0.56456,     0.56557,     0.56657,     0.56757,     0.56857,     0.56957,     0.57057,     0.57157,     0.57257,     0.57357,     0.57457,     0.57558,\n",
      "           0.57658,     0.57758,     0.57858,     0.57958,     0.58058,     0.58158,     0.58258,     0.58358,     0.58458,     0.58559,     0.58659,     0.58759,     0.58859,     0.58959,     0.59059,     0.59159,     0.59259,     0.59359,     0.59459,      0.5956,      0.5966,      0.5976,      0.5986,      0.5996,\n",
      "            0.6006,      0.6016,      0.6026,      0.6036,      0.6046,     0.60561,     0.60661,     0.60761,     0.60861,     0.60961,     0.61061,     0.61161,     0.61261,     0.61361,     0.61461,     0.61562,     0.61662,     0.61762,     0.61862,     0.61962,     0.62062,     0.62162,     0.62262,     0.62362,\n",
      "           0.62462,     0.62563,     0.62663,     0.62763,     0.62863,     0.62963,     0.63063,     0.63163,     0.63263,     0.63363,     0.63463,     0.63564,     0.63664,     0.63764,     0.63864,     0.63964,     0.64064,     0.64164,     0.64264,     0.64364,     0.64464,     0.64565,     0.64665,     0.64765,\n",
      "           0.64865,     0.64965,     0.65065,     0.65165,     0.65265,     0.65365,     0.65465,     0.65566,     0.65666,     0.65766,     0.65866,     0.65966,     0.66066,     0.66166,     0.66266,     0.66366,     0.66466,     0.66567,     0.66667,     0.66767,     0.66867,     0.66967,     0.67067,     0.67167,\n",
      "           0.67267,     0.67367,     0.67467,     0.67568,     0.67668,     0.67768,     0.67868,     0.67968,     0.68068,     0.68168,     0.68268,     0.68368,     0.68468,     0.68569,     0.68669,     0.68769,     0.68869,     0.68969,     0.69069,     0.69169,     0.69269,     0.69369,     0.69469,      0.6957,\n",
      "            0.6967,      0.6977,      0.6987,      0.6997,      0.7007,      0.7017,      0.7027,      0.7037,      0.7047,     0.70571,     0.70671,     0.70771,     0.70871,     0.70971,     0.71071,     0.71171,     0.71271,     0.71371,     0.71471,     0.71572,     0.71672,     0.71772,     0.71872,     0.71972,\n",
      "           0.72072,     0.72172,     0.72272,     0.72372,     0.72472,     0.72573,     0.72673,     0.72773,     0.72873,     0.72973,     0.73073,     0.73173,     0.73273,     0.73373,     0.73473,     0.73574,     0.73674,     0.73774,     0.73874,     0.73974,     0.74074,     0.74174,     0.74274,     0.74374,\n",
      "           0.74474,     0.74575,     0.74675,     0.74775,     0.74875,     0.74975,     0.75075,     0.75175,     0.75275,     0.75375,     0.75475,     0.75576,     0.75676,     0.75776,     0.75876,     0.75976,     0.76076,     0.76176,     0.76276,     0.76376,     0.76476,     0.76577,     0.76677,     0.76777,\n",
      "           0.76877,     0.76977,     0.77077,     0.77177,     0.77277,     0.77377,     0.77477,     0.77578,     0.77678,     0.77778,     0.77878,     0.77978,     0.78078,     0.78178,     0.78278,     0.78378,     0.78478,     0.78579,     0.78679,     0.78779,     0.78879,     0.78979,     0.79079,     0.79179,\n",
      "           0.79279,     0.79379,     0.79479,      0.7958,      0.7968,      0.7978,      0.7988,      0.7998,      0.8008,      0.8018,      0.8028,      0.8038,      0.8048,     0.80581,     0.80681,     0.80781,     0.80881,     0.80981,     0.81081,     0.81181,     0.81281,     0.81381,     0.81481,     0.81582,\n",
      "           0.81682,     0.81782,     0.81882,     0.81982,     0.82082,     0.82182,     0.82282,     0.82382,     0.82482,     0.82583,     0.82683,     0.82783,     0.82883,     0.82983,     0.83083,     0.83183,     0.83283,     0.83383,     0.83483,     0.83584,     0.83684,     0.83784,     0.83884,     0.83984,\n",
      "           0.84084,     0.84184,     0.84284,     0.84384,     0.84484,     0.84585,     0.84685,     0.84785,     0.84885,     0.84985,     0.85085,     0.85185,     0.85285,     0.85385,     0.85485,     0.85586,     0.85686,     0.85786,     0.85886,     0.85986,     0.86086,     0.86186,     0.86286,     0.86386,\n",
      "           0.86486,     0.86587,     0.86687,     0.86787,     0.86887,     0.86987,     0.87087,     0.87187,     0.87287,     0.87387,     0.87487,     0.87588,     0.87688,     0.87788,     0.87888,     0.87988,     0.88088,     0.88188,     0.88288,     0.88388,     0.88488,     0.88589,     0.88689,     0.88789,\n",
      "           0.88889,     0.88989,     0.89089,     0.89189,     0.89289,     0.89389,     0.89489,      0.8959,      0.8969,      0.8979,      0.8989,      0.8999,      0.9009,      0.9019,      0.9029,      0.9039,      0.9049,     0.90591,     0.90691,     0.90791,     0.90891,     0.90991,     0.91091,     0.91191,\n",
      "           0.91291,     0.91391,     0.91491,     0.91592,     0.91692,     0.91792,     0.91892,     0.91992,     0.92092,     0.92192,     0.92292,     0.92392,     0.92492,     0.92593,     0.92693,     0.92793,     0.92893,     0.92993,     0.93093,     0.93193,     0.93293,     0.93393,     0.93493,     0.93594,\n",
      "           0.93694,     0.93794,     0.93894,     0.93994,     0.94094,     0.94194,     0.94294,     0.94394,     0.94494,     0.94595,     0.94695,     0.94795,     0.94895,     0.94995,     0.95095,     0.95195,     0.95295,     0.95395,     0.95495,     0.95596,     0.95696,     0.95796,     0.95896,     0.95996,\n",
      "           0.96096,     0.96196,     0.96296,     0.96396,     0.96496,     0.96597,     0.96697,     0.96797,     0.96897,     0.96997,     0.97097,     0.97197,     0.97297,     0.97397,     0.97497,     0.97598,     0.97698,     0.97798,     0.97898,     0.97998,     0.98098,     0.98198,     0.98298,     0.98398,\n",
      "           0.98498,     0.98599,     0.98699,     0.98799,     0.98899,     0.98999,     0.99099,     0.99199,     0.99299,     0.99399,     0.99499,       0.996,       0.997,       0.998,       0.999,           1]), array([[     0.1835,     0.18377,     0.24869, ...,           0,           0,           0],\n",
      "       [    0.22883,     0.22886,     0.29537, ...,           0,           0,           0],\n",
      "       [    0.20132,      0.2014,     0.26091, ...,           0,           0,           0],\n",
      "       [    0.23271,     0.23271,     0.30723, ...,           0,           0,           0]]), 'Confidence', 'F1'], [array([          0,    0.001001,    0.002002,    0.003003,    0.004004,    0.005005,    0.006006,    0.007007,    0.008008,    0.009009,     0.01001,    0.011011,    0.012012,    0.013013,    0.014014,    0.015015,    0.016016,    0.017017,    0.018018,    0.019019,     0.02002,    0.021021,    0.022022,    0.023023,\n",
      "          0.024024,    0.025025,    0.026026,    0.027027,    0.028028,    0.029029,     0.03003,    0.031031,    0.032032,    0.033033,    0.034034,    0.035035,    0.036036,    0.037037,    0.038038,    0.039039,     0.04004,    0.041041,    0.042042,    0.043043,    0.044044,    0.045045,    0.046046,    0.047047,\n",
      "          0.048048,    0.049049,     0.05005,    0.051051,    0.052052,    0.053053,    0.054054,    0.055055,    0.056056,    0.057057,    0.058058,    0.059059,     0.06006,    0.061061,    0.062062,    0.063063,    0.064064,    0.065065,    0.066066,    0.067067,    0.068068,    0.069069,     0.07007,    0.071071,\n",
      "          0.072072,    0.073073,    0.074074,    0.075075,    0.076076,    0.077077,    0.078078,    0.079079,     0.08008,    0.081081,    0.082082,    0.083083,    0.084084,    0.085085,    0.086086,    0.087087,    0.088088,    0.089089,     0.09009,    0.091091,    0.092092,    0.093093,    0.094094,    0.095095,\n",
      "          0.096096,    0.097097,    0.098098,    0.099099,      0.1001,      0.1011,      0.1021,      0.1031,      0.1041,     0.10511,     0.10611,     0.10711,     0.10811,     0.10911,     0.11011,     0.11111,     0.11211,     0.11311,     0.11411,     0.11512,     0.11612,     0.11712,     0.11812,     0.11912,\n",
      "           0.12012,     0.12112,     0.12212,     0.12312,     0.12412,     0.12513,     0.12613,     0.12713,     0.12813,     0.12913,     0.13013,     0.13113,     0.13213,     0.13313,     0.13413,     0.13514,     0.13614,     0.13714,     0.13814,     0.13914,     0.14014,     0.14114,     0.14214,     0.14314,\n",
      "           0.14414,     0.14515,     0.14615,     0.14715,     0.14815,     0.14915,     0.15015,     0.15115,     0.15215,     0.15315,     0.15415,     0.15516,     0.15616,     0.15716,     0.15816,     0.15916,     0.16016,     0.16116,     0.16216,     0.16316,     0.16416,     0.16517,     0.16617,     0.16717,\n",
      "           0.16817,     0.16917,     0.17017,     0.17117,     0.17217,     0.17317,     0.17417,     0.17518,     0.17618,     0.17718,     0.17818,     0.17918,     0.18018,     0.18118,     0.18218,     0.18318,     0.18418,     0.18519,     0.18619,     0.18719,     0.18819,     0.18919,     0.19019,     0.19119,\n",
      "           0.19219,     0.19319,     0.19419,      0.1952,      0.1962,      0.1972,      0.1982,      0.1992,      0.2002,      0.2012,      0.2022,      0.2032,      0.2042,     0.20521,     0.20621,     0.20721,     0.20821,     0.20921,     0.21021,     0.21121,     0.21221,     0.21321,     0.21421,     0.21522,\n",
      "           0.21622,     0.21722,     0.21822,     0.21922,     0.22022,     0.22122,     0.22222,     0.22322,     0.22422,     0.22523,     0.22623,     0.22723,     0.22823,     0.22923,     0.23023,     0.23123,     0.23223,     0.23323,     0.23423,     0.23524,     0.23624,     0.23724,     0.23824,     0.23924,\n",
      "           0.24024,     0.24124,     0.24224,     0.24324,     0.24424,     0.24525,     0.24625,     0.24725,     0.24825,     0.24925,     0.25025,     0.25125,     0.25225,     0.25325,     0.25425,     0.25526,     0.25626,     0.25726,     0.25826,     0.25926,     0.26026,     0.26126,     0.26226,     0.26326,\n",
      "           0.26426,     0.26527,     0.26627,     0.26727,     0.26827,     0.26927,     0.27027,     0.27127,     0.27227,     0.27327,     0.27427,     0.27528,     0.27628,     0.27728,     0.27828,     0.27928,     0.28028,     0.28128,     0.28228,     0.28328,     0.28428,     0.28529,     0.28629,     0.28729,\n",
      "           0.28829,     0.28929,     0.29029,     0.29129,     0.29229,     0.29329,     0.29429,      0.2953,      0.2963,      0.2973,      0.2983,      0.2993,      0.3003,      0.3013,      0.3023,      0.3033,      0.3043,     0.30531,     0.30631,     0.30731,     0.30831,     0.30931,     0.31031,     0.31131,\n",
      "           0.31231,     0.31331,     0.31431,     0.31532,     0.31632,     0.31732,     0.31832,     0.31932,     0.32032,     0.32132,     0.32232,     0.32332,     0.32432,     0.32533,     0.32633,     0.32733,     0.32833,     0.32933,     0.33033,     0.33133,     0.33233,     0.33333,     0.33433,     0.33534,\n",
      "           0.33634,     0.33734,     0.33834,     0.33934,     0.34034,     0.34134,     0.34234,     0.34334,     0.34434,     0.34535,     0.34635,     0.34735,     0.34835,     0.34935,     0.35035,     0.35135,     0.35235,     0.35335,     0.35435,     0.35536,     0.35636,     0.35736,     0.35836,     0.35936,\n",
      "           0.36036,     0.36136,     0.36236,     0.36336,     0.36436,     0.36537,     0.36637,     0.36737,     0.36837,     0.36937,     0.37037,     0.37137,     0.37237,     0.37337,     0.37437,     0.37538,     0.37638,     0.37738,     0.37838,     0.37938,     0.38038,     0.38138,     0.38238,     0.38338,\n",
      "           0.38438,     0.38539,     0.38639,     0.38739,     0.38839,     0.38939,     0.39039,     0.39139,     0.39239,     0.39339,     0.39439,      0.3954,      0.3964,      0.3974,      0.3984,      0.3994,      0.4004,      0.4014,      0.4024,      0.4034,      0.4044,     0.40541,     0.40641,     0.40741,\n",
      "           0.40841,     0.40941,     0.41041,     0.41141,     0.41241,     0.41341,     0.41441,     0.41542,     0.41642,     0.41742,     0.41842,     0.41942,     0.42042,     0.42142,     0.42242,     0.42342,     0.42442,     0.42543,     0.42643,     0.42743,     0.42843,     0.42943,     0.43043,     0.43143,\n",
      "           0.43243,     0.43343,     0.43443,     0.43544,     0.43644,     0.43744,     0.43844,     0.43944,     0.44044,     0.44144,     0.44244,     0.44344,     0.44444,     0.44545,     0.44645,     0.44745,     0.44845,     0.44945,     0.45045,     0.45145,     0.45245,     0.45345,     0.45445,     0.45546,\n",
      "           0.45646,     0.45746,     0.45846,     0.45946,     0.46046,     0.46146,     0.46246,     0.46346,     0.46446,     0.46547,     0.46647,     0.46747,     0.46847,     0.46947,     0.47047,     0.47147,     0.47247,     0.47347,     0.47447,     0.47548,     0.47648,     0.47748,     0.47848,     0.47948,\n",
      "           0.48048,     0.48148,     0.48248,     0.48348,     0.48448,     0.48549,     0.48649,     0.48749,     0.48849,     0.48949,     0.49049,     0.49149,     0.49249,     0.49349,     0.49449,      0.4955,      0.4965,      0.4975,      0.4985,      0.4995,      0.5005,      0.5015,      0.5025,      0.5035,\n",
      "            0.5045,     0.50551,     0.50651,     0.50751,     0.50851,     0.50951,     0.51051,     0.51151,     0.51251,     0.51351,     0.51451,     0.51552,     0.51652,     0.51752,     0.51852,     0.51952,     0.52052,     0.52152,     0.52252,     0.52352,     0.52452,     0.52553,     0.52653,     0.52753,\n",
      "           0.52853,     0.52953,     0.53053,     0.53153,     0.53253,     0.53353,     0.53453,     0.53554,     0.53654,     0.53754,     0.53854,     0.53954,     0.54054,     0.54154,     0.54254,     0.54354,     0.54454,     0.54555,     0.54655,     0.54755,     0.54855,     0.54955,     0.55055,     0.55155,\n",
      "           0.55255,     0.55355,     0.55455,     0.55556,     0.55656,     0.55756,     0.55856,     0.55956,     0.56056,     0.56156,     0.56256,     0.56356,     0.56456,     0.56557,     0.56657,     0.56757,     0.56857,     0.56957,     0.57057,     0.57157,     0.57257,     0.57357,     0.57457,     0.57558,\n",
      "           0.57658,     0.57758,     0.57858,     0.57958,     0.58058,     0.58158,     0.58258,     0.58358,     0.58458,     0.58559,     0.58659,     0.58759,     0.58859,     0.58959,     0.59059,     0.59159,     0.59259,     0.59359,     0.59459,      0.5956,      0.5966,      0.5976,      0.5986,      0.5996,\n",
      "            0.6006,      0.6016,      0.6026,      0.6036,      0.6046,     0.60561,     0.60661,     0.60761,     0.60861,     0.60961,     0.61061,     0.61161,     0.61261,     0.61361,     0.61461,     0.61562,     0.61662,     0.61762,     0.61862,     0.61962,     0.62062,     0.62162,     0.62262,     0.62362,\n",
      "           0.62462,     0.62563,     0.62663,     0.62763,     0.62863,     0.62963,     0.63063,     0.63163,     0.63263,     0.63363,     0.63463,     0.63564,     0.63664,     0.63764,     0.63864,     0.63964,     0.64064,     0.64164,     0.64264,     0.64364,     0.64464,     0.64565,     0.64665,     0.64765,\n",
      "           0.64865,     0.64965,     0.65065,     0.65165,     0.65265,     0.65365,     0.65465,     0.65566,     0.65666,     0.65766,     0.65866,     0.65966,     0.66066,     0.66166,     0.66266,     0.66366,     0.66466,     0.66567,     0.66667,     0.66767,     0.66867,     0.66967,     0.67067,     0.67167,\n",
      "           0.67267,     0.67367,     0.67467,     0.67568,     0.67668,     0.67768,     0.67868,     0.67968,     0.68068,     0.68168,     0.68268,     0.68368,     0.68468,     0.68569,     0.68669,     0.68769,     0.68869,     0.68969,     0.69069,     0.69169,     0.69269,     0.69369,     0.69469,      0.6957,\n",
      "            0.6967,      0.6977,      0.6987,      0.6997,      0.7007,      0.7017,      0.7027,      0.7037,      0.7047,     0.70571,     0.70671,     0.70771,     0.70871,     0.70971,     0.71071,     0.71171,     0.71271,     0.71371,     0.71471,     0.71572,     0.71672,     0.71772,     0.71872,     0.71972,\n",
      "           0.72072,     0.72172,     0.72272,     0.72372,     0.72472,     0.72573,     0.72673,     0.72773,     0.72873,     0.72973,     0.73073,     0.73173,     0.73273,     0.73373,     0.73473,     0.73574,     0.73674,     0.73774,     0.73874,     0.73974,     0.74074,     0.74174,     0.74274,     0.74374,\n",
      "           0.74474,     0.74575,     0.74675,     0.74775,     0.74875,     0.74975,     0.75075,     0.75175,     0.75275,     0.75375,     0.75475,     0.75576,     0.75676,     0.75776,     0.75876,     0.75976,     0.76076,     0.76176,     0.76276,     0.76376,     0.76476,     0.76577,     0.76677,     0.76777,\n",
      "           0.76877,     0.76977,     0.77077,     0.77177,     0.77277,     0.77377,     0.77477,     0.77578,     0.77678,     0.77778,     0.77878,     0.77978,     0.78078,     0.78178,     0.78278,     0.78378,     0.78478,     0.78579,     0.78679,     0.78779,     0.78879,     0.78979,     0.79079,     0.79179,\n",
      "           0.79279,     0.79379,     0.79479,      0.7958,      0.7968,      0.7978,      0.7988,      0.7998,      0.8008,      0.8018,      0.8028,      0.8038,      0.8048,     0.80581,     0.80681,     0.80781,     0.80881,     0.80981,     0.81081,     0.81181,     0.81281,     0.81381,     0.81481,     0.81582,\n",
      "           0.81682,     0.81782,     0.81882,     0.81982,     0.82082,     0.82182,     0.82282,     0.82382,     0.82482,     0.82583,     0.82683,     0.82783,     0.82883,     0.82983,     0.83083,     0.83183,     0.83283,     0.83383,     0.83483,     0.83584,     0.83684,     0.83784,     0.83884,     0.83984,\n",
      "           0.84084,     0.84184,     0.84284,     0.84384,     0.84484,     0.84585,     0.84685,     0.84785,     0.84885,     0.84985,     0.85085,     0.85185,     0.85285,     0.85385,     0.85485,     0.85586,     0.85686,     0.85786,     0.85886,     0.85986,     0.86086,     0.86186,     0.86286,     0.86386,\n",
      "           0.86486,     0.86587,     0.86687,     0.86787,     0.86887,     0.86987,     0.87087,     0.87187,     0.87287,     0.87387,     0.87487,     0.87588,     0.87688,     0.87788,     0.87888,     0.87988,     0.88088,     0.88188,     0.88288,     0.88388,     0.88488,     0.88589,     0.88689,     0.88789,\n",
      "           0.88889,     0.88989,     0.89089,     0.89189,     0.89289,     0.89389,     0.89489,      0.8959,      0.8969,      0.8979,      0.8989,      0.8999,      0.9009,      0.9019,      0.9029,      0.9039,      0.9049,     0.90591,     0.90691,     0.90791,     0.90891,     0.90991,     0.91091,     0.91191,\n",
      "           0.91291,     0.91391,     0.91491,     0.91592,     0.91692,     0.91792,     0.91892,     0.91992,     0.92092,     0.92192,     0.92292,     0.92392,     0.92492,     0.92593,     0.92693,     0.92793,     0.92893,     0.92993,     0.93093,     0.93193,     0.93293,     0.93393,     0.93493,     0.93594,\n",
      "           0.93694,     0.93794,     0.93894,     0.93994,     0.94094,     0.94194,     0.94294,     0.94394,     0.94494,     0.94595,     0.94695,     0.94795,     0.94895,     0.94995,     0.95095,     0.95195,     0.95295,     0.95395,     0.95495,     0.95596,     0.95696,     0.95796,     0.95896,     0.95996,\n",
      "           0.96096,     0.96196,     0.96296,     0.96396,     0.96496,     0.96597,     0.96697,     0.96797,     0.96897,     0.96997,     0.97097,     0.97197,     0.97297,     0.97397,     0.97497,     0.97598,     0.97698,     0.97798,     0.97898,     0.97998,     0.98098,     0.98198,     0.98298,     0.98398,\n",
      "           0.98498,     0.98599,     0.98699,     0.98799,     0.98899,     0.98999,     0.99099,     0.99199,     0.99299,     0.99399,     0.99499,       0.996,       0.997,       0.998,       0.999,           1]), array([[    0.10246,     0.10263,     0.14564, ...,           1,           1,           1],\n",
      "       [    0.13082,     0.13084,     0.17731, ...,           1,           1,           1],\n",
      "       [    0.11261,     0.11265,     0.15145, ...,           1,           1,           1],\n",
      "       [    0.13296,     0.13296,     0.18433, ...,           1,           1,           1]]), 'Confidence', 'Precision'], [array([          0,    0.001001,    0.002002,    0.003003,    0.004004,    0.005005,    0.006006,    0.007007,    0.008008,    0.009009,     0.01001,    0.011011,    0.012012,    0.013013,    0.014014,    0.015015,    0.016016,    0.017017,    0.018018,    0.019019,     0.02002,    0.021021,    0.022022,    0.023023,\n",
      "          0.024024,    0.025025,    0.026026,    0.027027,    0.028028,    0.029029,     0.03003,    0.031031,    0.032032,    0.033033,    0.034034,    0.035035,    0.036036,    0.037037,    0.038038,    0.039039,     0.04004,    0.041041,    0.042042,    0.043043,    0.044044,    0.045045,    0.046046,    0.047047,\n",
      "          0.048048,    0.049049,     0.05005,    0.051051,    0.052052,    0.053053,    0.054054,    0.055055,    0.056056,    0.057057,    0.058058,    0.059059,     0.06006,    0.061061,    0.062062,    0.063063,    0.064064,    0.065065,    0.066066,    0.067067,    0.068068,    0.069069,     0.07007,    0.071071,\n",
      "          0.072072,    0.073073,    0.074074,    0.075075,    0.076076,    0.077077,    0.078078,    0.079079,     0.08008,    0.081081,    0.082082,    0.083083,    0.084084,    0.085085,    0.086086,    0.087087,    0.088088,    0.089089,     0.09009,    0.091091,    0.092092,    0.093093,    0.094094,    0.095095,\n",
      "          0.096096,    0.097097,    0.098098,    0.099099,      0.1001,      0.1011,      0.1021,      0.1031,      0.1041,     0.10511,     0.10611,     0.10711,     0.10811,     0.10911,     0.11011,     0.11111,     0.11211,     0.11311,     0.11411,     0.11512,     0.11612,     0.11712,     0.11812,     0.11912,\n",
      "           0.12012,     0.12112,     0.12212,     0.12312,     0.12412,     0.12513,     0.12613,     0.12713,     0.12813,     0.12913,     0.13013,     0.13113,     0.13213,     0.13313,     0.13413,     0.13514,     0.13614,     0.13714,     0.13814,     0.13914,     0.14014,     0.14114,     0.14214,     0.14314,\n",
      "           0.14414,     0.14515,     0.14615,     0.14715,     0.14815,     0.14915,     0.15015,     0.15115,     0.15215,     0.15315,     0.15415,     0.15516,     0.15616,     0.15716,     0.15816,     0.15916,     0.16016,     0.16116,     0.16216,     0.16316,     0.16416,     0.16517,     0.16617,     0.16717,\n",
      "           0.16817,     0.16917,     0.17017,     0.17117,     0.17217,     0.17317,     0.17417,     0.17518,     0.17618,     0.17718,     0.17818,     0.17918,     0.18018,     0.18118,     0.18218,     0.18318,     0.18418,     0.18519,     0.18619,     0.18719,     0.18819,     0.18919,     0.19019,     0.19119,\n",
      "           0.19219,     0.19319,     0.19419,      0.1952,      0.1962,      0.1972,      0.1982,      0.1992,      0.2002,      0.2012,      0.2022,      0.2032,      0.2042,     0.20521,     0.20621,     0.20721,     0.20821,     0.20921,     0.21021,     0.21121,     0.21221,     0.21321,     0.21421,     0.21522,\n",
      "           0.21622,     0.21722,     0.21822,     0.21922,     0.22022,     0.22122,     0.22222,     0.22322,     0.22422,     0.22523,     0.22623,     0.22723,     0.22823,     0.22923,     0.23023,     0.23123,     0.23223,     0.23323,     0.23423,     0.23524,     0.23624,     0.23724,     0.23824,     0.23924,\n",
      "           0.24024,     0.24124,     0.24224,     0.24324,     0.24424,     0.24525,     0.24625,     0.24725,     0.24825,     0.24925,     0.25025,     0.25125,     0.25225,     0.25325,     0.25425,     0.25526,     0.25626,     0.25726,     0.25826,     0.25926,     0.26026,     0.26126,     0.26226,     0.26326,\n",
      "           0.26426,     0.26527,     0.26627,     0.26727,     0.26827,     0.26927,     0.27027,     0.27127,     0.27227,     0.27327,     0.27427,     0.27528,     0.27628,     0.27728,     0.27828,     0.27928,     0.28028,     0.28128,     0.28228,     0.28328,     0.28428,     0.28529,     0.28629,     0.28729,\n",
      "           0.28829,     0.28929,     0.29029,     0.29129,     0.29229,     0.29329,     0.29429,      0.2953,      0.2963,      0.2973,      0.2983,      0.2993,      0.3003,      0.3013,      0.3023,      0.3033,      0.3043,     0.30531,     0.30631,     0.30731,     0.30831,     0.30931,     0.31031,     0.31131,\n",
      "           0.31231,     0.31331,     0.31431,     0.31532,     0.31632,     0.31732,     0.31832,     0.31932,     0.32032,     0.32132,     0.32232,     0.32332,     0.32432,     0.32533,     0.32633,     0.32733,     0.32833,     0.32933,     0.33033,     0.33133,     0.33233,     0.33333,     0.33433,     0.33534,\n",
      "           0.33634,     0.33734,     0.33834,     0.33934,     0.34034,     0.34134,     0.34234,     0.34334,     0.34434,     0.34535,     0.34635,     0.34735,     0.34835,     0.34935,     0.35035,     0.35135,     0.35235,     0.35335,     0.35435,     0.35536,     0.35636,     0.35736,     0.35836,     0.35936,\n",
      "           0.36036,     0.36136,     0.36236,     0.36336,     0.36436,     0.36537,     0.36637,     0.36737,     0.36837,     0.36937,     0.37037,     0.37137,     0.37237,     0.37337,     0.37437,     0.37538,     0.37638,     0.37738,     0.37838,     0.37938,     0.38038,     0.38138,     0.38238,     0.38338,\n",
      "           0.38438,     0.38539,     0.38639,     0.38739,     0.38839,     0.38939,     0.39039,     0.39139,     0.39239,     0.39339,     0.39439,      0.3954,      0.3964,      0.3974,      0.3984,      0.3994,      0.4004,      0.4014,      0.4024,      0.4034,      0.4044,     0.40541,     0.40641,     0.40741,\n",
      "           0.40841,     0.40941,     0.41041,     0.41141,     0.41241,     0.41341,     0.41441,     0.41542,     0.41642,     0.41742,     0.41842,     0.41942,     0.42042,     0.42142,     0.42242,     0.42342,     0.42442,     0.42543,     0.42643,     0.42743,     0.42843,     0.42943,     0.43043,     0.43143,\n",
      "           0.43243,     0.43343,     0.43443,     0.43544,     0.43644,     0.43744,     0.43844,     0.43944,     0.44044,     0.44144,     0.44244,     0.44344,     0.44444,     0.44545,     0.44645,     0.44745,     0.44845,     0.44945,     0.45045,     0.45145,     0.45245,     0.45345,     0.45445,     0.45546,\n",
      "           0.45646,     0.45746,     0.45846,     0.45946,     0.46046,     0.46146,     0.46246,     0.46346,     0.46446,     0.46547,     0.46647,     0.46747,     0.46847,     0.46947,     0.47047,     0.47147,     0.47247,     0.47347,     0.47447,     0.47548,     0.47648,     0.47748,     0.47848,     0.47948,\n",
      "           0.48048,     0.48148,     0.48248,     0.48348,     0.48448,     0.48549,     0.48649,     0.48749,     0.48849,     0.48949,     0.49049,     0.49149,     0.49249,     0.49349,     0.49449,      0.4955,      0.4965,      0.4975,      0.4985,      0.4995,      0.5005,      0.5015,      0.5025,      0.5035,\n",
      "            0.5045,     0.50551,     0.50651,     0.50751,     0.50851,     0.50951,     0.51051,     0.51151,     0.51251,     0.51351,     0.51451,     0.51552,     0.51652,     0.51752,     0.51852,     0.51952,     0.52052,     0.52152,     0.52252,     0.52352,     0.52452,     0.52553,     0.52653,     0.52753,\n",
      "           0.52853,     0.52953,     0.53053,     0.53153,     0.53253,     0.53353,     0.53453,     0.53554,     0.53654,     0.53754,     0.53854,     0.53954,     0.54054,     0.54154,     0.54254,     0.54354,     0.54454,     0.54555,     0.54655,     0.54755,     0.54855,     0.54955,     0.55055,     0.55155,\n",
      "           0.55255,     0.55355,     0.55455,     0.55556,     0.55656,     0.55756,     0.55856,     0.55956,     0.56056,     0.56156,     0.56256,     0.56356,     0.56456,     0.56557,     0.56657,     0.56757,     0.56857,     0.56957,     0.57057,     0.57157,     0.57257,     0.57357,     0.57457,     0.57558,\n",
      "           0.57658,     0.57758,     0.57858,     0.57958,     0.58058,     0.58158,     0.58258,     0.58358,     0.58458,     0.58559,     0.58659,     0.58759,     0.58859,     0.58959,     0.59059,     0.59159,     0.59259,     0.59359,     0.59459,      0.5956,      0.5966,      0.5976,      0.5986,      0.5996,\n",
      "            0.6006,      0.6016,      0.6026,      0.6036,      0.6046,     0.60561,     0.60661,     0.60761,     0.60861,     0.60961,     0.61061,     0.61161,     0.61261,     0.61361,     0.61461,     0.61562,     0.61662,     0.61762,     0.61862,     0.61962,     0.62062,     0.62162,     0.62262,     0.62362,\n",
      "           0.62462,     0.62563,     0.62663,     0.62763,     0.62863,     0.62963,     0.63063,     0.63163,     0.63263,     0.63363,     0.63463,     0.63564,     0.63664,     0.63764,     0.63864,     0.63964,     0.64064,     0.64164,     0.64264,     0.64364,     0.64464,     0.64565,     0.64665,     0.64765,\n",
      "           0.64865,     0.64965,     0.65065,     0.65165,     0.65265,     0.65365,     0.65465,     0.65566,     0.65666,     0.65766,     0.65866,     0.65966,     0.66066,     0.66166,     0.66266,     0.66366,     0.66466,     0.66567,     0.66667,     0.66767,     0.66867,     0.66967,     0.67067,     0.67167,\n",
      "           0.67267,     0.67367,     0.67467,     0.67568,     0.67668,     0.67768,     0.67868,     0.67968,     0.68068,     0.68168,     0.68268,     0.68368,     0.68468,     0.68569,     0.68669,     0.68769,     0.68869,     0.68969,     0.69069,     0.69169,     0.69269,     0.69369,     0.69469,      0.6957,\n",
      "            0.6967,      0.6977,      0.6987,      0.6997,      0.7007,      0.7017,      0.7027,      0.7037,      0.7047,     0.70571,     0.70671,     0.70771,     0.70871,     0.70971,     0.71071,     0.71171,     0.71271,     0.71371,     0.71471,     0.71572,     0.71672,     0.71772,     0.71872,     0.71972,\n",
      "           0.72072,     0.72172,     0.72272,     0.72372,     0.72472,     0.72573,     0.72673,     0.72773,     0.72873,     0.72973,     0.73073,     0.73173,     0.73273,     0.73373,     0.73473,     0.73574,     0.73674,     0.73774,     0.73874,     0.73974,     0.74074,     0.74174,     0.74274,     0.74374,\n",
      "           0.74474,     0.74575,     0.74675,     0.74775,     0.74875,     0.74975,     0.75075,     0.75175,     0.75275,     0.75375,     0.75475,     0.75576,     0.75676,     0.75776,     0.75876,     0.75976,     0.76076,     0.76176,     0.76276,     0.76376,     0.76476,     0.76577,     0.76677,     0.76777,\n",
      "           0.76877,     0.76977,     0.77077,     0.77177,     0.77277,     0.77377,     0.77477,     0.77578,     0.77678,     0.77778,     0.77878,     0.77978,     0.78078,     0.78178,     0.78278,     0.78378,     0.78478,     0.78579,     0.78679,     0.78779,     0.78879,     0.78979,     0.79079,     0.79179,\n",
      "           0.79279,     0.79379,     0.79479,      0.7958,      0.7968,      0.7978,      0.7988,      0.7998,      0.8008,      0.8018,      0.8028,      0.8038,      0.8048,     0.80581,     0.80681,     0.80781,     0.80881,     0.80981,     0.81081,     0.81181,     0.81281,     0.81381,     0.81481,     0.81582,\n",
      "           0.81682,     0.81782,     0.81882,     0.81982,     0.82082,     0.82182,     0.82282,     0.82382,     0.82482,     0.82583,     0.82683,     0.82783,     0.82883,     0.82983,     0.83083,     0.83183,     0.83283,     0.83383,     0.83483,     0.83584,     0.83684,     0.83784,     0.83884,     0.83984,\n",
      "           0.84084,     0.84184,     0.84284,     0.84384,     0.84484,     0.84585,     0.84685,     0.84785,     0.84885,     0.84985,     0.85085,     0.85185,     0.85285,     0.85385,     0.85485,     0.85586,     0.85686,     0.85786,     0.85886,     0.85986,     0.86086,     0.86186,     0.86286,     0.86386,\n",
      "           0.86486,     0.86587,     0.86687,     0.86787,     0.86887,     0.86987,     0.87087,     0.87187,     0.87287,     0.87387,     0.87487,     0.87588,     0.87688,     0.87788,     0.87888,     0.87988,     0.88088,     0.88188,     0.88288,     0.88388,     0.88488,     0.88589,     0.88689,     0.88789,\n",
      "           0.88889,     0.88989,     0.89089,     0.89189,     0.89289,     0.89389,     0.89489,      0.8959,      0.8969,      0.8979,      0.8989,      0.8999,      0.9009,      0.9019,      0.9029,      0.9039,      0.9049,     0.90591,     0.90691,     0.90791,     0.90891,     0.90991,     0.91091,     0.91191,\n",
      "           0.91291,     0.91391,     0.91491,     0.91592,     0.91692,     0.91792,     0.91892,     0.91992,     0.92092,     0.92192,     0.92292,     0.92392,     0.92492,     0.92593,     0.92693,     0.92793,     0.92893,     0.92993,     0.93093,     0.93193,     0.93293,     0.93393,     0.93493,     0.93594,\n",
      "           0.93694,     0.93794,     0.93894,     0.93994,     0.94094,     0.94194,     0.94294,     0.94394,     0.94494,     0.94595,     0.94695,     0.94795,     0.94895,     0.94995,     0.95095,     0.95195,     0.95295,     0.95395,     0.95495,     0.95596,     0.95696,     0.95796,     0.95896,     0.95996,\n",
      "           0.96096,     0.96196,     0.96296,     0.96396,     0.96496,     0.96597,     0.96697,     0.96797,     0.96897,     0.96997,     0.97097,     0.97197,     0.97297,     0.97397,     0.97497,     0.97598,     0.97698,     0.97798,     0.97898,     0.97998,     0.98098,     0.98198,     0.98298,     0.98398,\n",
      "           0.98498,     0.98599,     0.98699,     0.98799,     0.98899,     0.98999,     0.99099,     0.99199,     0.99299,     0.99399,     0.99499,       0.996,       0.997,       0.998,       0.999,           1]), array([[    0.87755,     0.87755,     0.85034, ...,           0,           0,           0],\n",
      "       [    0.91232,     0.91232,     0.88389, ...,           0,           0,           0],\n",
      "       [    0.94881,     0.94881,     0.94132, ...,           0,           0,           0],\n",
      "       [    0.93171,     0.93171,     0.92195, ...,           0,           0,           0]]), 'Confidence', 'Recall']]\n",
      "fitness: 0.5818620077227713\n",
      "keys: ['metrics/precision(B)', 'metrics/recall(B)', 'metrics/mAP50(B)', 'metrics/mAP50-95(B)']\n",
      "maps: array([    0.60315,     0.58189,     0.46847,     0.57921,     0.55818])\n",
      "names: {0: '1Class', 1: '2Class', 2: '3Class', 3: '0Class', 4: 'NONClass'}\n",
      "plot: True\n",
      "results_dict: {'metrics/precision(B)': 0.8035436623139213, 'metrics/recall(B)': 0.7298979637459898, 'metrics/mAP50(B)': 0.7949813566410131, 'metrics/mAP50-95(B)': 0.5581820800651888, 'fitness': 0.5818620077227713}\n",
      "save_dir: WindowsPath('runs/detect/train62')\n",
      "speed: {'preprocess': 1.4491380975201371, 'inference': 89.7649837108352, 'loss': 0.0, 'postprocess': 1.7230824162554526}\n",
      "task: 'detect'\n"
     ]
    }
   ],
   "source": [
    "# Загрузка предобученной модели YOLOv8\n",
    "model = YOLO('yolov8m.pt')  # yolov8n.pt - название конфигурации модели (n - nano, s - small, m - medium и т.д.)\n",
    "\n",
    "#Отправка модели и данных на GPU\n",
    "\n",
    "device = torch.device(\"cuda\" if torch.cuda.is_available() else \"cpu\")\n",
    "model.to(device)  # Перемещаем модель на GPU\n",
    "\n",
    "# Начало обучения\n",
    "results=model.train(data=os.path.join(dataset_directory,'data.yaml'), epochs=60, batch=20, imgsz=640)\n",
    "\n",
    "# Check if any detections were made\n",
    "if results.results_dict:\n",
    "    print(\"Model generated detections.\")\n",
    "    # Print or analyze the results to see if they make sense\n",
    "    print(results.results_dict)\n",
    "else:\n",
    "    print(\"No detections were made. Check your data and model.\")\n",
    "metrics = model.val()\n",
    "print(\"Результаты валидации:\")\n",
    "print(metrics)\n"
   ]
  },
  {
   "cell_type": "code",
   "execution_count": 24,
   "metadata": {},
   "outputs": [
    {
     "name": "stdout",
     "output_type": "stream",
     "text": [
      "Предсказания для train:\n",
      "\n",
      "0: 640x640 13 1Classs, 268.0ms\n",
      "Speed: 5.0ms preprocess, 268.0ms inference, 4.0ms postprocess per image at shape (1, 3, 640, 640)\n"
     ]
    },
    {
     "data": {
      "text/plain": [
       "<Figure size 800x800 with 1 Axes>"
      ]
     },
     "metadata": {},
     "output_type": "display_data"
    },
    {
     "name": "stdout",
     "output_type": "stream",
     "text": [
      "\n",
      "0: 640x640 1 1Class, 1 3Class, 81.0ms\n",
      "Speed: 2.0ms preprocess, 81.0ms inference, 3.0ms postprocess per image at shape (1, 3, 640, 640)\n"
     ]
    },
    {
     "data": {
      "text/plain": [
       "<Figure size 800x800 with 1 Axes>"
      ]
     },
     "metadata": {},
     "output_type": "display_data"
    },
    {
     "name": "stdout",
     "output_type": "stream",
     "text": [
      "\n",
      "0: 640x640 1 1Class, 82.0ms\n",
      "Speed: 2.0ms preprocess, 82.0ms inference, 2.0ms postprocess per image at shape (1, 3, 640, 640)\n"
     ]
    },
    {
     "data": {
      "text/plain": [
       "<Figure size 800x800 with 1 Axes>"
      ]
     },
     "metadata": {},
     "output_type": "display_data"
    },
    {
     "name": "stdout",
     "output_type": "stream",
     "text": [
      "\n",
      "0: 640x640 1 1Class, 90.0ms\n",
      "Speed: 2.0ms preprocess, 90.0ms inference, 2.0ms postprocess per image at shape (1, 3, 640, 640)\n"
     ]
    },
    {
     "data": {
      "text/plain": [
       "<Figure size 800x800 with 1 Axes>"
      ]
     },
     "metadata": {},
     "output_type": "display_data"
    },
    {
     "name": "stdout",
     "output_type": "stream",
     "text": [
      "\n",
      "0: 640x640 2 1Classs, 78.0ms\n",
      "Speed: 3.0ms preprocess, 78.0ms inference, 3.0ms postprocess per image at shape (1, 3, 640, 640)\n"
     ]
    },
    {
     "data": {
      "text/plain": [
       "<Figure size 800x800 with 1 Axes>"
      ]
     },
     "metadata": {},
     "output_type": "display_data"
    },
    {
     "name": "stdout",
     "output_type": "stream",
     "text": [
      "Предсказания для val:\n",
      "\n",
      "0: 640x640 6 1Classs, 82.0ms\n",
      "Speed: 2.0ms preprocess, 82.0ms inference, 3.0ms postprocess per image at shape (1, 3, 640, 640)\n"
     ]
    },
    {
     "data": {
      "text/plain": [
       "<Figure size 800x800 with 1 Axes>"
      ]
     },
     "metadata": {},
     "output_type": "display_data"
    },
    {
     "name": "stdout",
     "output_type": "stream",
     "text": [
      "\n",
      "0: 640x640 2 1Classs, 84.0ms\n",
      "Speed: 2.0ms preprocess, 84.0ms inference, 3.0ms postprocess per image at shape (1, 3, 640, 640)\n"
     ]
    },
    {
     "data": {
      "text/plain": [
       "<Figure size 800x800 with 1 Axes>"
      ]
     },
     "metadata": {},
     "output_type": "display_data"
    },
    {
     "name": "stdout",
     "output_type": "stream",
     "text": [
      "\n",
      "0: 640x640 2 1Classs, 78.0ms\n",
      "Speed: 2.0ms preprocess, 78.0ms inference, 3.0ms postprocess per image at shape (1, 3, 640, 640)\n"
     ]
    },
    {
     "data": {
      "text/plain": [
       "<Figure size 800x800 with 1 Axes>"
      ]
     },
     "metadata": {},
     "output_type": "display_data"
    },
    {
     "name": "stdout",
     "output_type": "stream",
     "text": [
      "\n",
      "0: 640x640 1 1Class, 81.0ms\n",
      "Speed: 3.0ms preprocess, 81.0ms inference, 3.0ms postprocess per image at shape (1, 3, 640, 640)\n"
     ]
    },
    {
     "data": {
      "text/plain": [
       "<Figure size 800x800 with 1 Axes>"
      ]
     },
     "metadata": {},
     "output_type": "display_data"
    },
    {
     "name": "stdout",
     "output_type": "stream",
     "text": [
      "\n",
      "0: 640x640 1 1Class, 79.0ms\n",
      "Speed: 3.0ms preprocess, 79.0ms inference, 3.0ms postprocess per image at shape (1, 3, 640, 640)\n"
     ]
    },
    {
     "data": {
      "text/plain": [
       "<Figure size 800x800 with 1 Axes>"
      ]
     },
     "metadata": {},
     "output_type": "display_data"
    },
    {
     "name": "stdout",
     "output_type": "stream",
     "text": [
      "Ultralytics YOLOv8.2.96  Python-3.11.9 torch-2.0.1+cu117 CUDA:0 (NVIDIA GeForce GTX 1080 Ti, 11264MiB)\n"
     ]
    },
    {
     "name": "stderr",
     "output_type": "stream",
     "text": [
      "\u001b[34m\u001b[1mval: \u001b[0mScanning C:\\Users\\Vlada\\Documents\\Business\\AI\\AI University\\Стажировка 1-Создание системы распознавания взрывоопасных предметов для перегружателей металлического лома\\DataSet\\dataset_vtormet\\val\\labels.cache... 1217 images, 0 backgrounds, 0 corrupt: 100%|██████████| 1217/1217 [00:00<?, ?it/s]\n",
      "                 Class     Images  Instances      Box(P          R      mAP50  mAP50-95): 100%|██████████| 77/77 [01:42<00:00,  1.34s/it]\n"
     ]
    },
    {
     "name": "stdout",
     "output_type": "stream",
     "text": [
      "                   all       1217       2581      0.803      0.731      0.795      0.558\n",
      "                1Class        106        147      0.819      0.687      0.777      0.603\n",
      "                2Class        166        422      0.772      0.724      0.778      0.583\n",
      "                3Class        784       1602      0.817      0.746      0.803      0.468\n",
      "                0Class        200        410      0.803      0.766      0.823      0.579\n",
      "Speed: 1.7ms preprocess, 74.3ms inference, 0.0ms loss, 1.8ms postprocess per image\n",
      "Results saved to \u001b[1mruns\\detect\\val15\u001b[0m\n",
      "Precision: 0.795\n",
      "Recall: 0.558\n",
      "mAP@0.5: 0.795\n",
      "mAP@0.5:0.95: 0.558\n"
     ]
    }
   ],
   "source": [
    "import os\n",
    "import cv2\n",
    "import matplotlib.pyplot as plt\n",
    "\n",
    "# Функция для визуализации предсказаний на изображениях\n",
    "def visualize_predictions(model, image_paths, num_images=5, save_dir='predictions'):\n",
    "    os.makedirs(save_dir, exist_ok=True)\n",
    "    \n",
    "    for i, img_path in enumerate(image_paths[:num_images]):\n",
    "        img = cv2.imread(img_path)  # Загружаем изображение с помощью OpenCV\n",
    "        results = model(img)  # Получаем результаты от модели\n",
    "        result_img = results[0].plot()  # Рисуем предсказания на изображении\n",
    "        \n",
    "        # Сохраняем изображение с предсказаниями\n",
    "        result_file_path = os.path.join(save_dir, f'prediction_{i}.jpg')\n",
    "        cv2.imwrite(result_file_path, result_img)\n",
    "\n",
    "        # Преобразуем изображение из BGR в RGB для корректного отображения в Matplotlib\n",
    "        result_img_rgb = cv2.cvtColor(result_img, cv2.COLOR_BGR2RGB)\n",
    "\n",
    "        # Визуализируем изображение с предсказаниями\n",
    "        plt.figure(figsize=(8, 8))\n",
    "        plt.imshow(result_img_rgb)  # Выводим изображение с предсказаниями\n",
    "        plt.axis('off')  # Убираем оси для визуализации\n",
    "        plt.show()  # Показываем изображение\n",
    "\n",
    "# Получаем пути к файлам из папок train и val\n",
    "train_images = [os.path.join(images_folder_train, f) for f in os.listdir(images_folder_train) if f.endswith('.jpg')][:5]\n",
    "val_images = [os.path.join(images_folder_val, f) for f in os.listdir(images_folder_val) if f.endswith('.jpg')][:5]\n",
    "\n",
    "# Визуализация предсказаний для 5 файлов из каждой папки\n",
    "print(\"Предсказания для train:\")\n",
    "visualize_predictions(model, train_images, num_images=5, save_dir='train_predictions')\n",
    "\n",
    "print(\"Предсказания для val:\")\n",
    "visualize_predictions(model, val_images, num_images=5, save_dir='val_predictions')\n",
    "\n",
    "# Сравнение метрик (Precision, Recall, mAP)\n",
    "yaml_file_path= r'C:\\Users\\Vlada\\Documents\\Business\\AI\\AI University\\Стажировка 1-Создание системы распознавания взрывоопасных предметов для перегружателей металлического лома\\DataSet\\dataset_vtormet\\data.yaml'\n",
    "results = model.val(data=yaml_file_path)  # Оценка на валидационных данных\n",
    "# Example of how to access metrics (for newer YOLO versions)\n",
    "print(f\"Precision: {results.box.map50:.3f}\")\n",
    "print(f\"Recall: {results.box.map:.3f}\")\n",
    "print(f\"mAP@0.5: {results.box.map50:.3f}\")\n",
    "print(f\"mAP@0.5:0.95: {results.box.map:.3f}\")"
   ]
  },
  {
   "cell_type": "code",
   "execution_count": 25,
   "metadata": {},
   "outputs": [
    {
     "name": "stdout",
     "output_type": "stream",
     "text": [
      "Количество изображений: 307\n",
      "Количество меток: 307\n",
      "Все изображения имеют соответствующие метки, и все метки имеют соответствующие изображения.\n"
     ]
    }
   ],
   "source": [
    "# Testing\n",
    "\n",
    "dataset_directory = r'C:\\Users\\Vlada\\Documents\\Business\\AI\\AI University\\Стажировка 1-Создание системы распознавания взрывоопасных предметов для перегружателей металлического лома\\DataSet\\dataset_vtormet'\n",
    "test_images_folder = os.path.join(dataset_directory, 'vipeovop/images')\n",
    "test_labels_folder = os.path.join(dataset_directory, 'vipeovop/labels')\n",
    "\n",
    "# Получаем список файлов в каждой папке\n",
    "test_images_files = set(os.path.splitext(f)[0] for f in os.listdir(test_images_folder))\n",
    "test_labels_files = set(os.path.splitext(f)[0] for f in os.listdir(test_labels_folder))\n",
    "\n",
    "# Подсчитываем количество файлов в каждой папке\n",
    "num_images = len(test_images_files)\n",
    "num_labels = len(test_labels_files)\n",
    "\n",
    "# Выводим количество файлов\n",
    "print(f\"Количество изображений: {num_images}\")\n",
    "print(f\"Количество меток: {num_labels}\")\n",
    "\n",
    "# Проверяем, что все файлы изображений имеют соответствующие метки\n",
    "missing_labels = test_images_files - test_labels_files\n",
    "missing_images = test_labels_files - test_images_files\n",
    "\n",
    "if not missing_labels and not missing_images:\n",
    "    print(\"Все изображения имеют соответствующие метки, и все метки имеют соответствующие изображения.\")\n",
    "else:\n",
    "    if missing_labels:\n",
    "        print(f\"Отсутствуют метки для следующих изображений: {', '.join(missing_labels)}\")\n",
    "    if missing_images:\n",
    "        print(f\"Отсутствуют изображения для следующих меток: {', '.join(missing_images)}\")\n"
   ]
  },
  {
   "cell_type": "code",
   "execution_count": 29,
   "metadata": {},
   "outputs": [
    {
     "name": "stdout",
     "output_type": "stream",
     "text": [
      "Файл YAML сохранен по пути: C:\\Users\\Vlada\\Documents\\Business\\AI\\AI University\\Стажировка 1-Создание системы распознавания взрывоопасных предметов для перегружателей металлического лома\\DataSet\\dataset_vtormet\\custom.yaml\n",
      "Файл 'C:\\Users\\Vlada\\Documents\\Business\\AI\\AI University\\Стажировка 1-Создание системы распознавания взрывоопасных предметов для перегружателей металлического лома\\DataSet\\dataset_vtormet\\custom.yaml' существует. Продолжаем...\n",
      "Ultralytics YOLOv8.2.96  Python-3.11.9 torch-2.0.1+cu117 CUDA:0 (NVIDIA GeForce GTX 1080 Ti, 11264MiB)\n",
      "Model summary (fused): 218 layers, 25,842,655 parameters, 0 gradients, 78.7 GFLOPs\n"
     ]
    },
    {
     "ename": "SyntaxError",
     "evalue": "C:\\Users\\Vlada\\Documents\\Business\\AI\\AI University\\ 1-        \\DataSet\\dataset_vtormet\\custom.yaml 'train:' key missing .\n'train' and 'val' are required in all data YAMLs. (<string>)",
     "output_type": "error",
     "traceback": [
      "Traceback \u001b[1;36m(most recent call last)\u001b[0m:\n",
      "\u001b[0m  File \u001b[0;32m~\\AppData\\Local\\Packages\\PythonSoftwareFoundation.Python.3.11_qbz5n2kfra8p0\\LocalCache\\local-packages\\Python311\\site-packages\\IPython\\core\\interactiveshell.py:3577\u001b[0m in \u001b[0;35mrun_code\u001b[0m\n    exec(code_obj, self.user_global_ns, self.user_ns)\u001b[0m\n",
      "\u001b[0m  Cell \u001b[0;32mIn[29], line 37\u001b[0m\n    metrics = model.val(data=yaml_file_path)\u001b[0m\n",
      "\u001b[0m  File \u001b[0;32m~\\AppData\\Local\\Packages\\PythonSoftwareFoundation.Python.3.11_qbz5n2kfra8p0\\LocalCache\\local-packages\\Python311\\site-packages\\ultralytics\\engine\\model.py:648\u001b[0m in \u001b[0;35mval\u001b[0m\n    validator(model=self.model)\u001b[0m\n",
      "\u001b[0m  File \u001b[0;32m~\\AppData\\Local\\Packages\\PythonSoftwareFoundation.Python.3.11_qbz5n2kfra8p0\\LocalCache\\local-packages\\Python311\\site-packages\\torch\\utils\\_contextlib.py:115\u001b[0m in \u001b[0;35mdecorate_context\u001b[0m\n    return func(*args, **kwargs)\u001b[0m\n",
      "\u001b[0m  File \u001b[0;32m~\\AppData\\Local\\Packages\\PythonSoftwareFoundation.Python.3.11_qbz5n2kfra8p0\\LocalCache\\local-packages\\Python311\\site-packages\\ultralytics\\engine\\validator.py:142\u001b[0m in \u001b[0;35m__call__\u001b[0m\n    self.data = check_det_dataset(self.args.data)\u001b[0m\n",
      "\u001b[1;36m  File \u001b[1;32m~\\AppData\\Local\\Packages\\PythonSoftwareFoundation.Python.3.11_qbz5n2kfra8p0\\LocalCache\\local-packages\\Python311\\site-packages\\ultralytics\\data\\utils.py:284\u001b[1;36m in \u001b[1;35mcheck_det_dataset\u001b[1;36m\n\u001b[1;33m    raise SyntaxError(\u001b[1;36m\n",
      "\u001b[1;36m  File \u001b[1;32m<string>\u001b[1;36m\u001b[0m\n\u001b[1;31mSyntaxError\u001b[0m\u001b[1;31m:\u001b[0m C:\\Users\\Vlada\\Documents\\Business\\AI\\AI University\\ 1-        \\DataSet\\dataset_vtormet\\custom.yaml 'train:' key missing .\n'train' and 'val' are required in all data YAMLs.\n"
     ]
    }
   ],
   "source": [
    "import yaml\n",
    "import os\n",
    "import shutil\n",
    "\n",
    "dataset_directory = r'C:\\Users\\Vlada\\Documents\\Business\\AI\\AI University\\Стажировка 1-Создание системы распознавания взрывоопасных предметов для перегружателей металлического лома\\DataSet\\dataset_vtormet'\n",
    "# Папка с тестовыми изображениями\n",
    "test_images_folder = os.path.join(dataset_directory, 'vipeovop/images')\n",
    "test_labels_folder = os.path.join(dataset_directory, 'vipeovop/labels')\n",
    "\n",
    "# Данные для файла custom.yaml\n",
    "data = {\n",
    "    'test': test_images_folder,\n",
    "    # Добавьте информацию о классах, если необходимо\n",
    "    #'names': ['1Class', '2Class', '3Class', '0Class', 'NONClass']\n",
    "}\n",
    "\n",
    "# Сохранение в файл custom.yaml\n",
    "yaml_file = 'custom.yaml'\n",
    "with open(yaml_file, 'w') as f:\n",
    "    yaml.dump(data, f)\n",
    "\n",
    "# Путь к директории, куда нужно переместить custom.yaml\n",
    "yaml_file_path = os.path.join(dataset_directory, yaml_file)\n",
    "\n",
    "# Перемещаем файл custom.yaml в указанную директорию\n",
    "shutil.move(yaml_file, yaml_file_path)\n",
    "print(f\"Файл YAML сохранен по пути: {yaml_file_path}\")\n",
    "\n",
    "# Проверка существования файла перед использованием\n",
    "if os.path.exists(yaml_file_path):\n",
    "    print(f\"Файл '{yaml_file_path}' существует. Продолжаем...\")\n",
    "else:\n",
    "    print(f\"Файл '{yaml_file_path}' не найден. Проверьте путь.\")\n",
    "\n",
    "# Оценка модели с помощью файла custom.yaml\n",
    "model = YOLO('runs/detect/train/weights/best.pt')\n",
    "metrics = model.val(data=yaml_file_path)\n",
    "\n",
    "# Вывод метрик\n",
    "print(f\"mAP50-95: {metrics.box.map:.4f}\")\n"
   ]
  },
  {
   "cell_type": "code",
   "execution_count": 31,
   "metadata": {},
   "outputs": [
    {
     "name": "stdout",
     "output_type": "stream",
     "text": [
      "\n",
      "image 1/1 C:\\Users\\Vlada\\Documents\\Business\\AI\\AI University\\ 1-        \\DataSet\\dataset_vtormet\\vipeovop\\images\\frame_1260_seg_1_0.jpg: 640x640 1 1Class, 87.0ms\n",
      "Speed: 2.0ms preprocess, 87.0ms inference, 3.0ms postprocess per image at shape (1, 3, 640, 640)\n",
      "\n",
      "image 1/1 C:\\Users\\Vlada\\Documents\\Business\\AI\\AI University\\ 1-        \\DataSet\\dataset_vtormet\\vipeovop\\images\\frame_1280_seg_2_1.jpg: 640x640 1 1Class, 88.0ms\n",
      "Speed: 2.0ms preprocess, 88.0ms inference, 3.0ms postprocess per image at shape (1, 3, 640, 640)\n",
      "\n",
      "image 1/1 C:\\Users\\Vlada\\Documents\\Business\\AI\\AI University\\ 1-        \\DataSet\\dataset_vtormet\\vipeovop\\images\\frame_1000_seg_2_0.jpg: 640x640 (no detections), 88.0ms\n",
      "Speed: 2.0ms preprocess, 88.0ms inference, 1.0ms postprocess per image at shape (1, 3, 640, 640)\n",
      "\n",
      "image 1/1 C:\\Users\\Vlada\\Documents\\Business\\AI\\AI University\\ 1-        \\DataSet\\dataset_vtormet\\vipeovop\\images\\frame_1180_seg_0_0.jpg: 640x640 (no detections), 83.0ms\n",
      "Speed: 2.0ms preprocess, 83.0ms inference, 1.0ms postprocess per image at shape (1, 3, 640, 640)\n",
      "\n",
      "image 1/1 C:\\Users\\Vlada\\Documents\\Business\\AI\\AI University\\ 1-        \\DataSet\\dataset_vtormet\\vipeovop\\images\\frame_1360_seg_2_0.jpg: 640x640 (no detections), 84.0ms\n",
      "Speed: 2.0ms preprocess, 84.0ms inference, 1.0ms postprocess per image at shape (1, 3, 640, 640)\n",
      "\n",
      "image 1/1 C:\\Users\\Vlada\\Documents\\Business\\AI\\AI University\\ 1-        \\DataSet\\dataset_vtormet\\vipeovop\\images\\frame_1340_seg_2_0.jpg: 640x640 (no detections), 86.0ms\n",
      "Speed: 2.0ms preprocess, 86.0ms inference, 1.0ms postprocess per image at shape (1, 3, 640, 640)\n",
      "\n",
      "image 1/1 C:\\Users\\Vlada\\Documents\\Business\\AI\\AI University\\ 1-        \\DataSet\\dataset_vtormet\\vipeovop\\images\\frame_1280_seg_0_1.jpg: 640x640 1 0Class, 86.0ms\n",
      "Speed: 3.0ms preprocess, 86.0ms inference, 3.0ms postprocess per image at shape (1, 3, 640, 640)\n",
      "\n",
      "image 1/1 C:\\Users\\Vlada\\Documents\\Business\\AI\\AI University\\ 1-        \\DataSet\\dataset_vtormet\\vipeovop\\images\\frame_1200_seg_2_1.jpg: 640x640 (no detections), 90.0ms\n",
      "Speed: 2.0ms preprocess, 90.0ms inference, 1.0ms postprocess per image at shape (1, 3, 640, 640)\n",
      "\n",
      "image 1/1 C:\\Users\\Vlada\\Documents\\Business\\AI\\AI University\\ 1-        \\DataSet\\dataset_vtormet\\vipeovop\\images\\frame_1340_seg_1_0.jpg: 640x640 1 1Class, 88.0ms\n",
      "Speed: 2.0ms preprocess, 88.0ms inference, 3.0ms postprocess per image at shape (1, 3, 640, 640)\n",
      "\n",
      "image 1/1 C:\\Users\\Vlada\\Documents\\Business\\AI\\AI University\\ 1-        \\DataSet\\dataset_vtormet\\vipeovop\\images\\frame_1240_seg_0_1.jpg: 640x640 1 0Class, 93.0ms\n",
      "Speed: 2.0ms preprocess, 93.0ms inference, 3.0ms postprocess per image at shape (1, 3, 640, 640)\n",
      "\n",
      "image 1/1 C:\\Users\\Vlada\\Documents\\Business\\AI\\AI University\\ 1-        \\DataSet\\dataset_vtormet\\vipeovop\\images\\frame_1140_seg_0_1.jpg: 640x640 (no detections), 84.0ms\n",
      "Speed: 2.0ms preprocess, 84.0ms inference, 1.0ms postprocess per image at shape (1, 3, 640, 640)\n",
      "\n",
      "image 1/1 C:\\Users\\Vlada\\Documents\\Business\\AI\\AI University\\ 1-        \\DataSet\\dataset_vtormet\\vipeovop\\images\\frame_1360_seg_1_1.jpg: 640x640 1 1Class, 82.0ms\n",
      "Speed: 2.0ms preprocess, 82.0ms inference, 3.0ms postprocess per image at shape (1, 3, 640, 640)\n",
      "\n",
      "image 1/1 C:\\Users\\Vlada\\Documents\\Business\\AI\\AI University\\ 1-        \\DataSet\\dataset_vtormet\\vipeovop\\images\\frame_1060_seg_2_1.jpg: 640x640 1 1Class, 87.0ms\n",
      "Speed: 3.0ms preprocess, 87.0ms inference, 3.0ms postprocess per image at shape (1, 3, 640, 640)\n",
      "\n",
      "image 1/1 C:\\Users\\Vlada\\Documents\\Business\\AI\\AI University\\ 1-        \\DataSet\\dataset_vtormet\\vipeovop\\images\\frame_1200_seg_0_0.jpg: 640x640 (no detections), 85.0ms\n",
      "Speed: 2.0ms preprocess, 85.0ms inference, 1.0ms postprocess per image at shape (1, 3, 640, 640)\n",
      "\n",
      "image 1/1 C:\\Users\\Vlada\\Documents\\Business\\AI\\AI University\\ 1-        \\DataSet\\dataset_vtormet\\vipeovop\\images\\frame_140_seg_1_0.jpg: 640x640 1 1Class, 85.0ms\n",
      "Speed: 2.0ms preprocess, 85.0ms inference, 3.0ms postprocess per image at shape (1, 3, 640, 640)\n",
      "\n",
      "image 1/1 C:\\Users\\Vlada\\Documents\\Business\\AI\\AI University\\ 1-        \\DataSet\\dataset_vtormet\\vipeovop\\images\\frame_1040_seg_0_0.jpg: 640x640 (no detections), 88.0ms\n",
      "Speed: 2.0ms preprocess, 88.0ms inference, 1.0ms postprocess per image at shape (1, 3, 640, 640)\n",
      "\n",
      "image 1/1 C:\\Users\\Vlada\\Documents\\Business\\AI\\AI University\\ 1-        \\DataSet\\dataset_vtormet\\vipeovop\\images\\frame_1160_seg_2_0.jpg: 640x640 (no detections), 81.0ms\n",
      "Speed: 3.0ms preprocess, 81.0ms inference, 1.0ms postprocess per image at shape (1, 3, 640, 640)\n",
      "\n",
      "image 1/1 C:\\Users\\Vlada\\Documents\\Business\\AI\\AI University\\ 1-        \\DataSet\\dataset_vtormet\\vipeovop\\images\\frame_1080_seg_0_1.jpg: 640x640 2 0Classs, 86.0ms\n",
      "Speed: 2.0ms preprocess, 86.0ms inference, 4.0ms postprocess per image at shape (1, 3, 640, 640)\n",
      "\n",
      "image 1/1 C:\\Users\\Vlada\\Documents\\Business\\AI\\AI University\\ 1-        \\DataSet\\dataset_vtormet\\vipeovop\\images\\frame_120_seg_0_1.jpg: 640x640 1 2Class, 1 0Class, 85.0ms\n",
      "Speed: 3.0ms preprocess, 85.0ms inference, 3.0ms postprocess per image at shape (1, 3, 640, 640)\n",
      "\n",
      "image 1/1 C:\\Users\\Vlada\\Documents\\Business\\AI\\AI University\\ 1-        \\DataSet\\dataset_vtormet\\vipeovop\\images\\frame_1040_seg_0_1.jpg: 640x640 1 1Class, 1 0Class, 84.0ms\n",
      "Speed: 3.0ms preprocess, 84.0ms inference, 2.0ms postprocess per image at shape (1, 3, 640, 640)\n",
      "\n",
      "image 1/1 C:\\Users\\Vlada\\Documents\\Business\\AI\\AI University\\ 1-        \\DataSet\\dataset_vtormet\\vipeovop\\images\\frame_1020_seg_0_0.jpg: 640x640 1 0Class, 88.0ms\n",
      "Speed: 2.0ms preprocess, 88.0ms inference, 4.0ms postprocess per image at shape (1, 3, 640, 640)\n",
      "\n",
      "image 1/1 C:\\Users\\Vlada\\Documents\\Business\\AI\\AI University\\ 1-        \\DataSet\\dataset_vtormet\\vipeovop\\images\\frame_1320_seg_0_1.jpg: 640x640 1 0Class, 86.0ms\n",
      "Speed: 2.0ms preprocess, 86.0ms inference, 3.0ms postprocess per image at shape (1, 3, 640, 640)\n",
      "\n",
      "image 1/1 C:\\Users\\Vlada\\Documents\\Business\\AI\\AI University\\ 1-        \\DataSet\\dataset_vtormet\\vipeovop\\images\\frame_1300_seg_0_0.jpg: 640x640 (no detections), 84.0ms\n",
      "Speed: 3.0ms preprocess, 84.0ms inference, 1.0ms postprocess per image at shape (1, 3, 640, 640)\n",
      "\n",
      "image 1/1 C:\\Users\\Vlada\\Documents\\Business\\AI\\AI University\\ 1-        \\DataSet\\dataset_vtormet\\vipeovop\\images\\frame_1220_seg_1_1.jpg: 640x640 (no detections), 86.0ms\n",
      "Speed: 2.0ms preprocess, 86.0ms inference, 1.0ms postprocess per image at shape (1, 3, 640, 640)\n",
      "\n",
      "image 1/1 C:\\Users\\Vlada\\Documents\\Business\\AI\\AI University\\ 1-        \\DataSet\\dataset_vtormet\\vipeovop\\images\\frame_1100_seg_0_0.jpg: 640x640 1 1Class, 84.0ms\n",
      "Speed: 3.0ms preprocess, 84.0ms inference, 3.0ms postprocess per image at shape (1, 3, 640, 640)\n",
      "\n",
      "image 1/1 C:\\Users\\Vlada\\Documents\\Business\\AI\\AI University\\ 1-        \\DataSet\\dataset_vtormet\\vipeovop\\images\\frame_1160_seg_0_0.jpg: 640x640 (no detections), 86.0ms\n",
      "Speed: 2.0ms preprocess, 86.0ms inference, 1.0ms postprocess per image at shape (1, 3, 640, 640)\n",
      "\n",
      "image 1/1 C:\\Users\\Vlada\\Documents\\Business\\AI\\AI University\\ 1-        \\DataSet\\dataset_vtormet\\vipeovop\\images\\frame_1180_seg_2_1.jpg: 640x640 1 1Class, 88.0ms\n",
      "Speed: 2.0ms preprocess, 88.0ms inference, 3.0ms postprocess per image at shape (1, 3, 640, 640)\n",
      "\n",
      "image 1/1 C:\\Users\\Vlada\\Documents\\Business\\AI\\AI University\\ 1-        \\DataSet\\dataset_vtormet\\vipeovop\\images\\frame_100_seg_0_0.jpg: 640x640 4 0Classs, 83.0ms\n",
      "Speed: 2.0ms preprocess, 83.0ms inference, 3.0ms postprocess per image at shape (1, 3, 640, 640)\n",
      "\n",
      "image 1/1 C:\\Users\\Vlada\\Documents\\Business\\AI\\AI University\\ 1-        \\DataSet\\dataset_vtormet\\vipeovop\\images\\frame_1100_seg_1_1.jpg: 640x640 1 1Class, 88.0ms\n",
      "Speed: 3.0ms preprocess, 88.0ms inference, 3.0ms postprocess per image at shape (1, 3, 640, 640)\n",
      "\n",
      "image 1/1 C:\\Users\\Vlada\\Documents\\Business\\AI\\AI University\\ 1-        \\DataSet\\dataset_vtormet\\vipeovop\\images\\frame_1420_seg_0_0.jpg: 640x640 (no detections), 89.3ms\n",
      "Speed: 2.0ms preprocess, 89.3ms inference, 1.0ms postprocess per image at shape (1, 3, 640, 640)\n",
      "\n",
      "image 1/1 C:\\Users\\Vlada\\Documents\\Business\\AI\\AI University\\ 1-        \\DataSet\\dataset_vtormet\\vipeovop\\images\\frame_1080_seg_2_0.jpg: 640x640 (no detections), 89.0ms\n",
      "Speed: 2.0ms preprocess, 89.0ms inference, 1.0ms postprocess per image at shape (1, 3, 640, 640)\n",
      "\n",
      "image 1/1 C:\\Users\\Vlada\\Documents\\Business\\AI\\AI University\\ 1-        \\DataSet\\dataset_vtormet\\vipeovop\\images\\frame_120_seg_0_0.jpg: 640x640 2 0Classs, 85.0ms\n",
      "Speed: 2.0ms preprocess, 85.0ms inference, 3.0ms postprocess per image at shape (1, 3, 640, 640)\n",
      "\n",
      "image 1/1 C:\\Users\\Vlada\\Documents\\Business\\AI\\AI University\\ 1-        \\DataSet\\dataset_vtormet\\vipeovop\\images\\frame_120_seg_1_1.jpg: 640x640 1 0Class, 87.0ms\n",
      "Speed: 2.0ms preprocess, 87.0ms inference, 5.0ms postprocess per image at shape (1, 3, 640, 640)\n",
      "\n",
      "image 1/1 C:\\Users\\Vlada\\Documents\\Business\\AI\\AI University\\ 1-        \\DataSet\\dataset_vtormet\\vipeovop\\images\\frame_1040_seg_1_0.jpg: 640x640 (no detections), 83.8ms\n",
      "Speed: 3.0ms preprocess, 83.8ms inference, 0.0ms postprocess per image at shape (1, 3, 640, 640)\n",
      "\n",
      "image 1/1 C:\\Users\\Vlada\\Documents\\Business\\AI\\AI University\\ 1-        \\DataSet\\dataset_vtormet\\vipeovop\\images\\frame_1180_seg_2_0.jpg: 640x640 (no detections), 86.0ms\n",
      "Speed: 2.0ms preprocess, 86.0ms inference, 1.0ms postprocess per image at shape (1, 3, 640, 640)\n",
      "\n",
      "image 1/1 C:\\Users\\Vlada\\Documents\\Business\\AI\\AI University\\ 1-        \\DataSet\\dataset_vtormet\\vipeovop\\images\\frame_1160_seg_0_1.jpg: 640x640 (no detections), 88.0ms\n",
      "Speed: 2.0ms preprocess, 88.0ms inference, 1.0ms postprocess per image at shape (1, 3, 640, 640)\n",
      "\n",
      "image 1/1 C:\\Users\\Vlada\\Documents\\Business\\AI\\AI University\\ 1-        \\DataSet\\dataset_vtormet\\vipeovop\\images\\frame_1140_seg_1_0.jpg: 640x640 1 1Class, 85.0ms\n",
      "Speed: 2.0ms preprocess, 85.0ms inference, 2.0ms postprocess per image at shape (1, 3, 640, 640)\n",
      "\n",
      "image 1/1 C:\\Users\\Vlada\\Documents\\Business\\AI\\AI University\\ 1-        \\DataSet\\dataset_vtormet\\vipeovop\\images\\frame_1300_seg_1_0.jpg: 640x640 1 1Class, 88.0ms\n",
      "Speed: 2.0ms preprocess, 88.0ms inference, 3.0ms postprocess per image at shape (1, 3, 640, 640)\n",
      "\n",
      "image 1/1 C:\\Users\\Vlada\\Documents\\Business\\AI\\AI University\\ 1-        \\DataSet\\dataset_vtormet\\vipeovop\\images\\frame_1620_seg_0_1.jpg: 640x640 (no detections), 88.0ms\n",
      "Speed: 2.0ms preprocess, 88.0ms inference, 1.0ms postprocess per image at shape (1, 3, 640, 640)\n",
      "\n",
      "image 1/1 C:\\Users\\Vlada\\Documents\\Business\\AI\\AI University\\ 1-        \\DataSet\\dataset_vtormet\\vipeovop\\images\\frame_1060_seg_1_1.jpg: 640x640 1 1Class, 88.0ms\n",
      "Speed: 2.0ms preprocess, 88.0ms inference, 3.0ms postprocess per image at shape (1, 3, 640, 640)\n",
      "\n",
      "image 1/1 C:\\Users\\Vlada\\Documents\\Business\\AI\\AI University\\ 1-        \\DataSet\\dataset_vtormet\\vipeovop\\images\\frame_1000_seg_0_1.jpg: 640x640 1 0Class, 89.0ms\n",
      "Speed: 2.0ms preprocess, 89.0ms inference, 3.0ms postprocess per image at shape (1, 3, 640, 640)\n",
      "\n",
      "image 1/1 C:\\Users\\Vlada\\Documents\\Business\\AI\\AI University\\ 1-        \\DataSet\\dataset_vtormet\\vipeovop\\images\\frame_1520_seg_0_0.jpg: 640x640 1 1Class, 88.0ms\n",
      "Speed: 2.0ms preprocess, 88.0ms inference, 4.0ms postprocess per image at shape (1, 3, 640, 640)\n",
      "\n",
      "image 1/1 C:\\Users\\Vlada\\Documents\\Business\\AI\\AI University\\ 1-        \\DataSet\\dataset_vtormet\\vipeovop\\images\\frame_1300_seg_2_1.jpg: 640x640 1 1Class, 86.0ms\n",
      "Speed: 2.0ms preprocess, 86.0ms inference, 3.0ms postprocess per image at shape (1, 3, 640, 640)\n",
      "\n",
      "image 1/1 C:\\Users\\Vlada\\Documents\\Business\\AI\\AI University\\ 1-        \\DataSet\\dataset_vtormet\\vipeovop\\images\\frame_0_seg_0_1.jpg: 640x640 1 0Class, 85.0ms\n",
      "Speed: 3.0ms preprocess, 85.0ms inference, 2.0ms postprocess per image at shape (1, 3, 640, 640)\n",
      "\n",
      "image 1/1 C:\\Users\\Vlada\\Documents\\Business\\AI\\AI University\\ 1-        \\DataSet\\dataset_vtormet\\vipeovop\\images\\frame_1000_seg_2_1.jpg: 640x640 1 1Class, 87.0ms\n",
      "Speed: 2.0ms preprocess, 87.0ms inference, 3.0ms postprocess per image at shape (1, 3, 640, 640)\n",
      "\n",
      "image 1/1 C:\\Users\\Vlada\\Documents\\Business\\AI\\AI University\\ 1-        \\DataSet\\dataset_vtormet\\vipeovop\\images\\frame_1240_seg_1_0.jpg: 640x640 1 1Class, 88.0ms\n",
      "Speed: 2.0ms preprocess, 88.0ms inference, 3.0ms postprocess per image at shape (1, 3, 640, 640)\n",
      "\n",
      "image 1/1 C:\\Users\\Vlada\\Documents\\Business\\AI\\AI University\\ 1-        \\DataSet\\dataset_vtormet\\vipeovop\\images\\frame_1120_seg_1_1.jpg: 640x640 1 1Class, 87.0ms\n",
      "Speed: 2.0ms preprocess, 87.0ms inference, 3.0ms postprocess per image at shape (1, 3, 640, 640)\n",
      "\n",
      "image 1/1 C:\\Users\\Vlada\\Documents\\Business\\AI\\AI University\\ 1-        \\DataSet\\dataset_vtormet\\vipeovop\\images\\frame_1240_seg_0_0.jpg: 640x640 (no detections), 91.0ms\n",
      "Speed: 2.0ms preprocess, 91.0ms inference, 1.0ms postprocess per image at shape (1, 3, 640, 640)\n",
      "\n",
      "image 1/1 C:\\Users\\Vlada\\Documents\\Business\\AI\\AI University\\ 1-        \\DataSet\\dataset_vtormet\\vipeovop\\images\\frame_1220_seg_0_1.jpg: 640x640 2 0Classs, 84.0ms\n",
      "Speed: 3.0ms preprocess, 84.0ms inference, 3.0ms postprocess per image at shape (1, 3, 640, 640)\n",
      "\n",
      "image 1/1 C:\\Users\\Vlada\\Documents\\Business\\AI\\AI University\\ 1-        \\DataSet\\dataset_vtormet\\vipeovop\\images\\frame_120_seg_1_0.jpg: 640x640 (no detections), 91.0ms\n",
      "Speed: 3.0ms preprocess, 91.0ms inference, 1.0ms postprocess per image at shape (1, 3, 640, 640)\n",
      "\n",
      "image 1/1 C:\\Users\\Vlada\\Documents\\Business\\AI\\AI University\\ 1-        \\DataSet\\dataset_vtormet\\vipeovop\\images\\frame_0_seg_0_0.jpg: 640x640 2 0Classs, 91.0ms\n",
      "Speed: 2.0ms preprocess, 91.0ms inference, 3.0ms postprocess per image at shape (1, 3, 640, 640)\n",
      "\n",
      "image 1/1 C:\\Users\\Vlada\\Documents\\Business\\AI\\AI University\\ 1-        \\DataSet\\dataset_vtormet\\vipeovop\\images\\frame_1320_seg_1_0.jpg: 640x640 (no detections), 89.0ms\n",
      "Speed: 2.0ms preprocess, 89.0ms inference, 2.0ms postprocess per image at shape (1, 3, 640, 640)\n",
      "\n",
      "image 1/1 C:\\Users\\Vlada\\Documents\\Business\\AI\\AI University\\ 1-        \\DataSet\\dataset_vtormet\\vipeovop\\images\\frame_1160_seg_1_1.jpg: 640x640 1 1Class, 92.0ms\n",
      "Speed: 2.0ms preprocess, 92.0ms inference, 3.0ms postprocess per image at shape (1, 3, 640, 640)\n",
      "\n",
      "image 1/1 C:\\Users\\Vlada\\Documents\\Business\\AI\\AI University\\ 1-        \\DataSet\\dataset_vtormet\\vipeovop\\images\\frame_1340_seg_1_1.jpg: 640x640 (no detections), 86.0ms\n",
      "Speed: 2.0ms preprocess, 86.0ms inference, 1.0ms postprocess per image at shape (1, 3, 640, 640)\n",
      "\n",
      "image 1/1 C:\\Users\\Vlada\\Documents\\Business\\AI\\AI University\\ 1-        \\DataSet\\dataset_vtormet\\vipeovop\\images\\frame_1060_seg_0_1.jpg: 640x640 1 0Class, 89.0ms\n",
      "Speed: 3.0ms preprocess, 89.0ms inference, 4.0ms postprocess per image at shape (1, 3, 640, 640)\n",
      "\n",
      "image 1/1 C:\\Users\\Vlada\\Documents\\Business\\AI\\AI University\\ 1-        \\DataSet\\dataset_vtormet\\vipeovop\\images\\frame_1080_seg_2_1.jpg: 640x640 1 1Class, 86.0ms\n",
      "Speed: 3.0ms preprocess, 86.0ms inference, 3.0ms postprocess per image at shape (1, 3, 640, 640)\n",
      "\n",
      "image 1/1 C:\\Users\\Vlada\\Documents\\Business\\AI\\AI University\\ 1-        \\DataSet\\dataset_vtormet\\vipeovop\\images\\frame_1260_seg_2_0.jpg: 640x640 (no detections), 90.0ms\n",
      "Speed: 2.0ms preprocess, 90.0ms inference, 1.0ms postprocess per image at shape (1, 3, 640, 640)\n",
      "\n",
      "image 1/1 C:\\Users\\Vlada\\Documents\\Business\\AI\\AI University\\ 1-        \\DataSet\\dataset_vtormet\\vipeovop\\images\\frame_1000_seg_1_0.jpg: 640x640 (no detections), 85.0ms\n",
      "Speed: 2.0ms preprocess, 85.0ms inference, 3.0ms postprocess per image at shape (1, 3, 640, 640)\n",
      "\n",
      "image 1/1 C:\\Users\\Vlada\\Documents\\Business\\AI\\AI University\\ 1-        \\DataSet\\dataset_vtormet\\vipeovop\\images\\frame_1380_seg_0_0.jpg: 640x640 1 1Class, 92.0ms\n",
      "Speed: 2.0ms preprocess, 92.0ms inference, 3.0ms postprocess per image at shape (1, 3, 640, 640)\n",
      "\n",
      "image 1/1 C:\\Users\\Vlada\\Documents\\Business\\AI\\AI University\\ 1-        \\DataSet\\dataset_vtormet\\vipeovop\\images\\frame_1400_seg_0_1.jpg: 640x640 (no detections), 87.0ms\n",
      "Speed: 2.0ms preprocess, 87.0ms inference, 1.0ms postprocess per image at shape (1, 3, 640, 640)\n",
      "\n",
      "image 1/1 C:\\Users\\Vlada\\Documents\\Business\\AI\\AI University\\ 1-        \\DataSet\\dataset_vtormet\\vipeovop\\images\\frame_1040_seg_2_0.jpg: 640x640 (no detections), 90.0ms\n",
      "Speed: 2.0ms preprocess, 90.0ms inference, 1.0ms postprocess per image at shape (1, 3, 640, 640)\n",
      "\n",
      "image 1/1 C:\\Users\\Vlada\\Documents\\Business\\AI\\AI University\\ 1-        \\DataSet\\dataset_vtormet\\vipeovop\\images\\frame_1060_seg_0_0.jpg: 640x640 (no detections), 84.0ms\n",
      "Speed: 2.0ms preprocess, 84.0ms inference, 1.0ms postprocess per image at shape (1, 3, 640, 640)\n",
      "\n",
      "image 1/1 C:\\Users\\Vlada\\Documents\\Business\\AI\\AI University\\ 1-        \\DataSet\\dataset_vtormet\\vipeovop\\images\\frame_1360_seg_0_1.jpg: 640x640 (no detections), 87.0ms\n",
      "Speed: 3.0ms preprocess, 87.0ms inference, 1.0ms postprocess per image at shape (1, 3, 640, 640)\n",
      "\n",
      "image 1/1 C:\\Users\\Vlada\\Documents\\Business\\AI\\AI University\\ 1-        \\DataSet\\dataset_vtormet\\vipeovop\\images\\frame_1180_seg_1_1.jpg: 640x640 1 1Class, 1 0Class, 88.0ms\n",
      "Speed: 2.0ms preprocess, 88.0ms inference, 3.0ms postprocess per image at shape (1, 3, 640, 640)\n",
      "\n",
      "image 1/1 C:\\Users\\Vlada\\Documents\\Business\\AI\\AI University\\ 1-        \\DataSet\\dataset_vtormet\\vipeovop\\images\\frame_1140_seg_1_1.jpg: 640x640 1 1Class, 86.0ms\n",
      "Speed: 2.0ms preprocess, 86.0ms inference, 5.0ms postprocess per image at shape (1, 3, 640, 640)\n",
      "\n",
      "image 1/1 C:\\Users\\Vlada\\Documents\\Business\\AI\\AI University\\ 1-        \\DataSet\\dataset_vtormet\\vipeovop\\images\\frame_1280_seg_2_0.jpg: 640x640 (no detections), 88.0ms\n",
      "Speed: 2.0ms preprocess, 88.0ms inference, 1.0ms postprocess per image at shape (1, 3, 640, 640)\n",
      "\n",
      "image 1/1 C:\\Users\\Vlada\\Documents\\Business\\AI\\AI University\\ 1-        \\DataSet\\dataset_vtormet\\vipeovop\\images\\frame_1620_seg_1_1.jpg: 640x640 1 1Class, 90.0ms\n",
      "Speed: 2.0ms preprocess, 90.0ms inference, 2.0ms postprocess per image at shape (1, 3, 640, 640)\n",
      "\n",
      "image 1/1 C:\\Users\\Vlada\\Documents\\Business\\AI\\AI University\\ 1-        \\DataSet\\dataset_vtormet\\vipeovop\\images\\frame_1320_seg_1_1.jpg: 640x640 (no detections), 89.0ms\n",
      "Speed: 2.0ms preprocess, 89.0ms inference, 1.0ms postprocess per image at shape (1, 3, 640, 640)\n",
      "\n",
      "image 1/1 C:\\Users\\Vlada\\Documents\\Business\\AI\\AI University\\ 1-        \\DataSet\\dataset_vtormet\\vipeovop\\images\\frame_1160_seg_2_1.jpg: 640x640 1 1Class, 89.0ms\n",
      "Speed: 3.0ms preprocess, 89.0ms inference, 3.0ms postprocess per image at shape (1, 3, 640, 640)\n",
      "\n",
      "image 1/1 C:\\Users\\Vlada\\Documents\\Business\\AI\\AI University\\ 1-        \\DataSet\\dataset_vtormet\\vipeovop\\images\\frame_1160_seg_1_0.jpg: 640x640 (no detections), 92.0ms\n",
      "Speed: 3.0ms preprocess, 92.0ms inference, 1.0ms postprocess per image at shape (1, 3, 640, 640)\n",
      "\n",
      "image 1/1 C:\\Users\\Vlada\\Documents\\Business\\AI\\AI University\\ 1-        \\DataSet\\dataset_vtormet\\vipeovop\\images\\frame_100_seg_0_1.jpg: 640x640 1 2Class, 1 0Class, 84.0ms\n",
      "Speed: 2.0ms preprocess, 84.0ms inference, 3.0ms postprocess per image at shape (1, 3, 640, 640)\n",
      "\n",
      "image 1/1 C:\\Users\\Vlada\\Documents\\Business\\AI\\AI University\\ 1-        \\DataSet\\dataset_vtormet\\vipeovop\\images\\frame_1080_seg_1_0.jpg: 640x640 1 1Class, 91.0ms\n",
      "Speed: 2.0ms preprocess, 91.0ms inference, 4.0ms postprocess per image at shape (1, 3, 640, 640)\n",
      "\n",
      "image 1/1 C:\\Users\\Vlada\\Documents\\Business\\AI\\AI University\\ 1-        \\DataSet\\dataset_vtormet\\vipeovop\\images\\frame_1280_seg_1_1.jpg: 640x640 (no detections), 86.0ms\n",
      "Speed: 3.0ms preprocess, 86.0ms inference, 1.0ms postprocess per image at shape (1, 3, 640, 640)\n",
      "\n",
      "image 1/1 C:\\Users\\Vlada\\Documents\\Business\\AI\\AI University\\ 1-        \\DataSet\\dataset_vtormet\\vipeovop\\images\\frame_160_seg_1_1.jpg: 640x640 1 0Class, 87.0ms\n",
      "Speed: 3.0ms preprocess, 87.0ms inference, 3.0ms postprocess per image at shape (1, 3, 640, 640)\n",
      "\n",
      "image 1/1 C:\\Users\\Vlada\\Documents\\Business\\AI\\AI University\\ 1-        \\DataSet\\dataset_vtormet\\vipeovop\\images\\frame_100_seg_1_1.jpg: 640x640 1 0Class, 91.0ms\n",
      "Speed: 2.0ms preprocess, 91.0ms inference, 3.0ms postprocess per image at shape (1, 3, 640, 640)\n",
      "\n",
      "image 1/1 C:\\Users\\Vlada\\Documents\\Business\\AI\\AI University\\ 1-        \\DataSet\\dataset_vtormet\\vipeovop\\images\\frame_1200_seg_1_1.jpg: 640x640 1 1Class, 87.0ms\n",
      "Speed: 3.0ms preprocess, 87.0ms inference, 3.0ms postprocess per image at shape (1, 3, 640, 640)\n",
      "\n",
      "image 1/1 C:\\Users\\Vlada\\Documents\\Business\\AI\\AI University\\ 1-        \\DataSet\\dataset_vtormet\\vipeovop\\images\\frame_1240_seg_2_0.jpg: 640x640 (no detections), 91.0ms\n",
      "Speed: 2.0ms preprocess, 91.0ms inference, 1.0ms postprocess per image at shape (1, 3, 640, 640)\n",
      "\n",
      "image 1/1 C:\\Users\\Vlada\\Documents\\Business\\AI\\AI University\\ 1-        \\DataSet\\dataset_vtormet\\vipeovop\\images\\frame_1220_seg_0_0.jpg: 640x640 1 1Class, 91.0ms\n",
      "Speed: 3.0ms preprocess, 91.0ms inference, 3.0ms postprocess per image at shape (1, 3, 640, 640)\n",
      "\n",
      "image 1/1 C:\\Users\\Vlada\\Documents\\Business\\AI\\AI University\\ 1-        \\DataSet\\dataset_vtormet\\vipeovop\\images\\frame_1320_seg_0_0.jpg: 640x640 (no detections), 90.0ms\n",
      "Speed: 2.0ms preprocess, 90.0ms inference, 1.0ms postprocess per image at shape (1, 3, 640, 640)\n",
      "\n",
      "image 1/1 C:\\Users\\Vlada\\Documents\\Business\\AI\\AI University\\ 1-        \\DataSet\\dataset_vtormet\\vipeovop\\images\\frame_1080_seg_0_0.jpg: 640x640 1 1Class, 88.0ms\n",
      "Speed: 2.0ms preprocess, 88.0ms inference, 3.0ms postprocess per image at shape (1, 3, 640, 640)\n",
      "\n",
      "image 1/1 C:\\Users\\Vlada\\Documents\\Business\\AI\\AI University\\ 1-        \\DataSet\\dataset_vtormet\\vipeovop\\images\\frame_1300_seg_1_1.jpg: 640x640 (no detections), 92.0ms\n",
      "Speed: 3.0ms preprocess, 92.0ms inference, 2.0ms postprocess per image at shape (1, 3, 640, 640)\n",
      "\n",
      "image 1/1 C:\\Users\\Vlada\\Documents\\Business\\AI\\AI University\\ 1-        \\DataSet\\dataset_vtormet\\vipeovop\\images\\frame_120_seg_2_0.jpg: 640x640 (no detections), 92.0ms\n",
      "Speed: 2.0ms preprocess, 92.0ms inference, 1.0ms postprocess per image at shape (1, 3, 640, 640)\n",
      "\n",
      "image 1/1 C:\\Users\\Vlada\\Documents\\Business\\AI\\AI University\\ 1-        \\DataSet\\dataset_vtormet\\vipeovop\\images\\frame_1120_seg_0_1.jpg: 640x640 1 0Class, 86.0ms\n",
      "Speed: 2.0ms preprocess, 86.0ms inference, 3.0ms postprocess per image at shape (1, 3, 640, 640)\n",
      "\n",
      "image 1/1 C:\\Users\\Vlada\\Documents\\Business\\AI\\AI University\\ 1-        \\DataSet\\dataset_vtormet\\vipeovop\\images\\frame_740_seg_0_1.jpg: 640x640 (no detections), 88.0ms\n",
      "Speed: 3.0ms preprocess, 88.0ms inference, 1.0ms postprocess per image at shape (1, 3, 640, 640)\n",
      "\n",
      "image 1/1 C:\\Users\\Vlada\\Documents\\Business\\AI\\AI University\\ 1-        \\DataSet\\dataset_vtormet\\vipeovop\\images\\frame_1220_seg_1_0.jpg: 640x640 1 1Class, 90.0ms\n",
      "Speed: 2.0ms preprocess, 90.0ms inference, 2.0ms postprocess per image at shape (1, 3, 640, 640)\n",
      "\n",
      "image 1/1 C:\\Users\\Vlada\\Documents\\Business\\AI\\AI University\\ 1-        \\DataSet\\dataset_vtormet\\vipeovop\\images\\frame_1260_seg_1_1.jpg: 640x640 1 1Class, 85.0ms\n",
      "Speed: 2.0ms preprocess, 85.0ms inference, 3.0ms postprocess per image at shape (1, 3, 640, 640)\n",
      "\n",
      "image 1/1 C:\\Users\\Vlada\\Documents\\Business\\AI\\AI University\\ 1-        \\DataSet\\dataset_vtormet\\vipeovop\\images\\frame_1300_seg_0_1.jpg: 640x640 1 0Class, 89.0ms\n",
      "Speed: 2.0ms preprocess, 89.0ms inference, 4.0ms postprocess per image at shape (1, 3, 640, 640)\n",
      "\n",
      "image 1/1 C:\\Users\\Vlada\\Documents\\Business\\AI\\AI University\\ 1-        \\DataSet\\dataset_vtormet\\vipeovop\\images\\frame_1340_seg_0_0.jpg: 640x640 (no detections), 87.0ms\n",
      "Speed: 2.0ms preprocess, 87.0ms inference, 1.0ms postprocess per image at shape (1, 3, 640, 640)\n",
      "\n",
      "image 1/1 C:\\Users\\Vlada\\Documents\\Business\\AI\\AI University\\ 1-        \\DataSet\\dataset_vtormet\\vipeovop\\images\\frame_1120_seg_2_0.jpg: 640x640 (no detections), 91.0ms\n",
      "Speed: 3.0ms preprocess, 91.0ms inference, 1.0ms postprocess per image at shape (1, 3, 640, 640)\n",
      "\n",
      "image 1/1 C:\\Users\\Vlada\\Documents\\Business\\AI\\AI University\\ 1-        \\DataSet\\dataset_vtormet\\vipeovop\\images\\frame_1300_seg_2_0.jpg: 640x640 (no detections), 90.0ms\n",
      "Speed: 2.0ms preprocess, 90.0ms inference, 1.0ms postprocess per image at shape (1, 3, 640, 640)\n",
      "\n",
      "image 1/1 C:\\Users\\Vlada\\Documents\\Business\\AI\\AI University\\ 1-        \\DataSet\\dataset_vtormet\\vipeovop\\images\\frame_0_seg_1_0.jpg: 640x640 (no detections), 83.0ms\n",
      "Speed: 3.0ms preprocess, 83.0ms inference, 1.0ms postprocess per image at shape (1, 3, 640, 640)\n",
      "\n",
      "image 1/1 C:\\Users\\Vlada\\Documents\\Business\\AI\\AI University\\ 1-        \\DataSet\\dataset_vtormet\\vipeovop\\images\\frame_1080_seg_1_1.jpg: 640x640 (no detections), 89.0ms\n",
      "Speed: 2.0ms preprocess, 89.0ms inference, 1.0ms postprocess per image at shape (1, 3, 640, 640)\n",
      "\n",
      "image 1/1 C:\\Users\\Vlada\\Documents\\Business\\AI\\AI University\\ 1-        \\DataSet\\dataset_vtormet\\vipeovop\\images\\frame_1340_seg_0_1.jpg: 640x640 (no detections), 86.0ms\n",
      "Speed: 2.0ms preprocess, 86.0ms inference, 1.0ms postprocess per image at shape (1, 3, 640, 640)\n",
      "\n",
      "image 1/1 C:\\Users\\Vlada\\Documents\\Business\\AI\\AI University\\ 1-        \\DataSet\\dataset_vtormet\\vipeovop\\images\\frame_100_seg_2_0.jpg: 640x640 (no detections), 85.0ms\n",
      "Speed: 2.0ms preprocess, 85.0ms inference, 1.0ms postprocess per image at shape (1, 3, 640, 640)\n",
      "\n",
      "image 1/1 C:\\Users\\Vlada\\Documents\\Business\\AI\\AI University\\ 1-        \\DataSet\\dataset_vtormet\\vipeovop\\images\\frame_1240_seg_2_1.jpg: 640x640 1 1Class, 89.0ms\n",
      "Speed: 3.0ms preprocess, 89.0ms inference, 2.0ms postprocess per image at shape (1, 3, 640, 640)\n",
      "\n",
      "image 1/1 C:\\Users\\Vlada\\Documents\\Business\\AI\\AI University\\ 1-        \\DataSet\\dataset_vtormet\\vipeovop\\images\\frame_0_seg_2_0.jpg: 640x640 1 0Class, 92.0ms\n",
      "Speed: 2.0ms preprocess, 92.0ms inference, 3.0ms postprocess per image at shape (1, 3, 640, 640)\n",
      "\n",
      "image 1/1 C:\\Users\\Vlada\\Documents\\Business\\AI\\AI University\\ 1-        \\DataSet\\dataset_vtormet\\vipeovop\\images\\frame_0_seg_2_1.jpg: 640x640 1 0Class, 88.0ms\n",
      "Speed: 2.0ms preprocess, 88.0ms inference, 3.0ms postprocess per image at shape (1, 3, 640, 640)\n",
      "\n",
      "image 1/1 C:\\Users\\Vlada\\Documents\\Business\\AI\\AI University\\ 1-        \\DataSet\\dataset_vtormet\\vipeovop\\images\\frame_1100_seg_0_1.jpg: 640x640 1 0Class, 85.0ms\n",
      "Speed: 2.0ms preprocess, 85.0ms inference, 4.0ms postprocess per image at shape (1, 3, 640, 640)\n",
      "\n",
      "image 1/1 C:\\Users\\Vlada\\Documents\\Business\\AI\\AI University\\ 1-        \\DataSet\\dataset_vtormet\\vipeovop\\images\\frame_1120_seg_0_0.jpg: 640x640 1 0Class, 85.0ms\n",
      "Speed: 3.0ms preprocess, 85.0ms inference, 2.0ms postprocess per image at shape (1, 3, 640, 640)\n",
      "\n",
      "image 1/1 C:\\Users\\Vlada\\Documents\\Business\\AI\\AI University\\ 1-        \\DataSet\\dataset_vtormet\\vipeovop\\images\\frame_1420_seg_0_1.jpg: 640x640 (no detections), 85.0ms\n",
      "Speed: 2.0ms preprocess, 85.0ms inference, 1.0ms postprocess per image at shape (1, 3, 640, 640)\n",
      "\n",
      "image 1/1 C:\\Users\\Vlada\\Documents\\Business\\AI\\AI University\\ 1-        \\DataSet\\dataset_vtormet\\vipeovop\\images\\frame_1000_seg_1_1.jpg: 640x640 1 1Class, 85.0ms\n",
      "Speed: 2.0ms preprocess, 85.0ms inference, 3.0ms postprocess per image at shape (1, 3, 640, 640)\n",
      "\n",
      "image 1/1 C:\\Users\\Vlada\\Documents\\Business\\AI\\AI University\\ 1-        \\DataSet\\dataset_vtormet\\vipeovop\\images\\frame_120_seg_2_1.jpg: 640x640 1 0Class, 88.0ms\n",
      "Speed: 2.0ms preprocess, 88.0ms inference, 5.0ms postprocess per image at shape (1, 3, 640, 640)\n",
      "\n",
      "image 1/1 C:\\Users\\Vlada\\Documents\\Business\\AI\\AI University\\ 1-        \\DataSet\\dataset_vtormet\\vipeovop\\images\\frame_1260_seg_2_1.jpg: 640x640 1 1Class, 89.0ms\n",
      "Speed: 3.0ms preprocess, 89.0ms inference, 2.0ms postprocess per image at shape (1, 3, 640, 640)\n",
      "\n",
      "image 1/1 C:\\Users\\Vlada\\Documents\\Business\\AI\\AI University\\ 1-        \\DataSet\\dataset_vtormet\\vipeovop\\images\\frame_1100_seg_1_0.jpg: 640x640 1 1Class, 90.0ms\n",
      "Speed: 2.0ms preprocess, 90.0ms inference, 3.0ms postprocess per image at shape (1, 3, 640, 640)\n",
      "\n",
      "image 1/1 C:\\Users\\Vlada\\Documents\\Business\\AI\\AI University\\ 1-        \\DataSet\\dataset_vtormet\\vipeovop\\images\\frame_1060_seg_2_0.jpg: 640x640 (no detections), 88.0ms\n",
      "Speed: 3.0ms preprocess, 88.0ms inference, 1.0ms postprocess per image at shape (1, 3, 640, 640)\n",
      "\n",
      "image 1/1 C:\\Users\\Vlada\\Documents\\Business\\AI\\AI University\\ 1-        \\DataSet\\dataset_vtormet\\vipeovop\\images\\frame_1360_seg_1_0.jpg: 640x640 (no detections), 89.0ms\n",
      "Speed: 3.0ms preprocess, 89.0ms inference, 1.0ms postprocess per image at shape (1, 3, 640, 640)\n",
      "\n",
      "image 1/1 C:\\Users\\Vlada\\Documents\\Business\\AI\\AI University\\ 1-        \\DataSet\\dataset_vtormet\\vipeovop\\images\\frame_1340_seg_2_1.jpg: 640x640 1 1Class, 84.0ms\n",
      "Speed: 2.0ms preprocess, 84.0ms inference, 5.0ms postprocess per image at shape (1, 3, 640, 640)\n",
      "\n",
      "image 1/1 C:\\Users\\Vlada\\Documents\\Business\\AI\\AI University\\ 1-        \\DataSet\\dataset_vtormet\\vipeovop\\images\\frame_100_seg_2_1.jpg: 640x640 1 0Class, 86.0ms\n",
      "Speed: 2.0ms preprocess, 86.0ms inference, 3.0ms postprocess per image at shape (1, 3, 640, 640)\n",
      "\n",
      "image 1/1 C:\\Users\\Vlada\\Documents\\Business\\AI\\AI University\\ 1-        \\DataSet\\dataset_vtormet\\vipeovop\\images\\frame_1280_seg_0_0.jpg: 640x640 1 0Class, 88.0ms\n",
      "Speed: 3.0ms preprocess, 88.0ms inference, 3.0ms postprocess per image at shape (1, 3, 640, 640)\n",
      "\n",
      "image 1/1 C:\\Users\\Vlada\\Documents\\Business\\AI\\AI University\\ 1-        \\DataSet\\dataset_vtormet\\vipeovop\\images\\frame_1200_seg_0_1.jpg: 640x640 1 0Class, 91.0ms\n",
      "Speed: 2.0ms preprocess, 91.0ms inference, 2.0ms postprocess per image at shape (1, 3, 640, 640)\n",
      "\n",
      "image 1/1 C:\\Users\\Vlada\\Documents\\Business\\AI\\AI University\\ 1-        \\DataSet\\dataset_vtormet\\vipeovop\\images\\frame_1500_seg_0_1.jpg: 640x640 1 0Class, 88.0ms\n",
      "Speed: 3.0ms preprocess, 88.0ms inference, 3.0ms postprocess per image at shape (1, 3, 640, 640)\n",
      "\n",
      "image 1/1 C:\\Users\\Vlada\\Documents\\Business\\AI\\AI University\\ 1-        \\DataSet\\dataset_vtormet\\vipeovop\\images\\frame_1220_seg_2_0.jpg: 640x640 (no detections), 92.0ms\n",
      "Speed: 2.0ms preprocess, 92.0ms inference, 0.0ms postprocess per image at shape (1, 3, 640, 640)\n",
      "\n",
      "image 1/1 C:\\Users\\Vlada\\Documents\\Business\\AI\\AI University\\ 1-        \\DataSet\\dataset_vtormet\\vipeovop\\images\\frame_1360_seg_2_1.jpg: 640x640 1 1Class, 88.0ms\n",
      "Speed: 2.0ms preprocess, 88.0ms inference, 3.0ms postprocess per image at shape (1, 3, 640, 640)\n",
      "\n",
      "image 1/1 C:\\Users\\Vlada\\Documents\\Business\\AI\\AI University\\ 1-        \\DataSet\\dataset_vtormet\\vipeovop\\images\\frame_1520_seg_0_1.jpg: 640x640 1 0Class, 94.0ms\n",
      "Speed: 3.0ms preprocess, 94.0ms inference, 3.0ms postprocess per image at shape (1, 3, 640, 640)\n",
      "\n",
      "image 1/1 C:\\Users\\Vlada\\Documents\\Business\\AI\\AI University\\ 1-        \\DataSet\\dataset_vtormet\\vipeovop\\images\\frame_1240_seg_1_1.jpg: 640x640 1 1Class, 1 0Class, 90.0ms\n",
      "Speed: 3.0ms preprocess, 90.0ms inference, 4.0ms postprocess per image at shape (1, 3, 640, 640)\n",
      "\n",
      "image 1/1 C:\\Users\\Vlada\\Documents\\Business\\AI\\AI University\\ 1-        \\DataSet\\dataset_vtormet\\vipeovop\\images\\frame_1020_seg_2_0.jpg: 640x640 (no detections), 89.0ms\n",
      "Speed: 3.0ms preprocess, 89.0ms inference, 1.0ms postprocess per image at shape (1, 3, 640, 640)\n",
      "\n",
      "image 1/1 C:\\Users\\Vlada\\Documents\\Business\\AI\\AI University\\ 1-        \\DataSet\\dataset_vtormet\\vipeovop\\images\\frame_1320_seg_2_1.jpg: 640x640 1 1Class, 86.0ms\n",
      "Speed: 2.0ms preprocess, 86.0ms inference, 3.0ms postprocess per image at shape (1, 3, 640, 640)\n",
      "\n",
      "image 1/1 C:\\Users\\Vlada\\Documents\\Business\\AI\\AI University\\ 1-        \\DataSet\\dataset_vtormet\\vipeovop\\images\\frame_1360_seg_0_0.jpg: 640x640 (no detections), 90.0ms\n",
      "Speed: 2.0ms preprocess, 90.0ms inference, 1.0ms postprocess per image at shape (1, 3, 640, 640)\n",
      "\n",
      "image 1/1 C:\\Users\\Vlada\\Documents\\Business\\AI\\AI University\\ 1-        \\DataSet\\dataset_vtormet\\vipeovop\\images\\frame_1020_seg_0_1.jpg: 640x640 (no detections), 84.0ms\n",
      "Speed: 2.0ms preprocess, 84.0ms inference, 1.0ms postprocess per image at shape (1, 3, 640, 640)\n",
      "\n",
      "image 1/1 C:\\Users\\Vlada\\Documents\\Business\\AI\\AI University\\ 1-        \\DataSet\\dataset_vtormet\\vipeovop\\images\\frame_0_seg_1_1.jpg: 640x640 1 1Class, 1 0Class, 86.0ms\n",
      "Speed: 3.0ms preprocess, 86.0ms inference, 3.0ms postprocess per image at shape (1, 3, 640, 640)\n",
      "\n",
      "image 1/1 C:\\Users\\Vlada\\Documents\\Business\\AI\\AI University\\ 1-        \\DataSet\\dataset_vtormet\\vipeovop\\images\\frame_1200_seg_2_0.jpg: 640x640 1 0Class, 86.0ms\n",
      "Speed: 3.0ms preprocess, 86.0ms inference, 3.0ms postprocess per image at shape (1, 3, 640, 640)\n",
      "\n",
      "image 1/1 C:\\Users\\Vlada\\Documents\\Business\\AI\\AI University\\ 1-        \\DataSet\\dataset_vtormet\\vipeovop\\images\\frame_1260_seg_0_0.jpg: 640x640 1 1Class, 91.0ms\n",
      "Speed: 2.0ms preprocess, 91.0ms inference, 3.0ms postprocess per image at shape (1, 3, 640, 640)\n",
      "\n",
      "image 1/1 C:\\Users\\Vlada\\Documents\\Business\\AI\\AI University\\ 1-        \\DataSet\\dataset_vtormet\\vipeovop\\images\\frame_1020_seg_1_0.jpg: 640x640 (no detections), 88.0ms\n",
      "Speed: 2.0ms preprocess, 88.0ms inference, 1.0ms postprocess per image at shape (1, 3, 640, 640)\n",
      "\n",
      "image 1/1 C:\\Users\\Vlada\\Documents\\Business\\AI\\AI University\\ 1-        \\DataSet\\dataset_vtormet\\vipeovop\\images\\frame_1120_seg_2_1.jpg: 640x640 1 1Class, 88.0ms\n",
      "Speed: 3.0ms preprocess, 88.0ms inference, 4.0ms postprocess per image at shape (1, 3, 640, 640)\n",
      "\n",
      "image 1/1 C:\\Users\\Vlada\\Documents\\Business\\AI\\AI University\\ 1-        \\DataSet\\dataset_vtormet\\vipeovop\\images\\frame_1000_seg_0_0.jpg: 640x640 3 0Classs, 85.0ms\n",
      "Speed: 2.0ms preprocess, 85.0ms inference, 3.0ms postprocess per image at shape (1, 3, 640, 640)\n",
      "\n",
      "image 1/1 C:\\Users\\Vlada\\Documents\\Business\\AI\\AI University\\ 1-        \\DataSet\\dataset_vtormet\\vipeovop\\images\\frame_1660_seg_0_1.jpg: 640x640 (no detections), 87.0ms\n",
      "Speed: 2.0ms preprocess, 87.0ms inference, 1.0ms postprocess per image at shape (1, 3, 640, 640)\n",
      "\n",
      "image 1/1 C:\\Users\\Vlada\\Documents\\Business\\AI\\AI University\\ 1-        \\DataSet\\dataset_vtormet\\vipeovop\\images\\frame_1260_seg_0_1.jpg: 640x640 (no detections), 84.0ms\n",
      "Speed: 2.0ms preprocess, 84.0ms inference, 2.0ms postprocess per image at shape (1, 3, 640, 640)\n",
      "\n",
      "image 1/1 C:\\Users\\Vlada\\Documents\\Business\\AI\\AI University\\ 1-        \\DataSet\\dataset_vtormet\\vipeovop\\images\\frame_140_seg_2_1.jpg: 640x640 1 0Class, 86.0ms\n",
      "Speed: 2.0ms preprocess, 86.0ms inference, 3.0ms postprocess per image at shape (1, 3, 640, 640)\n",
      "\n",
      "image 1/1 C:\\Users\\Vlada\\Documents\\Business\\AI\\AI University\\ 1-        \\DataSet\\dataset_vtormet\\vipeovop\\images\\frame_1120_seg_1_0.jpg: 640x640 1 3Class, 91.0ms\n",
      "Speed: 2.0ms preprocess, 91.0ms inference, 3.0ms postprocess per image at shape (1, 3, 640, 640)\n",
      "\n",
      "image 1/1 C:\\Users\\Vlada\\Documents\\Business\\AI\\AI University\\ 1-        \\DataSet\\dataset_vtormet\\vipeovop\\images\\frame_1060_seg_1_0.jpg: 640x640 (no detections), 86.0ms\n",
      "Speed: 2.0ms preprocess, 86.0ms inference, 1.0ms postprocess per image at shape (1, 3, 640, 640)\n",
      "\n",
      "image 1/1 C:\\Users\\Vlada\\Documents\\Business\\AI\\AI University\\ 1-        \\DataSet\\dataset_vtormet\\vipeovop\\images\\frame_1140_seg_2_0.jpg: 640x640 (no detections), 88.0ms\n",
      "Speed: 2.0ms preprocess, 88.0ms inference, 1.0ms postprocess per image at shape (1, 3, 640, 640)\n",
      "\n",
      "image 1/1 C:\\Users\\Vlada\\Documents\\Business\\AI\\AI University\\ 1-        \\DataSet\\dataset_vtormet\\vipeovop\\images\\frame_1180_seg_0_1.jpg: 640x640 1 0Class, 92.0ms\n",
      "Speed: 2.0ms preprocess, 92.0ms inference, 3.0ms postprocess per image at shape (1, 3, 640, 640)\n",
      "\n",
      "image 1/1 C:\\Users\\Vlada\\Documents\\Business\\AI\\AI University\\ 1-        \\DataSet\\dataset_vtormet\\vipeovop\\images\\frame_1220_seg_2_1.jpg: 640x640 1 1Class, 86.0ms\n",
      "Speed: 2.0ms preprocess, 86.0ms inference, 3.0ms postprocess per image at shape (1, 3, 640, 640)\n",
      "\n",
      "image 1/1 C:\\Users\\Vlada\\Documents\\Business\\AI\\AI University\\ 1-        \\DataSet\\dataset_vtormet\\vipeovop\\images\\frame_1020_seg_2_1.jpg: 640x640 1 1Class, 88.0ms\n",
      "Speed: 2.0ms preprocess, 88.0ms inference, 2.0ms postprocess per image at shape (1, 3, 640, 640)\n",
      "\n",
      "image 1/1 C:\\Users\\Vlada\\Documents\\Business\\AI\\AI University\\ 1-        \\DataSet\\dataset_vtormet\\vipeovop\\images\\frame_1200_seg_1_0.jpg: 640x640 1 1Class, 95.0ms\n",
      "Speed: 2.0ms preprocess, 95.0ms inference, 2.0ms postprocess per image at shape (1, 3, 640, 640)\n",
      "\n",
      "image 1/1 C:\\Users\\Vlada\\Documents\\Business\\AI\\AI University\\ 1-        \\DataSet\\dataset_vtormet\\vipeovop\\images\\frame_1020_seg_1_1.jpg: 640x640 1 1Class, 91.0ms\n",
      "Speed: 3.0ms preprocess, 91.0ms inference, 3.0ms postprocess per image at shape (1, 3, 640, 640)\n",
      "\n",
      "image 1/1 C:\\Users\\Vlada\\Documents\\Business\\AI\\AI University\\ 1-        \\DataSet\\dataset_vtormet\\vipeovop\\images\\frame_1280_seg_1_0.jpg: 640x640 1 1Class, 89.0ms\n",
      "Speed: 2.0ms preprocess, 89.0ms inference, 2.0ms postprocess per image at shape (1, 3, 640, 640)\n",
      "\n",
      "image 1/1 C:\\Users\\Vlada\\Documents\\Business\\AI\\AI University\\ 1-        \\DataSet\\dataset_vtormet\\vipeovop\\images\\frame_1100_seg_2_0.jpg: 640x640 1 0Class, 92.0ms\n",
      "Speed: 2.0ms preprocess, 92.0ms inference, 3.0ms postprocess per image at shape (1, 3, 640, 640)\n",
      "\n",
      "image 1/1 C:\\Users\\Vlada\\Documents\\Business\\AI\\AI University\\ 1-        \\DataSet\\dataset_vtormet\\vipeovop\\images\\frame_1040_seg_2_1.jpg: 640x640 1 1Class, 88.0ms\n",
      "Speed: 2.0ms preprocess, 88.0ms inference, 3.0ms postprocess per image at shape (1, 3, 640, 640)\n",
      "\n",
      "image 1/1 C:\\Users\\Vlada\\Documents\\Business\\AI\\AI University\\ 1-        \\DataSet\\dataset_vtormet\\vipeovop\\images\\frame_1440_seg_0_1.jpg: 640x640 1 0Class, 87.0ms\n",
      "Speed: 2.0ms preprocess, 87.0ms inference, 4.0ms postprocess per image at shape (1, 3, 640, 640)\n",
      "\n",
      "image 1/1 C:\\Users\\Vlada\\Documents\\Business\\AI\\AI University\\ 1-        \\DataSet\\dataset_vtormet\\vipeovop\\images\\frame_1380_seg_0_1.jpg: 640x640 (no detections), 94.0ms\n",
      "Speed: 2.0ms preprocess, 94.0ms inference, 1.0ms postprocess per image at shape (1, 3, 640, 640)\n",
      "\n",
      "image 1/1 C:\\Users\\Vlada\\Documents\\Business\\AI\\AI University\\ 1-        \\DataSet\\dataset_vtormet\\vipeovop\\images\\frame_1320_seg_2_0.jpg: 640x640 (no detections), 92.0ms\n",
      "Speed: 2.0ms preprocess, 92.0ms inference, 2.0ms postprocess per image at shape (1, 3, 640, 640)\n",
      "\n",
      "image 1/1 C:\\Users\\Vlada\\Documents\\Business\\AI\\AI University\\ 1-        \\DataSet\\dataset_vtormet\\vipeovop\\images\\frame_100_seg_1_0.jpg: 640x640 (no detections), 92.0ms\n",
      "Speed: 2.0ms preprocess, 92.0ms inference, 1.0ms postprocess per image at shape (1, 3, 640, 640)\n",
      "\n",
      "image 1/1 C:\\Users\\Vlada\\Documents\\Business\\AI\\AI University\\ 1-        \\DataSet\\dataset_vtormet\\vipeovop\\images\\frame_1180_seg_1_0.jpg: 640x640 (no detections), 88.0ms\n",
      "Speed: 2.0ms preprocess, 88.0ms inference, 1.0ms postprocess per image at shape (1, 3, 640, 640)\n",
      "\n",
      "image 1/1 C:\\Users\\Vlada\\Documents\\Business\\AI\\AI University\\ 1-        \\DataSet\\dataset_vtormet\\vipeovop\\images\\frame_1140_seg_0_0.jpg: 640x640 (no detections), 87.0ms\n",
      "Speed: 2.0ms preprocess, 87.0ms inference, 1.0ms postprocess per image at shape (1, 3, 640, 640)\n",
      "\n",
      "image 1/1 C:\\Users\\Vlada\\Documents\\Business\\AI\\AI University\\ 1-        \\DataSet\\dataset_vtormet\\vipeovop\\images\\frame_1140_seg_2_1.jpg: 640x640 1 1Class, 91.0ms\n",
      "Speed: 2.0ms preprocess, 91.0ms inference, 3.0ms postprocess per image at shape (1, 3, 640, 640)\n",
      "\n",
      "image 1/1 C:\\Users\\Vlada\\Documents\\Business\\AI\\AI University\\ 1-        \\DataSet\\dataset_vtormet\\vipeovop\\images\\frame_1100_seg_2_1.jpg: 640x640 (no detections), 88.0ms\n",
      "Speed: 2.0ms preprocess, 88.0ms inference, 1.0ms postprocess per image at shape (1, 3, 640, 640)\n",
      "\n",
      "image 1/1 C:\\Users\\Vlada\\Documents\\Business\\AI\\AI University\\ 1-        \\DataSet\\dataset_vtormet\\vipeovop\\images\\frame_1040_seg_1_1.jpg: 640x640 1 1Class, 90.0ms\n",
      "Speed: 2.0ms preprocess, 90.0ms inference, 3.0ms postprocess per image at shape (1, 3, 640, 640)\n"
     ]
    },
    {
     "data": {
      "text/plain": [
       "<Figure size 2000x1500 with 20 Axes>"
      ]
     },
     "metadata": {},
     "output_type": "display_data"
    }
   ],
   "source": [
    "# Testing 2\n",
    "\n",
    "import os\n",
    "import cv2\n",
    "import random\n",
    "import matplotlib.pyplot as plt\n",
    "from ultralytics import YOLO\n",
    "\n",
    "# Пути к модельным весам и датасету\n",
    "best_model_path = 'runs/detect/train/weights/best.pt'\n",
    "dataset_directory = r'C:\\Users\\Vlada\\Documents\\Business\\AI\\AI University\\Стажировка 1-Создание системы распознавания взрывоопасных предметов для перегружателей металлического лома\\DataSet\\dataset_vtormet'\n",
    "images_folder_test = os.path.join(dataset_directory, 'vipeovop/images')\n",
    "\n",
    "# Инициализация модели\n",
    "model = YOLO(best_model_path)\n",
    "\n",
    "# Получаем список всех файлов изображений\n",
    "image_files = [f for f in os.listdir(images_folder_test) if f.endswith('.jpg')]  # Можно изменить формат\n",
    "\n",
    "# Тестирование на 300 случайных изображениях\n",
    "num_images_to_test = min(300, len(image_files))\n",
    "random_images = random.sample(image_files, num_images_to_test)\n",
    "\n",
    "original_images = []\n",
    "predicted_images = []\n",
    "\n",
    "for img_name in random_images:\n",
    "    img_path = os.path.join(images_folder_test, img_name)\n",
    "    img = cv2.imread(img_path)\n",
    "    original_images.append(img)\n",
    "\n",
    "    # Получаем предсказания модели\n",
    "    results = model.predict(source=img_path)\n",
    "    pred_img = results[0].plot()  # Визуализация предсказания\n",
    "    predicted_images.append(pred_img)\n",
    "\n",
    "# Выбор 10 случайных изображений для визуализации из протестированных 300\n",
    "num_images_to_display = 10\n",
    "images_to_display = random.sample(list(range(num_images_to_test)), num_images_to_display)\n",
    "\n",
    "# Визуализация 10 случайно выбранных изображений и их предсказаний\n",
    "plt.figure(figsize=(20, 15))\n",
    "for i, idx in enumerate(images_to_display):\n",
    "    # Оригинальные изображения\n",
    "    plt.subplot(4, 5, i + 1)\n",
    "    plt.imshow(cv2.cvtColor(original_images[idx], cv2.COLOR_BGR2RGB))\n",
    "    plt.title(f'Original {i+1}')\n",
    "    plt.axis('off')\n",
    "\n",
    "    # Предсказанные изображения\n",
    "    plt.subplot(4, 5, i + 1 + 10)\n",
    "    plt.imshow(cv2.cvtColor(predicted_images[idx], cv2.COLOR_BGR2RGB))\n",
    "    plt.title(f'Predicted {i+1}')\n",
    "    plt.axis('off')\n",
    "\n",
    "plt.show()"
   ]
  }
 ],
 "metadata": {
  "kernelspec": {
   "display_name": "Python 3",
   "language": "python",
   "name": "python3"
  },
  "language_info": {
   "codemirror_mode": {
    "name": "ipython",
    "version": 3
   },
   "file_extension": ".py",
   "mimetype": "text/x-python",
   "name": "python",
   "nbconvert_exporter": "python",
   "pygments_lexer": "ipython3",
   "version": "3.11.9"
  }
 },
 "nbformat": 4,
 "nbformat_minor": 2
}
